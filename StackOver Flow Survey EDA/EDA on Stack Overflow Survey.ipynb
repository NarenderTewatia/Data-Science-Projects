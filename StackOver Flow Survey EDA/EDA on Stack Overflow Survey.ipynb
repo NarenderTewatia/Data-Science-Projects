{
 "cells": [
  {
   "cell_type": "code",
   "execution_count": 1,
   "id": "0ec3873d",
   "metadata": {},
   "outputs": [],
   "source": [
    "import pandas as pd\n",
    "pd.set_option('Display.max_columns',500)\n",
    "import warnings\n",
    "warnings.filterwarnings(action='ignore')"
   ]
  },
  {
   "cell_type": "code",
   "execution_count": 2,
   "id": "546a5c80",
   "metadata": {},
   "outputs": [],
   "source": [
    "df = pd.read_csv('survey_results_public.csv')"
   ]
  },
  {
   "cell_type": "code",
   "execution_count": 3,
   "id": "8cd1b18a",
   "metadata": {},
   "outputs": [
    {
     "data": {
      "text/html": [
       "<div>\n",
       "<style scoped>\n",
       "    .dataframe tbody tr th:only-of-type {\n",
       "        vertical-align: middle;\n",
       "    }\n",
       "\n",
       "    .dataframe tbody tr th {\n",
       "        vertical-align: top;\n",
       "    }\n",
       "\n",
       "    .dataframe thead th {\n",
       "        text-align: right;\n",
       "    }\n",
       "</style>\n",
       "<table border=\"1\" class=\"dataframe\">\n",
       "  <thead>\n",
       "    <tr style=\"text-align: right;\">\n",
       "      <th></th>\n",
       "      <th>Respondent</th>\n",
       "      <th>MainBranch</th>\n",
       "      <th>Hobbyist</th>\n",
       "      <th>OpenSourcer</th>\n",
       "      <th>OpenSource</th>\n",
       "      <th>Employment</th>\n",
       "      <th>Country</th>\n",
       "      <th>Student</th>\n",
       "      <th>EdLevel</th>\n",
       "      <th>UndergradMajor</th>\n",
       "      <th>EduOther</th>\n",
       "      <th>OrgSize</th>\n",
       "      <th>DevType</th>\n",
       "      <th>YearsCode</th>\n",
       "      <th>Age1stCode</th>\n",
       "      <th>YearsCodePro</th>\n",
       "      <th>CareerSat</th>\n",
       "      <th>JobSat</th>\n",
       "      <th>MgrIdiot</th>\n",
       "      <th>MgrMoney</th>\n",
       "      <th>MgrWant</th>\n",
       "      <th>JobSeek</th>\n",
       "      <th>LastHireDate</th>\n",
       "      <th>LastInt</th>\n",
       "      <th>FizzBuzz</th>\n",
       "      <th>JobFactors</th>\n",
       "      <th>ResumeUpdate</th>\n",
       "      <th>CurrencySymbol</th>\n",
       "      <th>CurrencyDesc</th>\n",
       "      <th>CompTotal</th>\n",
       "      <th>CompFreq</th>\n",
       "      <th>ConvertedComp</th>\n",
       "      <th>WorkWeekHrs</th>\n",
       "      <th>WorkPlan</th>\n",
       "      <th>WorkChallenge</th>\n",
       "      <th>WorkRemote</th>\n",
       "      <th>WorkLoc</th>\n",
       "      <th>ImpSyn</th>\n",
       "      <th>CodeRev</th>\n",
       "      <th>CodeRevHrs</th>\n",
       "      <th>UnitTests</th>\n",
       "      <th>PurchaseHow</th>\n",
       "      <th>PurchaseWhat</th>\n",
       "      <th>LanguageWorkedWith</th>\n",
       "      <th>LanguageDesireNextYear</th>\n",
       "      <th>DatabaseWorkedWith</th>\n",
       "      <th>DatabaseDesireNextYear</th>\n",
       "      <th>PlatformWorkedWith</th>\n",
       "      <th>PlatformDesireNextYear</th>\n",
       "      <th>WebFrameWorkedWith</th>\n",
       "      <th>WebFrameDesireNextYear</th>\n",
       "      <th>MiscTechWorkedWith</th>\n",
       "      <th>MiscTechDesireNextYear</th>\n",
       "      <th>DevEnviron</th>\n",
       "      <th>OpSys</th>\n",
       "      <th>Containers</th>\n",
       "      <th>BlockchainOrg</th>\n",
       "      <th>BlockchainIs</th>\n",
       "      <th>BetterLife</th>\n",
       "      <th>ITperson</th>\n",
       "      <th>OffOn</th>\n",
       "      <th>SocialMedia</th>\n",
       "      <th>Extraversion</th>\n",
       "      <th>ScreenName</th>\n",
       "      <th>SOVisit1st</th>\n",
       "      <th>SOVisitFreq</th>\n",
       "      <th>SOVisitTo</th>\n",
       "      <th>SOFindAnswer</th>\n",
       "      <th>SOTimeSaved</th>\n",
       "      <th>SOHowMuchTime</th>\n",
       "      <th>SOAccount</th>\n",
       "      <th>SOPartFreq</th>\n",
       "      <th>SOJobs</th>\n",
       "      <th>EntTeams</th>\n",
       "      <th>SOComm</th>\n",
       "      <th>WelcomeChange</th>\n",
       "      <th>SONewContent</th>\n",
       "      <th>Age</th>\n",
       "      <th>Gender</th>\n",
       "      <th>Trans</th>\n",
       "      <th>Sexuality</th>\n",
       "      <th>Ethnicity</th>\n",
       "      <th>Dependents</th>\n",
       "      <th>SurveyLength</th>\n",
       "      <th>SurveyEase</th>\n",
       "    </tr>\n",
       "  </thead>\n",
       "  <tbody>\n",
       "    <tr>\n",
       "      <th>0</th>\n",
       "      <td>1</td>\n",
       "      <td>I am a student who is learning to code</td>\n",
       "      <td>Yes</td>\n",
       "      <td>Never</td>\n",
       "      <td>The quality of OSS and closed source software ...</td>\n",
       "      <td>Not employed, and not looking for work</td>\n",
       "      <td>United Kingdom</td>\n",
       "      <td>No</td>\n",
       "      <td>Primary/elementary school</td>\n",
       "      <td>NaN</td>\n",
       "      <td>Taught yourself a new language, framework, or ...</td>\n",
       "      <td>NaN</td>\n",
       "      <td>NaN</td>\n",
       "      <td>4</td>\n",
       "      <td>10</td>\n",
       "      <td>NaN</td>\n",
       "      <td>NaN</td>\n",
       "      <td>NaN</td>\n",
       "      <td>NaN</td>\n",
       "      <td>NaN</td>\n",
       "      <td>NaN</td>\n",
       "      <td>NaN</td>\n",
       "      <td>NaN</td>\n",
       "      <td>NaN</td>\n",
       "      <td>NaN</td>\n",
       "      <td>NaN</td>\n",
       "      <td>NaN</td>\n",
       "      <td>NaN</td>\n",
       "      <td>NaN</td>\n",
       "      <td>NaN</td>\n",
       "      <td>NaN</td>\n",
       "      <td>NaN</td>\n",
       "      <td>NaN</td>\n",
       "      <td>NaN</td>\n",
       "      <td>NaN</td>\n",
       "      <td>NaN</td>\n",
       "      <td>NaN</td>\n",
       "      <td>NaN</td>\n",
       "      <td>NaN</td>\n",
       "      <td>NaN</td>\n",
       "      <td>NaN</td>\n",
       "      <td>NaN</td>\n",
       "      <td>NaN</td>\n",
       "      <td>HTML/CSS;Java;JavaScript;Python</td>\n",
       "      <td>C;C++;C#;Go;HTML/CSS;Java;JavaScript;Python;SQL</td>\n",
       "      <td>SQLite</td>\n",
       "      <td>MySQL</td>\n",
       "      <td>MacOS;Windows</td>\n",
       "      <td>Android;Arduino;Windows</td>\n",
       "      <td>Django;Flask</td>\n",
       "      <td>Flask;jQuery</td>\n",
       "      <td>Node.js</td>\n",
       "      <td>Node.js</td>\n",
       "      <td>IntelliJ;Notepad++;PyCharm</td>\n",
       "      <td>Windows</td>\n",
       "      <td>I do not use containers</td>\n",
       "      <td>NaN</td>\n",
       "      <td>NaN</td>\n",
       "      <td>Yes</td>\n",
       "      <td>Fortunately, someone else has that title</td>\n",
       "      <td>Yes</td>\n",
       "      <td>Twitter</td>\n",
       "      <td>Online</td>\n",
       "      <td>Username</td>\n",
       "      <td>2017</td>\n",
       "      <td>A few times per month or weekly</td>\n",
       "      <td>Find answers to specific questions;Learn how t...</td>\n",
       "      <td>3-5 times per week</td>\n",
       "      <td>Stack Overflow was much faster</td>\n",
       "      <td>31-60 minutes</td>\n",
       "      <td>No</td>\n",
       "      <td>NaN</td>\n",
       "      <td>No, I didn't know that Stack Overflow had a jo...</td>\n",
       "      <td>No, and I don't know what those are</td>\n",
       "      <td>Neutral</td>\n",
       "      <td>Just as welcome now as I felt last year</td>\n",
       "      <td>Tech articles written by other developers;Indu...</td>\n",
       "      <td>14.0</td>\n",
       "      <td>Man</td>\n",
       "      <td>No</td>\n",
       "      <td>Straight / Heterosexual</td>\n",
       "      <td>NaN</td>\n",
       "      <td>No</td>\n",
       "      <td>Appropriate in length</td>\n",
       "      <td>Neither easy nor difficult</td>\n",
       "    </tr>\n",
       "    <tr>\n",
       "      <th>1</th>\n",
       "      <td>2</td>\n",
       "      <td>I am a student who is learning to code</td>\n",
       "      <td>No</td>\n",
       "      <td>Less than once per year</td>\n",
       "      <td>The quality of OSS and closed source software ...</td>\n",
       "      <td>Not employed, but looking for work</td>\n",
       "      <td>Bosnia and Herzegovina</td>\n",
       "      <td>Yes, full-time</td>\n",
       "      <td>Secondary school (e.g. American high school, G...</td>\n",
       "      <td>NaN</td>\n",
       "      <td>Taken an online course in programming or softw...</td>\n",
       "      <td>NaN</td>\n",
       "      <td>Developer, desktop or enterprise applications;...</td>\n",
       "      <td>NaN</td>\n",
       "      <td>17</td>\n",
       "      <td>NaN</td>\n",
       "      <td>NaN</td>\n",
       "      <td>NaN</td>\n",
       "      <td>NaN</td>\n",
       "      <td>NaN</td>\n",
       "      <td>NaN</td>\n",
       "      <td>I am actively looking for a job</td>\n",
       "      <td>I've never had a job</td>\n",
       "      <td>NaN</td>\n",
       "      <td>NaN</td>\n",
       "      <td>Financial performance or funding status of the...</td>\n",
       "      <td>Something else changed (education, award, medi...</td>\n",
       "      <td>NaN</td>\n",
       "      <td>NaN</td>\n",
       "      <td>NaN</td>\n",
       "      <td>NaN</td>\n",
       "      <td>NaN</td>\n",
       "      <td>NaN</td>\n",
       "      <td>NaN</td>\n",
       "      <td>NaN</td>\n",
       "      <td>NaN</td>\n",
       "      <td>NaN</td>\n",
       "      <td>NaN</td>\n",
       "      <td>NaN</td>\n",
       "      <td>NaN</td>\n",
       "      <td>NaN</td>\n",
       "      <td>NaN</td>\n",
       "      <td>NaN</td>\n",
       "      <td>C++;HTML/CSS;Python</td>\n",
       "      <td>C++;HTML/CSS;JavaScript;SQL</td>\n",
       "      <td>NaN</td>\n",
       "      <td>MySQL</td>\n",
       "      <td>Windows</td>\n",
       "      <td>Windows</td>\n",
       "      <td>Django</td>\n",
       "      <td>Django</td>\n",
       "      <td>NaN</td>\n",
       "      <td>NaN</td>\n",
       "      <td>Atom;PyCharm</td>\n",
       "      <td>Windows</td>\n",
       "      <td>I do not use containers</td>\n",
       "      <td>NaN</td>\n",
       "      <td>Useful across many domains and could change ma...</td>\n",
       "      <td>Yes</td>\n",
       "      <td>Yes</td>\n",
       "      <td>Yes</td>\n",
       "      <td>Instagram</td>\n",
       "      <td>Online</td>\n",
       "      <td>Username</td>\n",
       "      <td>2017</td>\n",
       "      <td>Daily or almost daily</td>\n",
       "      <td>Find answers to specific questions;Learn how t...</td>\n",
       "      <td>3-5 times per week</td>\n",
       "      <td>Stack Overflow was much faster</td>\n",
       "      <td>11-30 minutes</td>\n",
       "      <td>Yes</td>\n",
       "      <td>A few times per month or weekly</td>\n",
       "      <td>No, I knew that Stack Overflow had a job board...</td>\n",
       "      <td>No, and I don't know what those are</td>\n",
       "      <td>Yes, somewhat</td>\n",
       "      <td>Just as welcome now as I felt last year</td>\n",
       "      <td>Tech articles written by other developers;Indu...</td>\n",
       "      <td>19.0</td>\n",
       "      <td>Man</td>\n",
       "      <td>No</td>\n",
       "      <td>Straight / Heterosexual</td>\n",
       "      <td>NaN</td>\n",
       "      <td>No</td>\n",
       "      <td>Appropriate in length</td>\n",
       "      <td>Neither easy nor difficult</td>\n",
       "    </tr>\n",
       "    <tr>\n",
       "      <th>2</th>\n",
       "      <td>3</td>\n",
       "      <td>I am not primarily a developer, but I write co...</td>\n",
       "      <td>Yes</td>\n",
       "      <td>Never</td>\n",
       "      <td>The quality of OSS and closed source software ...</td>\n",
       "      <td>Employed full-time</td>\n",
       "      <td>Thailand</td>\n",
       "      <td>No</td>\n",
       "      <td>Bachelor’s degree (BA, BS, B.Eng., etc.)</td>\n",
       "      <td>Web development or web design</td>\n",
       "      <td>Taught yourself a new language, framework, or ...</td>\n",
       "      <td>100 to 499 employees</td>\n",
       "      <td>Designer;Developer, back-end;Developer, front-...</td>\n",
       "      <td>3</td>\n",
       "      <td>22</td>\n",
       "      <td>1</td>\n",
       "      <td>Slightly satisfied</td>\n",
       "      <td>Slightly satisfied</td>\n",
       "      <td>Not at all confident</td>\n",
       "      <td>Not sure</td>\n",
       "      <td>Not sure</td>\n",
       "      <td>I’m not actively looking, but I am open to new...</td>\n",
       "      <td>1-2 years ago</td>\n",
       "      <td>Interview with people in peer roles</td>\n",
       "      <td>No</td>\n",
       "      <td>Languages, frameworks, and other technologies ...</td>\n",
       "      <td>I was preparing for a job search</td>\n",
       "      <td>THB</td>\n",
       "      <td>Thai baht</td>\n",
       "      <td>23000.0</td>\n",
       "      <td>Monthly</td>\n",
       "      <td>8820.0</td>\n",
       "      <td>40.0</td>\n",
       "      <td>There's no schedule or spec; I work on what se...</td>\n",
       "      <td>Distracting work environment;Inadequate access...</td>\n",
       "      <td>Less than once per month / Never</td>\n",
       "      <td>Home</td>\n",
       "      <td>Average</td>\n",
       "      <td>No</td>\n",
       "      <td>NaN</td>\n",
       "      <td>No, but I think we should</td>\n",
       "      <td>Not sure</td>\n",
       "      <td>I have little or no influence</td>\n",
       "      <td>HTML/CSS</td>\n",
       "      <td>Elixir;HTML/CSS</td>\n",
       "      <td>PostgreSQL</td>\n",
       "      <td>PostgreSQL</td>\n",
       "      <td>NaN</td>\n",
       "      <td>NaN</td>\n",
       "      <td>NaN</td>\n",
       "      <td>Other(s):</td>\n",
       "      <td>NaN</td>\n",
       "      <td>NaN</td>\n",
       "      <td>Vim;Visual Studio Code</td>\n",
       "      <td>Linux-based</td>\n",
       "      <td>I do not use containers</td>\n",
       "      <td>NaN</td>\n",
       "      <td>NaN</td>\n",
       "      <td>Yes</td>\n",
       "      <td>Yes</td>\n",
       "      <td>Yes</td>\n",
       "      <td>Reddit</td>\n",
       "      <td>In real life (in person)</td>\n",
       "      <td>Username</td>\n",
       "      <td>2011</td>\n",
       "      <td>A few times per week</td>\n",
       "      <td>Find answers to specific questions;Learn how t...</td>\n",
       "      <td>6-10 times per week</td>\n",
       "      <td>They were about the same</td>\n",
       "      <td>NaN</td>\n",
       "      <td>Yes</td>\n",
       "      <td>Less than once per month or monthly</td>\n",
       "      <td>Yes</td>\n",
       "      <td>No, I've heard of them, but I am not part of a...</td>\n",
       "      <td>Neutral</td>\n",
       "      <td>Just as welcome now as I felt last year</td>\n",
       "      <td>Tech meetups or events in your area;Courses on...</td>\n",
       "      <td>28.0</td>\n",
       "      <td>Man</td>\n",
       "      <td>No</td>\n",
       "      <td>Straight / Heterosexual</td>\n",
       "      <td>NaN</td>\n",
       "      <td>Yes</td>\n",
       "      <td>Appropriate in length</td>\n",
       "      <td>Neither easy nor difficult</td>\n",
       "    </tr>\n",
       "    <tr>\n",
       "      <th>3</th>\n",
       "      <td>4</td>\n",
       "      <td>I am a developer by profession</td>\n",
       "      <td>No</td>\n",
       "      <td>Never</td>\n",
       "      <td>The quality of OSS and closed source software ...</td>\n",
       "      <td>Employed full-time</td>\n",
       "      <td>United States</td>\n",
       "      <td>No</td>\n",
       "      <td>Bachelor’s degree (BA, BS, B.Eng., etc.)</td>\n",
       "      <td>Computer science, computer engineering, or sof...</td>\n",
       "      <td>Taken an online course in programming or softw...</td>\n",
       "      <td>100 to 499 employees</td>\n",
       "      <td>Developer, full-stack</td>\n",
       "      <td>3</td>\n",
       "      <td>16</td>\n",
       "      <td>Less than 1 year</td>\n",
       "      <td>Very satisfied</td>\n",
       "      <td>Slightly satisfied</td>\n",
       "      <td>Very confident</td>\n",
       "      <td>No</td>\n",
       "      <td>Not sure</td>\n",
       "      <td>I am not interested in new job opportunities</td>\n",
       "      <td>Less than a year ago</td>\n",
       "      <td>Write code by hand (e.g., on a whiteboard);Int...</td>\n",
       "      <td>No</td>\n",
       "      <td>Languages, frameworks, and other technologies ...</td>\n",
       "      <td>I was preparing for a job search</td>\n",
       "      <td>USD</td>\n",
       "      <td>United States dollar</td>\n",
       "      <td>61000.0</td>\n",
       "      <td>Yearly</td>\n",
       "      <td>61000.0</td>\n",
       "      <td>80.0</td>\n",
       "      <td>There's no schedule or spec; I work on what se...</td>\n",
       "      <td>NaN</td>\n",
       "      <td>Less than once per month / Never</td>\n",
       "      <td>Home</td>\n",
       "      <td>A little below average</td>\n",
       "      <td>No</td>\n",
       "      <td>NaN</td>\n",
       "      <td>No, but I think we should</td>\n",
       "      <td>Developers typically have the most influence o...</td>\n",
       "      <td>I have little or no influence</td>\n",
       "      <td>C;C++;C#;Python;SQL</td>\n",
       "      <td>C;C#;JavaScript;SQL</td>\n",
       "      <td>MySQL;SQLite</td>\n",
       "      <td>MySQL;SQLite</td>\n",
       "      <td>Linux;Windows</td>\n",
       "      <td>Linux;Windows</td>\n",
       "      <td>NaN</td>\n",
       "      <td>NaN</td>\n",
       "      <td>.NET</td>\n",
       "      <td>.NET</td>\n",
       "      <td>Eclipse;Vim;Visual Studio;Visual Studio Code</td>\n",
       "      <td>Windows</td>\n",
       "      <td>I do not use containers</td>\n",
       "      <td>Not at all</td>\n",
       "      <td>Useful for decentralized currency (i.e., Bitcoin)</td>\n",
       "      <td>Yes</td>\n",
       "      <td>SIGH</td>\n",
       "      <td>Yes</td>\n",
       "      <td>Reddit</td>\n",
       "      <td>In real life (in person)</td>\n",
       "      <td>Username</td>\n",
       "      <td>2014</td>\n",
       "      <td>Daily or almost daily</td>\n",
       "      <td>Find answers to specific questions;Pass the ti...</td>\n",
       "      <td>1-2 times per week</td>\n",
       "      <td>Stack Overflow was much faster</td>\n",
       "      <td>31-60 minutes</td>\n",
       "      <td>Yes</td>\n",
       "      <td>Less than once per month or monthly</td>\n",
       "      <td>Yes</td>\n",
       "      <td>No, and I don't know what those are</td>\n",
       "      <td>No, not really</td>\n",
       "      <td>Just as welcome now as I felt last year</td>\n",
       "      <td>Tech articles written by other developers;Indu...</td>\n",
       "      <td>22.0</td>\n",
       "      <td>Man</td>\n",
       "      <td>No</td>\n",
       "      <td>Straight / Heterosexual</td>\n",
       "      <td>White or of European descent</td>\n",
       "      <td>No</td>\n",
       "      <td>Appropriate in length</td>\n",
       "      <td>Easy</td>\n",
       "    </tr>\n",
       "    <tr>\n",
       "      <th>4</th>\n",
       "      <td>5</td>\n",
       "      <td>I am a developer by profession</td>\n",
       "      <td>Yes</td>\n",
       "      <td>Once a month or more often</td>\n",
       "      <td>OSS is, on average, of HIGHER quality than pro...</td>\n",
       "      <td>Employed full-time</td>\n",
       "      <td>Ukraine</td>\n",
       "      <td>No</td>\n",
       "      <td>Bachelor’s degree (BA, BS, B.Eng., etc.)</td>\n",
       "      <td>Computer science, computer engineering, or sof...</td>\n",
       "      <td>Taken an online course in programming or softw...</td>\n",
       "      <td>10,000 or more employees</td>\n",
       "      <td>Academic researcher;Developer, desktop or ente...</td>\n",
       "      <td>16</td>\n",
       "      <td>14</td>\n",
       "      <td>9</td>\n",
       "      <td>Very dissatisfied</td>\n",
       "      <td>Slightly dissatisfied</td>\n",
       "      <td>Somewhat confident</td>\n",
       "      <td>Yes</td>\n",
       "      <td>No</td>\n",
       "      <td>I am not interested in new job opportunities</td>\n",
       "      <td>Less than a year ago</td>\n",
       "      <td>Write any code;Write code by hand (e.g., on a ...</td>\n",
       "      <td>No</td>\n",
       "      <td>Industry that I'd be working in;Languages, fra...</td>\n",
       "      <td>I was preparing for a job search</td>\n",
       "      <td>UAH</td>\n",
       "      <td>Ukrainian hryvnia</td>\n",
       "      <td>NaN</td>\n",
       "      <td>NaN</td>\n",
       "      <td>NaN</td>\n",
       "      <td>55.0</td>\n",
       "      <td>There is a schedule and/or spec (made by me or...</td>\n",
       "      <td>Being tasked with non-development work;Inadequ...</td>\n",
       "      <td>A few days each month</td>\n",
       "      <td>Office</td>\n",
       "      <td>A little above average</td>\n",
       "      <td>Yes, because I see value in code review</td>\n",
       "      <td>NaN</td>\n",
       "      <td>Yes, it's part of our process</td>\n",
       "      <td>Not sure</td>\n",
       "      <td>I have little or no influence</td>\n",
       "      <td>C++;HTML/CSS;Java;JavaScript;Python;SQL;VBA</td>\n",
       "      <td>HTML/CSS;Java;JavaScript;SQL;WebAssembly</td>\n",
       "      <td>Couchbase;MongoDB;MySQL;Oracle;PostgreSQL;SQLite</td>\n",
       "      <td>Couchbase;Firebase;MongoDB;MySQL;Oracle;Postgr...</td>\n",
       "      <td>Android;Linux;MacOS;Slack;Windows</td>\n",
       "      <td>Android;Docker;Kubernetes;Linux;Slack</td>\n",
       "      <td>Django;Express;Flask;jQuery;React.js;Spring</td>\n",
       "      <td>Flask;jQuery;React.js;Spring</td>\n",
       "      <td>Cordova;Node.js</td>\n",
       "      <td>Apache Spark;Hadoop;Node.js;React Native</td>\n",
       "      <td>IntelliJ;Notepad++;Vim</td>\n",
       "      <td>Linux-based</td>\n",
       "      <td>Outside of work, for personal projects</td>\n",
       "      <td>Not at all</td>\n",
       "      <td>NaN</td>\n",
       "      <td>Yes</td>\n",
       "      <td>Also Yes</td>\n",
       "      <td>Yes</td>\n",
       "      <td>Facebook</td>\n",
       "      <td>In real life (in person)</td>\n",
       "      <td>Username</td>\n",
       "      <td>I don't remember</td>\n",
       "      <td>Multiple times per day</td>\n",
       "      <td>Find answers to specific questions</td>\n",
       "      <td>More than 10 times per week</td>\n",
       "      <td>Stack Overflow was much faster</td>\n",
       "      <td>NaN</td>\n",
       "      <td>Yes</td>\n",
       "      <td>A few times per month or weekly</td>\n",
       "      <td>No, I knew that Stack Overflow had a job board...</td>\n",
       "      <td>No, I've heard of them, but I am not part of a...</td>\n",
       "      <td>Yes, definitely</td>\n",
       "      <td>Just as welcome now as I felt last year</td>\n",
       "      <td>Tech meetups or events in your area;Courses on...</td>\n",
       "      <td>30.0</td>\n",
       "      <td>Man</td>\n",
       "      <td>No</td>\n",
       "      <td>Straight / Heterosexual</td>\n",
       "      <td>White or of European descent;Multiracial</td>\n",
       "      <td>No</td>\n",
       "      <td>Appropriate in length</td>\n",
       "      <td>Easy</td>\n",
       "    </tr>\n",
       "  </tbody>\n",
       "</table>\n",
       "</div>"
      ],
      "text/plain": [
       "   Respondent                                         MainBranch Hobbyist  \\\n",
       "0           1             I am a student who is learning to code      Yes   \n",
       "1           2             I am a student who is learning to code       No   \n",
       "2           3  I am not primarily a developer, but I write co...      Yes   \n",
       "3           4                     I am a developer by profession       No   \n",
       "4           5                     I am a developer by profession      Yes   \n",
       "\n",
       "                  OpenSourcer  \\\n",
       "0                       Never   \n",
       "1     Less than once per year   \n",
       "2                       Never   \n",
       "3                       Never   \n",
       "4  Once a month or more often   \n",
       "\n",
       "                                          OpenSource  \\\n",
       "0  The quality of OSS and closed source software ...   \n",
       "1  The quality of OSS and closed source software ...   \n",
       "2  The quality of OSS and closed source software ...   \n",
       "3  The quality of OSS and closed source software ...   \n",
       "4  OSS is, on average, of HIGHER quality than pro...   \n",
       "\n",
       "                               Employment                 Country  \\\n",
       "0  Not employed, and not looking for work          United Kingdom   \n",
       "1      Not employed, but looking for work  Bosnia and Herzegovina   \n",
       "2                      Employed full-time                Thailand   \n",
       "3                      Employed full-time           United States   \n",
       "4                      Employed full-time                 Ukraine   \n",
       "\n",
       "          Student                                            EdLevel  \\\n",
       "0              No                          Primary/elementary school   \n",
       "1  Yes, full-time  Secondary school (e.g. American high school, G...   \n",
       "2              No           Bachelor’s degree (BA, BS, B.Eng., etc.)   \n",
       "3              No           Bachelor’s degree (BA, BS, B.Eng., etc.)   \n",
       "4              No           Bachelor’s degree (BA, BS, B.Eng., etc.)   \n",
       "\n",
       "                                      UndergradMajor  \\\n",
       "0                                                NaN   \n",
       "1                                                NaN   \n",
       "2                      Web development or web design   \n",
       "3  Computer science, computer engineering, or sof...   \n",
       "4  Computer science, computer engineering, or sof...   \n",
       "\n",
       "                                            EduOther  \\\n",
       "0  Taught yourself a new language, framework, or ...   \n",
       "1  Taken an online course in programming or softw...   \n",
       "2  Taught yourself a new language, framework, or ...   \n",
       "3  Taken an online course in programming or softw...   \n",
       "4  Taken an online course in programming or softw...   \n",
       "\n",
       "                    OrgSize  \\\n",
       "0                       NaN   \n",
       "1                       NaN   \n",
       "2      100 to 499 employees   \n",
       "3      100 to 499 employees   \n",
       "4  10,000 or more employees   \n",
       "\n",
       "                                             DevType YearsCode Age1stCode  \\\n",
       "0                                                NaN         4         10   \n",
       "1  Developer, desktop or enterprise applications;...       NaN         17   \n",
       "2  Designer;Developer, back-end;Developer, front-...         3         22   \n",
       "3                              Developer, full-stack         3         16   \n",
       "4  Academic researcher;Developer, desktop or ente...        16         14   \n",
       "\n",
       "       YearsCodePro           CareerSat                 JobSat  \\\n",
       "0               NaN                 NaN                    NaN   \n",
       "1               NaN                 NaN                    NaN   \n",
       "2                 1  Slightly satisfied     Slightly satisfied   \n",
       "3  Less than 1 year      Very satisfied     Slightly satisfied   \n",
       "4                 9   Very dissatisfied  Slightly dissatisfied   \n",
       "\n",
       "               MgrIdiot  MgrMoney   MgrWant  \\\n",
       "0                   NaN       NaN       NaN   \n",
       "1                   NaN       NaN       NaN   \n",
       "2  Not at all confident  Not sure  Not sure   \n",
       "3        Very confident        No  Not sure   \n",
       "4    Somewhat confident       Yes        No   \n",
       "\n",
       "                                             JobSeek          LastHireDate  \\\n",
       "0                                                NaN                   NaN   \n",
       "1                    I am actively looking for a job  I've never had a job   \n",
       "2  I’m not actively looking, but I am open to new...         1-2 years ago   \n",
       "3       I am not interested in new job opportunities  Less than a year ago   \n",
       "4       I am not interested in new job opportunities  Less than a year ago   \n",
       "\n",
       "                                             LastInt FizzBuzz  \\\n",
       "0                                                NaN      NaN   \n",
       "1                                                NaN      NaN   \n",
       "2                Interview with people in peer roles       No   \n",
       "3  Write code by hand (e.g., on a whiteboard);Int...       No   \n",
       "4  Write any code;Write code by hand (e.g., on a ...       No   \n",
       "\n",
       "                                          JobFactors  \\\n",
       "0                                                NaN   \n",
       "1  Financial performance or funding status of the...   \n",
       "2  Languages, frameworks, and other technologies ...   \n",
       "3  Languages, frameworks, and other technologies ...   \n",
       "4  Industry that I'd be working in;Languages, fra...   \n",
       "\n",
       "                                        ResumeUpdate CurrencySymbol  \\\n",
       "0                                                NaN            NaN   \n",
       "1  Something else changed (education, award, medi...            NaN   \n",
       "2                   I was preparing for a job search            THB   \n",
       "3                   I was preparing for a job search            USD   \n",
       "4                   I was preparing for a job search            UAH   \n",
       "\n",
       "           CurrencyDesc  CompTotal CompFreq  ConvertedComp  WorkWeekHrs  \\\n",
       "0                   NaN        NaN      NaN            NaN          NaN   \n",
       "1                   NaN        NaN      NaN            NaN          NaN   \n",
       "2             Thai baht    23000.0  Monthly         8820.0         40.0   \n",
       "3  United States dollar    61000.0   Yearly        61000.0         80.0   \n",
       "4     Ukrainian hryvnia        NaN      NaN            NaN         55.0   \n",
       "\n",
       "                                            WorkPlan  \\\n",
       "0                                                NaN   \n",
       "1                                                NaN   \n",
       "2  There's no schedule or spec; I work on what se...   \n",
       "3  There's no schedule or spec; I work on what se...   \n",
       "4  There is a schedule and/or spec (made by me or...   \n",
       "\n",
       "                                       WorkChallenge  \\\n",
       "0                                                NaN   \n",
       "1                                                NaN   \n",
       "2  Distracting work environment;Inadequate access...   \n",
       "3                                                NaN   \n",
       "4  Being tasked with non-development work;Inadequ...   \n",
       "\n",
       "                         WorkRemote WorkLoc                  ImpSyn  \\\n",
       "0                               NaN     NaN                     NaN   \n",
       "1                               NaN     NaN                     NaN   \n",
       "2  Less than once per month / Never    Home                 Average   \n",
       "3  Less than once per month / Never    Home  A little below average   \n",
       "4             A few days each month  Office  A little above average   \n",
       "\n",
       "                                   CodeRev  CodeRevHrs  \\\n",
       "0                                      NaN         NaN   \n",
       "1                                      NaN         NaN   \n",
       "2                                       No         NaN   \n",
       "3                                       No         NaN   \n",
       "4  Yes, because I see value in code review         NaN   \n",
       "\n",
       "                       UnitTests  \\\n",
       "0                            NaN   \n",
       "1                            NaN   \n",
       "2      No, but I think we should   \n",
       "3      No, but I think we should   \n",
       "4  Yes, it's part of our process   \n",
       "\n",
       "                                         PurchaseHow  \\\n",
       "0                                                NaN   \n",
       "1                                                NaN   \n",
       "2                                           Not sure   \n",
       "3  Developers typically have the most influence o...   \n",
       "4                                           Not sure   \n",
       "\n",
       "                    PurchaseWhat                           LanguageWorkedWith  \\\n",
       "0                            NaN              HTML/CSS;Java;JavaScript;Python   \n",
       "1                            NaN                          C++;HTML/CSS;Python   \n",
       "2  I have little or no influence                                     HTML/CSS   \n",
       "3  I have little or no influence                          C;C++;C#;Python;SQL   \n",
       "4  I have little or no influence  C++;HTML/CSS;Java;JavaScript;Python;SQL;VBA   \n",
       "\n",
       "                            LanguageDesireNextYear  \\\n",
       "0  C;C++;C#;Go;HTML/CSS;Java;JavaScript;Python;SQL   \n",
       "1                      C++;HTML/CSS;JavaScript;SQL   \n",
       "2                                  Elixir;HTML/CSS   \n",
       "3                              C;C#;JavaScript;SQL   \n",
       "4         HTML/CSS;Java;JavaScript;SQL;WebAssembly   \n",
       "\n",
       "                                 DatabaseWorkedWith  \\\n",
       "0                                            SQLite   \n",
       "1                                               NaN   \n",
       "2                                        PostgreSQL   \n",
       "3                                      MySQL;SQLite   \n",
       "4  Couchbase;MongoDB;MySQL;Oracle;PostgreSQL;SQLite   \n",
       "\n",
       "                              DatabaseDesireNextYear  \\\n",
       "0                                              MySQL   \n",
       "1                                              MySQL   \n",
       "2                                         PostgreSQL   \n",
       "3                                       MySQL;SQLite   \n",
       "4  Couchbase;Firebase;MongoDB;MySQL;Oracle;Postgr...   \n",
       "\n",
       "                  PlatformWorkedWith                 PlatformDesireNextYear  \\\n",
       "0                      MacOS;Windows                Android;Arduino;Windows   \n",
       "1                            Windows                                Windows   \n",
       "2                                NaN                                    NaN   \n",
       "3                      Linux;Windows                          Linux;Windows   \n",
       "4  Android;Linux;MacOS;Slack;Windows  Android;Docker;Kubernetes;Linux;Slack   \n",
       "\n",
       "                            WebFrameWorkedWith        WebFrameDesireNextYear  \\\n",
       "0                                 Django;Flask                  Flask;jQuery   \n",
       "1                                       Django                        Django   \n",
       "2                                          NaN                     Other(s):   \n",
       "3                                          NaN                           NaN   \n",
       "4  Django;Express;Flask;jQuery;React.js;Spring  Flask;jQuery;React.js;Spring   \n",
       "\n",
       "  MiscTechWorkedWith                    MiscTechDesireNextYear  \\\n",
       "0            Node.js                                   Node.js   \n",
       "1                NaN                                       NaN   \n",
       "2                NaN                                       NaN   \n",
       "3               .NET                                      .NET   \n",
       "4    Cordova;Node.js  Apache Spark;Hadoop;Node.js;React Native   \n",
       "\n",
       "                                     DevEnviron        OpSys  \\\n",
       "0                    IntelliJ;Notepad++;PyCharm      Windows   \n",
       "1                                  Atom;PyCharm      Windows   \n",
       "2                        Vim;Visual Studio Code  Linux-based   \n",
       "3  Eclipse;Vim;Visual Studio;Visual Studio Code      Windows   \n",
       "4                        IntelliJ;Notepad++;Vim  Linux-based   \n",
       "\n",
       "                               Containers BlockchainOrg  \\\n",
       "0                 I do not use containers           NaN   \n",
       "1                 I do not use containers           NaN   \n",
       "2                 I do not use containers           NaN   \n",
       "3                 I do not use containers    Not at all   \n",
       "4  Outside of work, for personal projects    Not at all   \n",
       "\n",
       "                                        BlockchainIs BetterLife  \\\n",
       "0                                                NaN        Yes   \n",
       "1  Useful across many domains and could change ma...        Yes   \n",
       "2                                                NaN        Yes   \n",
       "3  Useful for decentralized currency (i.e., Bitcoin)        Yes   \n",
       "4                                                NaN        Yes   \n",
       "\n",
       "                                   ITperson OffOn SocialMedia  \\\n",
       "0  Fortunately, someone else has that title   Yes     Twitter   \n",
       "1                                       Yes   Yes   Instagram   \n",
       "2                                       Yes   Yes      Reddit   \n",
       "3                                      SIGH   Yes      Reddit   \n",
       "4                                  Also Yes   Yes    Facebook   \n",
       "\n",
       "               Extraversion ScreenName        SOVisit1st  \\\n",
       "0                    Online   Username              2017   \n",
       "1                    Online   Username              2017   \n",
       "2  In real life (in person)   Username              2011   \n",
       "3  In real life (in person)   Username              2014   \n",
       "4  In real life (in person)   Username  I don't remember   \n",
       "\n",
       "                       SOVisitFreq  \\\n",
       "0  A few times per month or weekly   \n",
       "1            Daily or almost daily   \n",
       "2             A few times per week   \n",
       "3            Daily or almost daily   \n",
       "4           Multiple times per day   \n",
       "\n",
       "                                           SOVisitTo  \\\n",
       "0  Find answers to specific questions;Learn how t...   \n",
       "1  Find answers to specific questions;Learn how t...   \n",
       "2  Find answers to specific questions;Learn how t...   \n",
       "3  Find answers to specific questions;Pass the ti...   \n",
       "4                 Find answers to specific questions   \n",
       "\n",
       "                  SOFindAnswer                     SOTimeSaved  SOHowMuchTime  \\\n",
       "0           3-5 times per week  Stack Overflow was much faster  31-60 minutes   \n",
       "1           3-5 times per week  Stack Overflow was much faster  11-30 minutes   \n",
       "2          6-10 times per week        They were about the same            NaN   \n",
       "3           1-2 times per week  Stack Overflow was much faster  31-60 minutes   \n",
       "4  More than 10 times per week  Stack Overflow was much faster            NaN   \n",
       "\n",
       "  SOAccount                           SOPartFreq  \\\n",
       "0        No                                  NaN   \n",
       "1       Yes      A few times per month or weekly   \n",
       "2       Yes  Less than once per month or monthly   \n",
       "3       Yes  Less than once per month or monthly   \n",
       "4       Yes      A few times per month or weekly   \n",
       "\n",
       "                                              SOJobs  \\\n",
       "0  No, I didn't know that Stack Overflow had a jo...   \n",
       "1  No, I knew that Stack Overflow had a job board...   \n",
       "2                                                Yes   \n",
       "3                                                Yes   \n",
       "4  No, I knew that Stack Overflow had a job board...   \n",
       "\n",
       "                                            EntTeams           SOComm  \\\n",
       "0                No, and I don't know what those are          Neutral   \n",
       "1                No, and I don't know what those are    Yes, somewhat   \n",
       "2  No, I've heard of them, but I am not part of a...          Neutral   \n",
       "3                No, and I don't know what those are   No, not really   \n",
       "4  No, I've heard of them, but I am not part of a...  Yes, definitely   \n",
       "\n",
       "                             WelcomeChange  \\\n",
       "0  Just as welcome now as I felt last year   \n",
       "1  Just as welcome now as I felt last year   \n",
       "2  Just as welcome now as I felt last year   \n",
       "3  Just as welcome now as I felt last year   \n",
       "4  Just as welcome now as I felt last year   \n",
       "\n",
       "                                        SONewContent   Age Gender Trans  \\\n",
       "0  Tech articles written by other developers;Indu...  14.0    Man    No   \n",
       "1  Tech articles written by other developers;Indu...  19.0    Man    No   \n",
       "2  Tech meetups or events in your area;Courses on...  28.0    Man    No   \n",
       "3  Tech articles written by other developers;Indu...  22.0    Man    No   \n",
       "4  Tech meetups or events in your area;Courses on...  30.0    Man    No   \n",
       "\n",
       "                 Sexuality                                 Ethnicity  \\\n",
       "0  Straight / Heterosexual                                       NaN   \n",
       "1  Straight / Heterosexual                                       NaN   \n",
       "2  Straight / Heterosexual                                       NaN   \n",
       "3  Straight / Heterosexual              White or of European descent   \n",
       "4  Straight / Heterosexual  White or of European descent;Multiracial   \n",
       "\n",
       "  Dependents           SurveyLength                  SurveyEase  \n",
       "0         No  Appropriate in length  Neither easy nor difficult  \n",
       "1         No  Appropriate in length  Neither easy nor difficult  \n",
       "2        Yes  Appropriate in length  Neither easy nor difficult  \n",
       "3         No  Appropriate in length                        Easy  \n",
       "4         No  Appropriate in length                        Easy  "
      ]
     },
     "execution_count": 3,
     "metadata": {},
     "output_type": "execute_result"
    }
   ],
   "source": [
    "df.head()"
   ]
  },
  {
   "cell_type": "code",
   "execution_count": 4,
   "id": "84c71b5e",
   "metadata": {},
   "outputs": [
    {
     "data": {
      "text/plain": [
       "Index(['Respondent', 'MainBranch', 'Hobbyist', 'OpenSourcer', 'OpenSource',\n",
       "       'Employment', 'Country', 'Student', 'EdLevel', 'UndergradMajor',\n",
       "       'EduOther', 'OrgSize', 'DevType', 'YearsCode', 'Age1stCode',\n",
       "       'YearsCodePro', 'CareerSat', 'JobSat', 'MgrIdiot', 'MgrMoney',\n",
       "       'MgrWant', 'JobSeek', 'LastHireDate', 'LastInt', 'FizzBuzz',\n",
       "       'JobFactors', 'ResumeUpdate', 'CurrencySymbol', 'CurrencyDesc',\n",
       "       'CompTotal', 'CompFreq', 'ConvertedComp', 'WorkWeekHrs', 'WorkPlan',\n",
       "       'WorkChallenge', 'WorkRemote', 'WorkLoc', 'ImpSyn', 'CodeRev',\n",
       "       'CodeRevHrs', 'UnitTests', 'PurchaseHow', 'PurchaseWhat',\n",
       "       'LanguageWorkedWith', 'LanguageDesireNextYear', 'DatabaseWorkedWith',\n",
       "       'DatabaseDesireNextYear', 'PlatformWorkedWith',\n",
       "       'PlatformDesireNextYear', 'WebFrameWorkedWith',\n",
       "       'WebFrameDesireNextYear', 'MiscTechWorkedWith',\n",
       "       'MiscTechDesireNextYear', 'DevEnviron', 'OpSys', 'Containers',\n",
       "       'BlockchainOrg', 'BlockchainIs', 'BetterLife', 'ITperson', 'OffOn',\n",
       "       'SocialMedia', 'Extraversion', 'ScreenName', 'SOVisit1st',\n",
       "       'SOVisitFreq', 'SOVisitTo', 'SOFindAnswer', 'SOTimeSaved',\n",
       "       'SOHowMuchTime', 'SOAccount', 'SOPartFreq', 'SOJobs', 'EntTeams',\n",
       "       'SOComm', 'WelcomeChange', 'SONewContent', 'Age', 'Gender', 'Trans',\n",
       "       'Sexuality', 'Ethnicity', 'Dependents', 'SurveyLength', 'SurveyEase'],\n",
       "      dtype='object')"
      ]
     },
     "execution_count": 4,
     "metadata": {},
     "output_type": "execute_result"
    }
   ],
   "source": [
    "#lets drop some useless columns\n",
    "df.columns"
   ]
  },
  {
   "cell_type": "code",
   "execution_count": 5,
   "id": "af01715f",
   "metadata": {},
   "outputs": [],
   "source": [
    "df1 = df.drop(['Respondent','OpenSourcer', 'OpenSource','CareerSat', 'JobSat', 'MgrIdiot', 'MgrMoney',\n",
    "       'MgrWant','LastInt', 'FizzBuzz','JobFactors', 'ResumeUpdate','WorkChallenge','WorkRemote','ImpSyn', 'CodeRev',\n",
    "       'CodeRevHrs', 'UnitTests', 'PurchaseHow', 'PurchaseWhat','PlatformWorkedWith',\n",
    "       'PlatformDesireNextYear','Containers',\n",
    "       'BlockchainOrg', 'BlockchainIs','Extraversion', 'ScreenName','SOPartFreq', 'SOJobs', 'EntTeams',\n",
    "       'SOComm','WelcomeChange', 'SONewContent'],axis=1)"
   ]
  },
  {
   "cell_type": "code",
   "execution_count": 6,
   "id": "c07c6d58",
   "metadata": {},
   "outputs": [
    {
     "data": {
      "text/html": [
       "<div>\n",
       "<style scoped>\n",
       "    .dataframe tbody tr th:only-of-type {\n",
       "        vertical-align: middle;\n",
       "    }\n",
       "\n",
       "    .dataframe tbody tr th {\n",
       "        vertical-align: top;\n",
       "    }\n",
       "\n",
       "    .dataframe thead th {\n",
       "        text-align: right;\n",
       "    }\n",
       "</style>\n",
       "<table border=\"1\" class=\"dataframe\">\n",
       "  <thead>\n",
       "    <tr style=\"text-align: right;\">\n",
       "      <th></th>\n",
       "      <th>MainBranch</th>\n",
       "      <th>Hobbyist</th>\n",
       "      <th>Employment</th>\n",
       "      <th>Country</th>\n",
       "      <th>Student</th>\n",
       "      <th>EdLevel</th>\n",
       "      <th>UndergradMajor</th>\n",
       "      <th>EduOther</th>\n",
       "      <th>OrgSize</th>\n",
       "      <th>DevType</th>\n",
       "      <th>YearsCode</th>\n",
       "      <th>Age1stCode</th>\n",
       "      <th>YearsCodePro</th>\n",
       "      <th>JobSeek</th>\n",
       "      <th>LastHireDate</th>\n",
       "      <th>CurrencySymbol</th>\n",
       "      <th>CurrencyDesc</th>\n",
       "      <th>CompTotal</th>\n",
       "      <th>CompFreq</th>\n",
       "      <th>ConvertedComp</th>\n",
       "      <th>WorkWeekHrs</th>\n",
       "      <th>WorkPlan</th>\n",
       "      <th>WorkLoc</th>\n",
       "      <th>LanguageWorkedWith</th>\n",
       "      <th>LanguageDesireNextYear</th>\n",
       "      <th>DatabaseWorkedWith</th>\n",
       "      <th>DatabaseDesireNextYear</th>\n",
       "      <th>WebFrameWorkedWith</th>\n",
       "      <th>WebFrameDesireNextYear</th>\n",
       "      <th>MiscTechWorkedWith</th>\n",
       "      <th>MiscTechDesireNextYear</th>\n",
       "      <th>DevEnviron</th>\n",
       "      <th>OpSys</th>\n",
       "      <th>BetterLife</th>\n",
       "      <th>ITperson</th>\n",
       "      <th>OffOn</th>\n",
       "      <th>SocialMedia</th>\n",
       "      <th>SOVisit1st</th>\n",
       "      <th>SOVisitFreq</th>\n",
       "      <th>SOVisitTo</th>\n",
       "      <th>SOFindAnswer</th>\n",
       "      <th>SOTimeSaved</th>\n",
       "      <th>SOHowMuchTime</th>\n",
       "      <th>SOAccount</th>\n",
       "      <th>Age</th>\n",
       "      <th>Gender</th>\n",
       "      <th>Trans</th>\n",
       "      <th>Sexuality</th>\n",
       "      <th>Ethnicity</th>\n",
       "      <th>Dependents</th>\n",
       "      <th>SurveyLength</th>\n",
       "      <th>SurveyEase</th>\n",
       "    </tr>\n",
       "  </thead>\n",
       "  <tbody>\n",
       "    <tr>\n",
       "      <th>0</th>\n",
       "      <td>I am a student who is learning to code</td>\n",
       "      <td>Yes</td>\n",
       "      <td>Not employed, and not looking for work</td>\n",
       "      <td>United Kingdom</td>\n",
       "      <td>No</td>\n",
       "      <td>Primary/elementary school</td>\n",
       "      <td>NaN</td>\n",
       "      <td>Taught yourself a new language, framework, or ...</td>\n",
       "      <td>NaN</td>\n",
       "      <td>NaN</td>\n",
       "      <td>4</td>\n",
       "      <td>10</td>\n",
       "      <td>NaN</td>\n",
       "      <td>NaN</td>\n",
       "      <td>NaN</td>\n",
       "      <td>NaN</td>\n",
       "      <td>NaN</td>\n",
       "      <td>NaN</td>\n",
       "      <td>NaN</td>\n",
       "      <td>NaN</td>\n",
       "      <td>NaN</td>\n",
       "      <td>NaN</td>\n",
       "      <td>NaN</td>\n",
       "      <td>HTML/CSS;Java;JavaScript;Python</td>\n",
       "      <td>C;C++;C#;Go;HTML/CSS;Java;JavaScript;Python;SQL</td>\n",
       "      <td>SQLite</td>\n",
       "      <td>MySQL</td>\n",
       "      <td>Django;Flask</td>\n",
       "      <td>Flask;jQuery</td>\n",
       "      <td>Node.js</td>\n",
       "      <td>Node.js</td>\n",
       "      <td>IntelliJ;Notepad++;PyCharm</td>\n",
       "      <td>Windows</td>\n",
       "      <td>Yes</td>\n",
       "      <td>Fortunately, someone else has that title</td>\n",
       "      <td>Yes</td>\n",
       "      <td>Twitter</td>\n",
       "      <td>2017</td>\n",
       "      <td>A few times per month or weekly</td>\n",
       "      <td>Find answers to specific questions;Learn how t...</td>\n",
       "      <td>3-5 times per week</td>\n",
       "      <td>Stack Overflow was much faster</td>\n",
       "      <td>31-60 minutes</td>\n",
       "      <td>No</td>\n",
       "      <td>14.0</td>\n",
       "      <td>Man</td>\n",
       "      <td>No</td>\n",
       "      <td>Straight / Heterosexual</td>\n",
       "      <td>NaN</td>\n",
       "      <td>No</td>\n",
       "      <td>Appropriate in length</td>\n",
       "      <td>Neither easy nor difficult</td>\n",
       "    </tr>\n",
       "    <tr>\n",
       "      <th>1</th>\n",
       "      <td>I am a student who is learning to code</td>\n",
       "      <td>No</td>\n",
       "      <td>Not employed, but looking for work</td>\n",
       "      <td>Bosnia and Herzegovina</td>\n",
       "      <td>Yes, full-time</td>\n",
       "      <td>Secondary school (e.g. American high school, G...</td>\n",
       "      <td>NaN</td>\n",
       "      <td>Taken an online course in programming or softw...</td>\n",
       "      <td>NaN</td>\n",
       "      <td>Developer, desktop or enterprise applications;...</td>\n",
       "      <td>NaN</td>\n",
       "      <td>17</td>\n",
       "      <td>NaN</td>\n",
       "      <td>I am actively looking for a job</td>\n",
       "      <td>I've never had a job</td>\n",
       "      <td>NaN</td>\n",
       "      <td>NaN</td>\n",
       "      <td>NaN</td>\n",
       "      <td>NaN</td>\n",
       "      <td>NaN</td>\n",
       "      <td>NaN</td>\n",
       "      <td>NaN</td>\n",
       "      <td>NaN</td>\n",
       "      <td>C++;HTML/CSS;Python</td>\n",
       "      <td>C++;HTML/CSS;JavaScript;SQL</td>\n",
       "      <td>NaN</td>\n",
       "      <td>MySQL</td>\n",
       "      <td>Django</td>\n",
       "      <td>Django</td>\n",
       "      <td>NaN</td>\n",
       "      <td>NaN</td>\n",
       "      <td>Atom;PyCharm</td>\n",
       "      <td>Windows</td>\n",
       "      <td>Yes</td>\n",
       "      <td>Yes</td>\n",
       "      <td>Yes</td>\n",
       "      <td>Instagram</td>\n",
       "      <td>2017</td>\n",
       "      <td>Daily or almost daily</td>\n",
       "      <td>Find answers to specific questions;Learn how t...</td>\n",
       "      <td>3-5 times per week</td>\n",
       "      <td>Stack Overflow was much faster</td>\n",
       "      <td>11-30 minutes</td>\n",
       "      <td>Yes</td>\n",
       "      <td>19.0</td>\n",
       "      <td>Man</td>\n",
       "      <td>No</td>\n",
       "      <td>Straight / Heterosexual</td>\n",
       "      <td>NaN</td>\n",
       "      <td>No</td>\n",
       "      <td>Appropriate in length</td>\n",
       "      <td>Neither easy nor difficult</td>\n",
       "    </tr>\n",
       "    <tr>\n",
       "      <th>2</th>\n",
       "      <td>I am not primarily a developer, but I write co...</td>\n",
       "      <td>Yes</td>\n",
       "      <td>Employed full-time</td>\n",
       "      <td>Thailand</td>\n",
       "      <td>No</td>\n",
       "      <td>Bachelor’s degree (BA, BS, B.Eng., etc.)</td>\n",
       "      <td>Web development or web design</td>\n",
       "      <td>Taught yourself a new language, framework, or ...</td>\n",
       "      <td>100 to 499 employees</td>\n",
       "      <td>Designer;Developer, back-end;Developer, front-...</td>\n",
       "      <td>3</td>\n",
       "      <td>22</td>\n",
       "      <td>1</td>\n",
       "      <td>I’m not actively looking, but I am open to new...</td>\n",
       "      <td>1-2 years ago</td>\n",
       "      <td>THB</td>\n",
       "      <td>Thai baht</td>\n",
       "      <td>23000.0</td>\n",
       "      <td>Monthly</td>\n",
       "      <td>8820.0</td>\n",
       "      <td>40.0</td>\n",
       "      <td>There's no schedule or spec; I work on what se...</td>\n",
       "      <td>Home</td>\n",
       "      <td>HTML/CSS</td>\n",
       "      <td>Elixir;HTML/CSS</td>\n",
       "      <td>PostgreSQL</td>\n",
       "      <td>PostgreSQL</td>\n",
       "      <td>NaN</td>\n",
       "      <td>Other(s):</td>\n",
       "      <td>NaN</td>\n",
       "      <td>NaN</td>\n",
       "      <td>Vim;Visual Studio Code</td>\n",
       "      <td>Linux-based</td>\n",
       "      <td>Yes</td>\n",
       "      <td>Yes</td>\n",
       "      <td>Yes</td>\n",
       "      <td>Reddit</td>\n",
       "      <td>2011</td>\n",
       "      <td>A few times per week</td>\n",
       "      <td>Find answers to specific questions;Learn how t...</td>\n",
       "      <td>6-10 times per week</td>\n",
       "      <td>They were about the same</td>\n",
       "      <td>NaN</td>\n",
       "      <td>Yes</td>\n",
       "      <td>28.0</td>\n",
       "      <td>Man</td>\n",
       "      <td>No</td>\n",
       "      <td>Straight / Heterosexual</td>\n",
       "      <td>NaN</td>\n",
       "      <td>Yes</td>\n",
       "      <td>Appropriate in length</td>\n",
       "      <td>Neither easy nor difficult</td>\n",
       "    </tr>\n",
       "    <tr>\n",
       "      <th>3</th>\n",
       "      <td>I am a developer by profession</td>\n",
       "      <td>No</td>\n",
       "      <td>Employed full-time</td>\n",
       "      <td>United States</td>\n",
       "      <td>No</td>\n",
       "      <td>Bachelor’s degree (BA, BS, B.Eng., etc.)</td>\n",
       "      <td>Computer science, computer engineering, or sof...</td>\n",
       "      <td>Taken an online course in programming or softw...</td>\n",
       "      <td>100 to 499 employees</td>\n",
       "      <td>Developer, full-stack</td>\n",
       "      <td>3</td>\n",
       "      <td>16</td>\n",
       "      <td>Less than 1 year</td>\n",
       "      <td>I am not interested in new job opportunities</td>\n",
       "      <td>Less than a year ago</td>\n",
       "      <td>USD</td>\n",
       "      <td>United States dollar</td>\n",
       "      <td>61000.0</td>\n",
       "      <td>Yearly</td>\n",
       "      <td>61000.0</td>\n",
       "      <td>80.0</td>\n",
       "      <td>There's no schedule or spec; I work on what se...</td>\n",
       "      <td>Home</td>\n",
       "      <td>C;C++;C#;Python;SQL</td>\n",
       "      <td>C;C#;JavaScript;SQL</td>\n",
       "      <td>MySQL;SQLite</td>\n",
       "      <td>MySQL;SQLite</td>\n",
       "      <td>NaN</td>\n",
       "      <td>NaN</td>\n",
       "      <td>.NET</td>\n",
       "      <td>.NET</td>\n",
       "      <td>Eclipse;Vim;Visual Studio;Visual Studio Code</td>\n",
       "      <td>Windows</td>\n",
       "      <td>Yes</td>\n",
       "      <td>SIGH</td>\n",
       "      <td>Yes</td>\n",
       "      <td>Reddit</td>\n",
       "      <td>2014</td>\n",
       "      <td>Daily or almost daily</td>\n",
       "      <td>Find answers to specific questions;Pass the ti...</td>\n",
       "      <td>1-2 times per week</td>\n",
       "      <td>Stack Overflow was much faster</td>\n",
       "      <td>31-60 minutes</td>\n",
       "      <td>Yes</td>\n",
       "      <td>22.0</td>\n",
       "      <td>Man</td>\n",
       "      <td>No</td>\n",
       "      <td>Straight / Heterosexual</td>\n",
       "      <td>White or of European descent</td>\n",
       "      <td>No</td>\n",
       "      <td>Appropriate in length</td>\n",
       "      <td>Easy</td>\n",
       "    </tr>\n",
       "    <tr>\n",
       "      <th>4</th>\n",
       "      <td>I am a developer by profession</td>\n",
       "      <td>Yes</td>\n",
       "      <td>Employed full-time</td>\n",
       "      <td>Ukraine</td>\n",
       "      <td>No</td>\n",
       "      <td>Bachelor’s degree (BA, BS, B.Eng., etc.)</td>\n",
       "      <td>Computer science, computer engineering, or sof...</td>\n",
       "      <td>Taken an online course in programming or softw...</td>\n",
       "      <td>10,000 or more employees</td>\n",
       "      <td>Academic researcher;Developer, desktop or ente...</td>\n",
       "      <td>16</td>\n",
       "      <td>14</td>\n",
       "      <td>9</td>\n",
       "      <td>I am not interested in new job opportunities</td>\n",
       "      <td>Less than a year ago</td>\n",
       "      <td>UAH</td>\n",
       "      <td>Ukrainian hryvnia</td>\n",
       "      <td>NaN</td>\n",
       "      <td>NaN</td>\n",
       "      <td>NaN</td>\n",
       "      <td>55.0</td>\n",
       "      <td>There is a schedule and/or spec (made by me or...</td>\n",
       "      <td>Office</td>\n",
       "      <td>C++;HTML/CSS;Java;JavaScript;Python;SQL;VBA</td>\n",
       "      <td>HTML/CSS;Java;JavaScript;SQL;WebAssembly</td>\n",
       "      <td>Couchbase;MongoDB;MySQL;Oracle;PostgreSQL;SQLite</td>\n",
       "      <td>Couchbase;Firebase;MongoDB;MySQL;Oracle;Postgr...</td>\n",
       "      <td>Django;Express;Flask;jQuery;React.js;Spring</td>\n",
       "      <td>Flask;jQuery;React.js;Spring</td>\n",
       "      <td>Cordova;Node.js</td>\n",
       "      <td>Apache Spark;Hadoop;Node.js;React Native</td>\n",
       "      <td>IntelliJ;Notepad++;Vim</td>\n",
       "      <td>Linux-based</td>\n",
       "      <td>Yes</td>\n",
       "      <td>Also Yes</td>\n",
       "      <td>Yes</td>\n",
       "      <td>Facebook</td>\n",
       "      <td>I don't remember</td>\n",
       "      <td>Multiple times per day</td>\n",
       "      <td>Find answers to specific questions</td>\n",
       "      <td>More than 10 times per week</td>\n",
       "      <td>Stack Overflow was much faster</td>\n",
       "      <td>NaN</td>\n",
       "      <td>Yes</td>\n",
       "      <td>30.0</td>\n",
       "      <td>Man</td>\n",
       "      <td>No</td>\n",
       "      <td>Straight / Heterosexual</td>\n",
       "      <td>White or of European descent;Multiracial</td>\n",
       "      <td>No</td>\n",
       "      <td>Appropriate in length</td>\n",
       "      <td>Easy</td>\n",
       "    </tr>\n",
       "  </tbody>\n",
       "</table>\n",
       "</div>"
      ],
      "text/plain": [
       "                                          MainBranch Hobbyist  \\\n",
       "0             I am a student who is learning to code      Yes   \n",
       "1             I am a student who is learning to code       No   \n",
       "2  I am not primarily a developer, but I write co...      Yes   \n",
       "3                     I am a developer by profession       No   \n",
       "4                     I am a developer by profession      Yes   \n",
       "\n",
       "                               Employment                 Country  \\\n",
       "0  Not employed, and not looking for work          United Kingdom   \n",
       "1      Not employed, but looking for work  Bosnia and Herzegovina   \n",
       "2                      Employed full-time                Thailand   \n",
       "3                      Employed full-time           United States   \n",
       "4                      Employed full-time                 Ukraine   \n",
       "\n",
       "          Student                                            EdLevel  \\\n",
       "0              No                          Primary/elementary school   \n",
       "1  Yes, full-time  Secondary school (e.g. American high school, G...   \n",
       "2              No           Bachelor’s degree (BA, BS, B.Eng., etc.)   \n",
       "3              No           Bachelor’s degree (BA, BS, B.Eng., etc.)   \n",
       "4              No           Bachelor’s degree (BA, BS, B.Eng., etc.)   \n",
       "\n",
       "                                      UndergradMajor  \\\n",
       "0                                                NaN   \n",
       "1                                                NaN   \n",
       "2                      Web development or web design   \n",
       "3  Computer science, computer engineering, or sof...   \n",
       "4  Computer science, computer engineering, or sof...   \n",
       "\n",
       "                                            EduOther  \\\n",
       "0  Taught yourself a new language, framework, or ...   \n",
       "1  Taken an online course in programming or softw...   \n",
       "2  Taught yourself a new language, framework, or ...   \n",
       "3  Taken an online course in programming or softw...   \n",
       "4  Taken an online course in programming or softw...   \n",
       "\n",
       "                    OrgSize  \\\n",
       "0                       NaN   \n",
       "1                       NaN   \n",
       "2      100 to 499 employees   \n",
       "3      100 to 499 employees   \n",
       "4  10,000 or more employees   \n",
       "\n",
       "                                             DevType YearsCode Age1stCode  \\\n",
       "0                                                NaN         4         10   \n",
       "1  Developer, desktop or enterprise applications;...       NaN         17   \n",
       "2  Designer;Developer, back-end;Developer, front-...         3         22   \n",
       "3                              Developer, full-stack         3         16   \n",
       "4  Academic researcher;Developer, desktop or ente...        16         14   \n",
       "\n",
       "       YearsCodePro                                            JobSeek  \\\n",
       "0               NaN                                                NaN   \n",
       "1               NaN                    I am actively looking for a job   \n",
       "2                 1  I’m not actively looking, but I am open to new...   \n",
       "3  Less than 1 year       I am not interested in new job opportunities   \n",
       "4                 9       I am not interested in new job opportunities   \n",
       "\n",
       "           LastHireDate CurrencySymbol          CurrencyDesc  CompTotal  \\\n",
       "0                   NaN            NaN                   NaN        NaN   \n",
       "1  I've never had a job            NaN                   NaN        NaN   \n",
       "2         1-2 years ago            THB             Thai baht    23000.0   \n",
       "3  Less than a year ago            USD  United States dollar    61000.0   \n",
       "4  Less than a year ago            UAH     Ukrainian hryvnia        NaN   \n",
       "\n",
       "  CompFreq  ConvertedComp  WorkWeekHrs  \\\n",
       "0      NaN            NaN          NaN   \n",
       "1      NaN            NaN          NaN   \n",
       "2  Monthly         8820.0         40.0   \n",
       "3   Yearly        61000.0         80.0   \n",
       "4      NaN            NaN         55.0   \n",
       "\n",
       "                                            WorkPlan WorkLoc  \\\n",
       "0                                                NaN     NaN   \n",
       "1                                                NaN     NaN   \n",
       "2  There's no schedule or spec; I work on what se...    Home   \n",
       "3  There's no schedule or spec; I work on what se...    Home   \n",
       "4  There is a schedule and/or spec (made by me or...  Office   \n",
       "\n",
       "                            LanguageWorkedWith  \\\n",
       "0              HTML/CSS;Java;JavaScript;Python   \n",
       "1                          C++;HTML/CSS;Python   \n",
       "2                                     HTML/CSS   \n",
       "3                          C;C++;C#;Python;SQL   \n",
       "4  C++;HTML/CSS;Java;JavaScript;Python;SQL;VBA   \n",
       "\n",
       "                            LanguageDesireNextYear  \\\n",
       "0  C;C++;C#;Go;HTML/CSS;Java;JavaScript;Python;SQL   \n",
       "1                      C++;HTML/CSS;JavaScript;SQL   \n",
       "2                                  Elixir;HTML/CSS   \n",
       "3                              C;C#;JavaScript;SQL   \n",
       "4         HTML/CSS;Java;JavaScript;SQL;WebAssembly   \n",
       "\n",
       "                                 DatabaseWorkedWith  \\\n",
       "0                                            SQLite   \n",
       "1                                               NaN   \n",
       "2                                        PostgreSQL   \n",
       "3                                      MySQL;SQLite   \n",
       "4  Couchbase;MongoDB;MySQL;Oracle;PostgreSQL;SQLite   \n",
       "\n",
       "                              DatabaseDesireNextYear  \\\n",
       "0                                              MySQL   \n",
       "1                                              MySQL   \n",
       "2                                         PostgreSQL   \n",
       "3                                       MySQL;SQLite   \n",
       "4  Couchbase;Firebase;MongoDB;MySQL;Oracle;Postgr...   \n",
       "\n",
       "                            WebFrameWorkedWith        WebFrameDesireNextYear  \\\n",
       "0                                 Django;Flask                  Flask;jQuery   \n",
       "1                                       Django                        Django   \n",
       "2                                          NaN                     Other(s):   \n",
       "3                                          NaN                           NaN   \n",
       "4  Django;Express;Flask;jQuery;React.js;Spring  Flask;jQuery;React.js;Spring   \n",
       "\n",
       "  MiscTechWorkedWith                    MiscTechDesireNextYear  \\\n",
       "0            Node.js                                   Node.js   \n",
       "1                NaN                                       NaN   \n",
       "2                NaN                                       NaN   \n",
       "3               .NET                                      .NET   \n",
       "4    Cordova;Node.js  Apache Spark;Hadoop;Node.js;React Native   \n",
       "\n",
       "                                     DevEnviron        OpSys BetterLife  \\\n",
       "0                    IntelliJ;Notepad++;PyCharm      Windows        Yes   \n",
       "1                                  Atom;PyCharm      Windows        Yes   \n",
       "2                        Vim;Visual Studio Code  Linux-based        Yes   \n",
       "3  Eclipse;Vim;Visual Studio;Visual Studio Code      Windows        Yes   \n",
       "4                        IntelliJ;Notepad++;Vim  Linux-based        Yes   \n",
       "\n",
       "                                   ITperson OffOn SocialMedia  \\\n",
       "0  Fortunately, someone else has that title   Yes     Twitter   \n",
       "1                                       Yes   Yes   Instagram   \n",
       "2                                       Yes   Yes      Reddit   \n",
       "3                                      SIGH   Yes      Reddit   \n",
       "4                                  Also Yes   Yes    Facebook   \n",
       "\n",
       "         SOVisit1st                      SOVisitFreq  \\\n",
       "0              2017  A few times per month or weekly   \n",
       "1              2017            Daily or almost daily   \n",
       "2              2011             A few times per week   \n",
       "3              2014            Daily or almost daily   \n",
       "4  I don't remember           Multiple times per day   \n",
       "\n",
       "                                           SOVisitTo  \\\n",
       "0  Find answers to specific questions;Learn how t...   \n",
       "1  Find answers to specific questions;Learn how t...   \n",
       "2  Find answers to specific questions;Learn how t...   \n",
       "3  Find answers to specific questions;Pass the ti...   \n",
       "4                 Find answers to specific questions   \n",
       "\n",
       "                  SOFindAnswer                     SOTimeSaved  SOHowMuchTime  \\\n",
       "0           3-5 times per week  Stack Overflow was much faster  31-60 minutes   \n",
       "1           3-5 times per week  Stack Overflow was much faster  11-30 minutes   \n",
       "2          6-10 times per week        They were about the same            NaN   \n",
       "3           1-2 times per week  Stack Overflow was much faster  31-60 minutes   \n",
       "4  More than 10 times per week  Stack Overflow was much faster            NaN   \n",
       "\n",
       "  SOAccount   Age Gender Trans                Sexuality  \\\n",
       "0        No  14.0    Man    No  Straight / Heterosexual   \n",
       "1       Yes  19.0    Man    No  Straight / Heterosexual   \n",
       "2       Yes  28.0    Man    No  Straight / Heterosexual   \n",
       "3       Yes  22.0    Man    No  Straight / Heterosexual   \n",
       "4       Yes  30.0    Man    No  Straight / Heterosexual   \n",
       "\n",
       "                                  Ethnicity Dependents           SurveyLength  \\\n",
       "0                                       NaN         No  Appropriate in length   \n",
       "1                                       NaN         No  Appropriate in length   \n",
       "2                                       NaN        Yes  Appropriate in length   \n",
       "3              White or of European descent         No  Appropriate in length   \n",
       "4  White or of European descent;Multiracial         No  Appropriate in length   \n",
       "\n",
       "                   SurveyEase  \n",
       "0  Neither easy nor difficult  \n",
       "1  Neither easy nor difficult  \n",
       "2  Neither easy nor difficult  \n",
       "3                        Easy  \n",
       "4                        Easy  "
      ]
     },
     "execution_count": 6,
     "metadata": {},
     "output_type": "execute_result"
    }
   ],
   "source": [
    "df1.head()"
   ]
  },
  {
   "cell_type": "code",
   "execution_count": 7,
   "id": "4ffaa775",
   "metadata": {},
   "outputs": [
    {
     "name": "stdout",
     "output_type": "stream",
     "text": [
      "<class 'pandas.core.frame.DataFrame'>\n",
      "RangeIndex: 88883 entries, 0 to 88882\n",
      "Data columns (total 52 columns):\n",
      " #   Column                  Non-Null Count  Dtype  \n",
      "---  ------                  --------------  -----  \n",
      " 0   MainBranch              88331 non-null  object \n",
      " 1   Hobbyist                88883 non-null  object \n",
      " 2   Employment              87181 non-null  object \n",
      " 3   Country                 88751 non-null  object \n",
      " 4   Student                 87014 non-null  object \n",
      " 5   EdLevel                 86390 non-null  object \n",
      " 6   UndergradMajor          75614 non-null  object \n",
      " 7   EduOther                84260 non-null  object \n",
      " 8   OrgSize                 71791 non-null  object \n",
      " 9   DevType                 81335 non-null  object \n",
      " 10  YearsCode               87938 non-null  object \n",
      " 11  Age1stCode              87634 non-null  object \n",
      " 12  YearsCodePro            74331 non-null  object \n",
      " 13  JobSeek                 80555 non-null  object \n",
      " 14  LastHireDate            79854 non-null  object \n",
      " 15  CurrencySymbol          71392 non-null  object \n",
      " 16  CurrencyDesc            71392 non-null  object \n",
      " 17  CompTotal               55945 non-null  float64\n",
      " 18  CompFreq                63268 non-null  object \n",
      " 19  ConvertedComp           55823 non-null  float64\n",
      " 20  WorkWeekHrs             64503 non-null  float64\n",
      " 21  WorkPlan                68914 non-null  object \n",
      " 22  WorkLoc                 70055 non-null  object \n",
      " 23  LanguageWorkedWith      87569 non-null  object \n",
      " 24  LanguageDesireNextYear  84088 non-null  object \n",
      " 25  DatabaseWorkedWith      76026 non-null  object \n",
      " 26  DatabaseDesireNextYear  69147 non-null  object \n",
      " 27  WebFrameWorkedWith      65022 non-null  object \n",
      " 28  WebFrameDesireNextYear  62944 non-null  object \n",
      " 29  MiscTechWorkedWith      59586 non-null  object \n",
      " 30  MiscTechDesireNextYear  64511 non-null  object \n",
      " 31  DevEnviron              87317 non-null  object \n",
      " 32  OpSys                   87851 non-null  object \n",
      " 33  BetterLife              86269 non-null  object \n",
      " 34  ITperson                87141 non-null  object \n",
      " 35  OffOn                   86663 non-null  object \n",
      " 36  SocialMedia             84437 non-null  object \n",
      " 37  SOVisit1st              83877 non-null  object \n",
      " 38  SOVisitFreq             88263 non-null  object \n",
      " 39  SOVisitTo               88086 non-null  object \n",
      " 40  SOFindAnswer            87816 non-null  object \n",
      " 41  SOTimeSaved             86344 non-null  object \n",
      " 42  SOHowMuchTime           68378 non-null  object \n",
      " 43  SOAccount               87828 non-null  object \n",
      " 44  Age                     79210 non-null  float64\n",
      " 45  Gender                  85406 non-null  object \n",
      " 46  Trans                   83607 non-null  object \n",
      " 47  Sexuality               76147 non-null  object \n",
      " 48  Ethnicity               76668 non-null  object \n",
      " 49  Dependents              83059 non-null  object \n",
      " 50  SurveyLength            86984 non-null  object \n",
      " 51  SurveyEase              87081 non-null  object \n",
      "dtypes: float64(4), object(48)\n",
      "memory usage: 35.3+ MB\n"
     ]
    }
   ],
   "source": [
    "df1.info()"
   ]
  },
  {
   "cell_type": "code",
   "execution_count": 8,
   "id": "b747c931",
   "metadata": {},
   "outputs": [
    {
     "name": "stdout",
     "output_type": "stream",
     "text": [
      "Missing values count in MainBranch is 552 and 0.006210411439757884% \n",
      "Missing values count in Hobbyist is 0 and 0.0% \n",
      "Missing values count in Employment is 1702 and 0.01914876860592014% \n",
      "Missing values count in Country is 132 and 0.0014850983877681895% \n",
      "Missing values count in Student is 1869 and 0.02102764308135414% \n",
      "Missing values count in EdLevel is 2493 and 0.0280481081871674% \n",
      "Missing values count in UndergradMajor is 13269 and 0.1492861402067887% \n",
      "Missing values count in EduOther is 4623 and 0.05201219580797228% \n",
      "Missing values count in OrgSize is 17092 and 0.1922977397252568% \n",
      "Missing values count in DevType is 7548 and 0.08492062599147193% \n",
      "Missing values count in YearsCode is 945 and 0.010631954366976813% \n",
      "Missing values count in Age1stCode is 1249 and 0.014052180956988401% \n",
      "Missing values count in YearsCodePro is 14552 and 0.16372084650608104% \n",
      "Missing values count in JobSeek is 8328 and 0.09369620737373852% \n",
      "Missing values count in LastHireDate is 9029 and 0.10158297987241655% \n",
      "Missing values count in CurrencySymbol is 17491 and 0.196786787124647% \n",
      "Missing values count in CurrencyDesc is 17491 and 0.196786787124647% \n",
      "Missing values count in CompTotal is 32938 and 0.37057705072961084% \n",
      "Missing values count in CompFreq is 25615 and 0.28818784244456197% \n",
      "Missing values count in ConvertedComp is 33060 and 0.3719496416637602% \n",
      "Missing values count in WorkWeekHrs is 24380 and 0.27429317192263986% \n",
      "Missing values count in WorkPlan is 19969 and 0.2246661341313862% \n",
      "Missing values count in WorkLoc is 18828 and 0.21182903367348085% \n",
      "Missing values count in LanguageWorkedWith is 1314 and 0.014783479405510615% \n",
      "Missing values count in LanguageDesireNextYear is 4795 and 0.05394732401021567% \n",
      "Missing values count in DatabaseWorkedWith is 12857 and 0.14465083311769406% \n",
      "Missing values count in DatabaseDesireNextYear is 19736 and 0.2220447104620681% \n",
      "Missing values count in WebFrameWorkedWith is 23861 and 0.268454035079824% \n",
      "Missing values count in WebFrameDesireNextYear is 25939 and 0.2918330839418111% \n",
      "Missing values count in MiscTechWorkedWith is 29297 and 0.3296130868670049% \n",
      "Missing values count in MiscTechDesireNextYear is 24372 and 0.2742031659597448% \n",
      "Missing values count in DevEnviron is 1566 and 0.01761866723670443% \n",
      "Missing values count in OpSys is 1032 and 0.011610769213460392% \n",
      "Missing values count in BetterLife is 2614 and 0.029409448375954907% \n",
      "Missing values count in ITperson is 1742 and 0.01959879842039535% \n",
      "Missing values count in OffOn is 2220 and 0.0249766547033741% \n",
      "Missing values count in SocialMedia is 4446 and 0.050020813878919476% \n",
      "Missing values count in SOVisit1st is 5006 and 0.056321231281572404% \n",
      "Missing values count in SOVisitFreq is 620 and 0.006975462124365739% \n",
      "Missing values count in SOVisitTo is 797 and 0.008966844053418539% \n",
      "Missing values count in SOFindAnswer is 1067 and 0.012004545301126199% \n",
      "Missing values count in SOTimeSaved is 2539 and 0.02856564247381389% \n",
      "Missing values count in SOHowMuchTime is 20505 and 0.230696533645354% \n",
      "Missing values count in SOAccount is 1055 and 0.011869536356783637% \n",
      "Missing values count in Age is 9673 and 0.10882845988546741% \n",
      "Missing values count in Gender is 3477 and 0.039118841623257544% \n",
      "Missing values count in Trans is 5276 and 0.05935893252928007% \n",
      "Missing values count in Sexuality is 12736 and 0.14328949292890655% \n",
      "Missing values count in Ethnicity is 12215 and 0.13742785459536694% \n",
      "Missing values count in Dependents is 5824 and 0.06552434098759043% \n",
      "Missing values count in SurveyLength is 1899 and 0.021365165442210548% \n",
      "Missing values count in SurveyEase is 1802 and 0.020273843142108165% \n"
     ]
    }
   ],
   "source": [
    "# will check null values\n",
    "\n",
    "for null in df1.columns:\n",
    "    print(\"Missing values count in {} is {} and {}% \".format(null,df1[null].isnull().sum(),(df1[null].isnull().sum()/88883)))"
   ]
  },
  {
   "cell_type": "markdown",
   "id": "c615e910",
   "metadata": {},
   "source": [
    "**Almost every column has missing values. Lets fix them.**"
   ]
  },
  {
   "cell_type": "code",
   "execution_count": 9,
   "id": "10a12b3a",
   "metadata": {},
   "outputs": [
    {
     "data": {
      "text/plain": [
       "array([nan, '100 to 499 employees', '10,000 or more employees',\n",
       "       'Just me - I am a freelancer, sole proprietor, etc.',\n",
       "       '10 to 19 employees', '20 to 99 employees',\n",
       "       '1,000 to 4,999 employees', '2-9 employees',\n",
       "       '500 to 999 employees', '5,000 to 9,999 employees'], dtype=object)"
      ]
     },
     "execution_count": 9,
     "metadata": {},
     "output_type": "execute_result"
    }
   ],
   "source": [
    "df1['OrgSize'].unique()"
   ]
  },
  {
   "cell_type": "code",
   "execution_count": 10,
   "id": "fb03cc83",
   "metadata": {},
   "outputs": [],
   "source": [
    "df1['OrgSize'] = df1['OrgSize'].map({'20 to 99 employees':70,'100 to 499 employee':350,'10,000 or more employees' :10000,\n",
    "                   '1,000 to 4,999 employees':4500,'2-9 employees': 9,'10 to 19 employees':19,\n",
    "                   '500 to 999 employees':800,'Just me - I am a freelancer, sole proprietor, etc.':1,\n",
    "                   '5,000 to 9,999 employees':9999,'nan':0})"
   ]
  },
  {
   "cell_type": "code",
   "execution_count": 11,
   "id": "7f3618ea",
   "metadata": {},
   "outputs": [],
   "source": [
    "meadian = df1['OrgSize'].median()"
   ]
  },
  {
   "cell_type": "code",
   "execution_count": 12,
   "id": "1a8c98c3",
   "metadata": {},
   "outputs": [],
   "source": [
    "df1['OrgSize'].fillna(meadian,inplace=True)"
   ]
  },
  {
   "cell_type": "code",
   "execution_count": 13,
   "id": "5b2190e6",
   "metadata": {},
   "outputs": [
    {
     "data": {
      "text/plain": [
       "array(['4', nan, '3', '16', '13', '6', '8', '12', '2', '5', '17', '10',\n",
       "       '14', '35', '7', 'Less than 1 year', '30', '9', '26', '40', '19',\n",
       "       '15', '20', '28', '25', '1', '22', '11', '33', '50', '41', '18',\n",
       "       '34', '24', '23', '42', '27', '21', '36', '32', '39', '38', '31',\n",
       "       '37', 'More than 50 years', '29', '44', '45', '48', '46', '43',\n",
       "       '47', '49'], dtype=object)"
      ]
     },
     "execution_count": 13,
     "metadata": {},
     "output_type": "execute_result"
    }
   ],
   "source": [
    "df1['YearsCode'].unique()"
   ]
  },
  {
   "cell_type": "code",
   "execution_count": 18,
   "id": "ed3ec2a7",
   "metadata": {},
   "outputs": [],
   "source": [
    "df1['YearsCode'].replace('Less than 1 year',0,inplace=True)"
   ]
  },
  {
   "cell_type": "code",
   "execution_count": 19,
   "id": "25ba73ec",
   "metadata": {},
   "outputs": [],
   "source": [
    "df1['YearsCode'].replace('More than 50 years',51,inplace=True)"
   ]
  },
  {
   "cell_type": "code",
   "execution_count": 23,
   "id": "87bf94da",
   "metadata": {},
   "outputs": [
    {
     "data": {
      "text/plain": [
       "9.0"
      ]
     },
     "execution_count": 23,
     "metadata": {},
     "output_type": "execute_result"
    }
   ],
   "source": [
    "df1['YearsCode'].median()"
   ]
  },
  {
   "cell_type": "code",
   "execution_count": null,
   "id": "654f4773",
   "metadata": {},
   "outputs": [],
   "source": []
  },
  {
   "cell_type": "code",
   "execution_count": 24,
   "id": "46fd8764",
   "metadata": {},
   "outputs": [],
   "source": [
    "df1['YearsCode'].fillna(9,inplace=True)"
   ]
  },
  {
   "cell_type": "code",
   "execution_count": 26,
   "id": "7feba44d",
   "metadata": {},
   "outputs": [
    {
     "data": {
      "text/plain": [
       "array(['4', 9, '3', '16', '13', '6', '8', '12', '2', '5', '17', '10',\n",
       "       '14', '35', '7', 0, '30', '9', '26', '40', '19', '15', '20', '28',\n",
       "       '25', '1', '22', '11', '33', '50', '41', '18', '34', '24', '23',\n",
       "       '42', '27', '21', '36', '32', '39', '38', '31', '37', 51, '29',\n",
       "       '44', '45', '48', '46', '43', '47', '49'], dtype=object)"
      ]
     },
     "execution_count": 26,
     "metadata": {},
     "output_type": "execute_result"
    }
   ],
   "source": [
    "df1['YearsCode'].unique()"
   ]
  },
  {
   "cell_type": "code",
   "execution_count": 27,
   "id": "08f12208",
   "metadata": {},
   "outputs": [],
   "source": [
    "df1['Age1stCode'].replace('Younger than 5 years',5,inplace=True)\n",
    "df1['Age1stCode'].replace('Older than 85',85,inplace=True)"
   ]
  },
  {
   "cell_type": "code",
   "execution_count": 31,
   "id": "9f162946",
   "metadata": {},
   "outputs": [
    {
     "data": {
      "text/plain": [
       "15.0"
      ]
     },
     "execution_count": 31,
     "metadata": {},
     "output_type": "execute_result"
    }
   ],
   "source": [
    "df1['Age1stCode'].median()"
   ]
  },
  {
   "cell_type": "code",
   "execution_count": 32,
   "id": "5d87c0ce",
   "metadata": {},
   "outputs": [],
   "source": [
    "df1['Age1stCode'].fillna(15,inplace=True)"
   ]
  },
  {
   "cell_type": "code",
   "execution_count": 34,
   "id": "985431c9",
   "metadata": {},
   "outputs": [
    {
     "data": {
      "text/plain": [
       "array(['10', '17', '22', '16', '14', '15', '11', '20', '13', '18', '12',\n",
       "       '19', '21', '8', '35', '6', '9', '29', '7', '5', '23', '30', 15,\n",
       "       '27', '24', 5, '33', '25', '26', '39', '36', '38', '28', '31', 85,\n",
       "       '32', '37', '50', '65', '42', '34', '40', '67', '43', '44', '60',\n",
       "       '46', '45', '49', '51', '41', '55', '83', '48', '53', '54', '47',\n",
       "       '56', '79', '61', '68', '77', '66', '52', '80', '62', '84', '57',\n",
       "       '58', '63'], dtype=object)"
      ]
     },
     "execution_count": 34,
     "metadata": {},
     "output_type": "execute_result"
    }
   ],
   "source": [
    "df1['Age1stCode'].unique()"
   ]
  },
  {
   "cell_type": "code",
   "execution_count": 35,
   "id": "6d59bba1",
   "metadata": {},
   "outputs": [],
   "source": [
    "df1['YearsCodePro'].replace('Less than 1 year',0,inplace=True)\n",
    "df1['YearsCodePro'].replace('More than 50 years',51,inplace=True)"
   ]
  },
  {
   "cell_type": "code",
   "execution_count": 37,
   "id": "18d7e2b3",
   "metadata": {},
   "outputs": [
    {
     "data": {
      "text/plain": [
       "6.0"
      ]
     },
     "execution_count": 37,
     "metadata": {},
     "output_type": "execute_result"
    }
   ],
   "source": [
    "df1['YearsCodePro'].median()"
   ]
  },
  {
   "cell_type": "code",
   "execution_count": 38,
   "id": "51af9d4f",
   "metadata": {},
   "outputs": [],
   "source": [
    "df1['YearsCodePro'].fillna(6,inplace=True)"
   ]
  },
  {
   "cell_type": "code",
   "execution_count": 39,
   "id": "45f8bfbe",
   "metadata": {},
   "outputs": [],
   "source": [
    "df1['OrgSize'] = df1['OrgSize'].astype(int)\n",
    "df1['YearsCode'] = df1['YearsCode'].astype(int)\n",
    "df1['Age1stCode'] = df1['Age1stCode'].astype(int)\n",
    "df1['YearsCodePro'] = df1['YearsCodePro'].astype(int)"
   ]
  },
  {
   "cell_type": "code",
   "execution_count": 44,
   "id": "01f9f0ff",
   "metadata": {},
   "outputs": [],
   "source": [
    "# as final salary amunt is in US dollar so dropping related features\n",
    "df1.drop(['LastHireDate','CurrencySymbol','CurrencyDesc','CompTotal','CompFreq'],axis=1,inplace=True)"
   ]
  },
  {
   "cell_type": "code",
   "execution_count": 45,
   "id": "a22d75e3",
   "metadata": {},
   "outputs": [
    {
     "data": {
      "text/html": [
       "<div>\n",
       "<style scoped>\n",
       "    .dataframe tbody tr th:only-of-type {\n",
       "        vertical-align: middle;\n",
       "    }\n",
       "\n",
       "    .dataframe tbody tr th {\n",
       "        vertical-align: top;\n",
       "    }\n",
       "\n",
       "    .dataframe thead th {\n",
       "        text-align: right;\n",
       "    }\n",
       "</style>\n",
       "<table border=\"1\" class=\"dataframe\">\n",
       "  <thead>\n",
       "    <tr style=\"text-align: right;\">\n",
       "      <th></th>\n",
       "      <th>MainBranch</th>\n",
       "      <th>Hobbyist</th>\n",
       "      <th>Employment</th>\n",
       "      <th>Country</th>\n",
       "      <th>Student</th>\n",
       "      <th>EdLevel</th>\n",
       "      <th>UndergradMajor</th>\n",
       "      <th>EduOther</th>\n",
       "      <th>OrgSize</th>\n",
       "      <th>DevType</th>\n",
       "      <th>YearsCode</th>\n",
       "      <th>Age1stCode</th>\n",
       "      <th>YearsCodePro</th>\n",
       "      <th>JobSeek</th>\n",
       "      <th>ConvertedComp</th>\n",
       "      <th>WorkWeekHrs</th>\n",
       "      <th>WorkPlan</th>\n",
       "      <th>WorkLoc</th>\n",
       "      <th>LanguageWorkedWith</th>\n",
       "      <th>LanguageDesireNextYear</th>\n",
       "      <th>DatabaseWorkedWith</th>\n",
       "      <th>DatabaseDesireNextYear</th>\n",
       "      <th>WebFrameWorkedWith</th>\n",
       "      <th>WebFrameDesireNextYear</th>\n",
       "      <th>MiscTechWorkedWith</th>\n",
       "      <th>MiscTechDesireNextYear</th>\n",
       "      <th>DevEnviron</th>\n",
       "      <th>OpSys</th>\n",
       "      <th>BetterLife</th>\n",
       "      <th>ITperson</th>\n",
       "      <th>OffOn</th>\n",
       "      <th>SocialMedia</th>\n",
       "      <th>SOVisit1st</th>\n",
       "      <th>SOVisitFreq</th>\n",
       "      <th>SOVisitTo</th>\n",
       "      <th>SOFindAnswer</th>\n",
       "      <th>SOTimeSaved</th>\n",
       "      <th>SOHowMuchTime</th>\n",
       "      <th>SOAccount</th>\n",
       "      <th>Age</th>\n",
       "      <th>Gender</th>\n",
       "      <th>Trans</th>\n",
       "      <th>Sexuality</th>\n",
       "      <th>Ethnicity</th>\n",
       "      <th>Dependents</th>\n",
       "      <th>SurveyLength</th>\n",
       "      <th>SurveyEase</th>\n",
       "    </tr>\n",
       "  </thead>\n",
       "  <tbody>\n",
       "    <tr>\n",
       "      <th>0</th>\n",
       "      <td>I am a student who is learning to code</td>\n",
       "      <td>Yes</td>\n",
       "      <td>Not employed, and not looking for work</td>\n",
       "      <td>United Kingdom</td>\n",
       "      <td>No</td>\n",
       "      <td>Primary/elementary school</td>\n",
       "      <td>NaN</td>\n",
       "      <td>Taught yourself a new language, framework, or ...</td>\n",
       "      <td>70</td>\n",
       "      <td>NaN</td>\n",
       "      <td>4</td>\n",
       "      <td>10</td>\n",
       "      <td>6</td>\n",
       "      <td>NaN</td>\n",
       "      <td>NaN</td>\n",
       "      <td>NaN</td>\n",
       "      <td>NaN</td>\n",
       "      <td>NaN</td>\n",
       "      <td>HTML/CSS;Java;JavaScript;Python</td>\n",
       "      <td>C;C++;C#;Go;HTML/CSS;Java;JavaScript;Python;SQL</td>\n",
       "      <td>SQLite</td>\n",
       "      <td>MySQL</td>\n",
       "      <td>Django;Flask</td>\n",
       "      <td>Flask;jQuery</td>\n",
       "      <td>Node.js</td>\n",
       "      <td>Node.js</td>\n",
       "      <td>IntelliJ;Notepad++;PyCharm</td>\n",
       "      <td>Windows</td>\n",
       "      <td>Yes</td>\n",
       "      <td>Fortunately, someone else has that title</td>\n",
       "      <td>Yes</td>\n",
       "      <td>Twitter</td>\n",
       "      <td>2017</td>\n",
       "      <td>A few times per month or weekly</td>\n",
       "      <td>Find answers to specific questions;Learn how t...</td>\n",
       "      <td>3-5 times per week</td>\n",
       "      <td>Stack Overflow was much faster</td>\n",
       "      <td>31-60 minutes</td>\n",
       "      <td>No</td>\n",
       "      <td>14.0</td>\n",
       "      <td>Man</td>\n",
       "      <td>No</td>\n",
       "      <td>Straight / Heterosexual</td>\n",
       "      <td>NaN</td>\n",
       "      <td>No</td>\n",
       "      <td>Appropriate in length</td>\n",
       "      <td>Neither easy nor difficult</td>\n",
       "    </tr>\n",
       "    <tr>\n",
       "      <th>1</th>\n",
       "      <td>I am a student who is learning to code</td>\n",
       "      <td>No</td>\n",
       "      <td>Not employed, but looking for work</td>\n",
       "      <td>Bosnia and Herzegovina</td>\n",
       "      <td>Yes, full-time</td>\n",
       "      <td>Secondary school (e.g. American high school, G...</td>\n",
       "      <td>NaN</td>\n",
       "      <td>Taken an online course in programming or softw...</td>\n",
       "      <td>70</td>\n",
       "      <td>Developer, desktop or enterprise applications;...</td>\n",
       "      <td>9</td>\n",
       "      <td>17</td>\n",
       "      <td>6</td>\n",
       "      <td>I am actively looking for a job</td>\n",
       "      <td>NaN</td>\n",
       "      <td>NaN</td>\n",
       "      <td>NaN</td>\n",
       "      <td>NaN</td>\n",
       "      <td>C++;HTML/CSS;Python</td>\n",
       "      <td>C++;HTML/CSS;JavaScript;SQL</td>\n",
       "      <td>NaN</td>\n",
       "      <td>MySQL</td>\n",
       "      <td>Django</td>\n",
       "      <td>Django</td>\n",
       "      <td>NaN</td>\n",
       "      <td>NaN</td>\n",
       "      <td>Atom;PyCharm</td>\n",
       "      <td>Windows</td>\n",
       "      <td>Yes</td>\n",
       "      <td>Yes</td>\n",
       "      <td>Yes</td>\n",
       "      <td>Instagram</td>\n",
       "      <td>2017</td>\n",
       "      <td>Daily or almost daily</td>\n",
       "      <td>Find answers to specific questions;Learn how t...</td>\n",
       "      <td>3-5 times per week</td>\n",
       "      <td>Stack Overflow was much faster</td>\n",
       "      <td>11-30 minutes</td>\n",
       "      <td>Yes</td>\n",
       "      <td>19.0</td>\n",
       "      <td>Man</td>\n",
       "      <td>No</td>\n",
       "      <td>Straight / Heterosexual</td>\n",
       "      <td>NaN</td>\n",
       "      <td>No</td>\n",
       "      <td>Appropriate in length</td>\n",
       "      <td>Neither easy nor difficult</td>\n",
       "    </tr>\n",
       "    <tr>\n",
       "      <th>2</th>\n",
       "      <td>I am not primarily a developer, but I write co...</td>\n",
       "      <td>Yes</td>\n",
       "      <td>Employed full-time</td>\n",
       "      <td>Thailand</td>\n",
       "      <td>No</td>\n",
       "      <td>Bachelor’s degree (BA, BS, B.Eng., etc.)</td>\n",
       "      <td>Web development or web design</td>\n",
       "      <td>Taught yourself a new language, framework, or ...</td>\n",
       "      <td>70</td>\n",
       "      <td>Designer;Developer, back-end;Developer, front-...</td>\n",
       "      <td>3</td>\n",
       "      <td>22</td>\n",
       "      <td>1</td>\n",
       "      <td>I’m not actively looking, but I am open to new...</td>\n",
       "      <td>8820.0</td>\n",
       "      <td>40.0</td>\n",
       "      <td>There's no schedule or spec; I work on what se...</td>\n",
       "      <td>Home</td>\n",
       "      <td>HTML/CSS</td>\n",
       "      <td>Elixir;HTML/CSS</td>\n",
       "      <td>PostgreSQL</td>\n",
       "      <td>PostgreSQL</td>\n",
       "      <td>NaN</td>\n",
       "      <td>Other(s):</td>\n",
       "      <td>NaN</td>\n",
       "      <td>NaN</td>\n",
       "      <td>Vim;Visual Studio Code</td>\n",
       "      <td>Linux-based</td>\n",
       "      <td>Yes</td>\n",
       "      <td>Yes</td>\n",
       "      <td>Yes</td>\n",
       "      <td>Reddit</td>\n",
       "      <td>2011</td>\n",
       "      <td>A few times per week</td>\n",
       "      <td>Find answers to specific questions;Learn how t...</td>\n",
       "      <td>6-10 times per week</td>\n",
       "      <td>They were about the same</td>\n",
       "      <td>NaN</td>\n",
       "      <td>Yes</td>\n",
       "      <td>28.0</td>\n",
       "      <td>Man</td>\n",
       "      <td>No</td>\n",
       "      <td>Straight / Heterosexual</td>\n",
       "      <td>NaN</td>\n",
       "      <td>Yes</td>\n",
       "      <td>Appropriate in length</td>\n",
       "      <td>Neither easy nor difficult</td>\n",
       "    </tr>\n",
       "    <tr>\n",
       "      <th>3</th>\n",
       "      <td>I am a developer by profession</td>\n",
       "      <td>No</td>\n",
       "      <td>Employed full-time</td>\n",
       "      <td>United States</td>\n",
       "      <td>No</td>\n",
       "      <td>Bachelor’s degree (BA, BS, B.Eng., etc.)</td>\n",
       "      <td>Computer science, computer engineering, or sof...</td>\n",
       "      <td>Taken an online course in programming or softw...</td>\n",
       "      <td>70</td>\n",
       "      <td>Developer, full-stack</td>\n",
       "      <td>3</td>\n",
       "      <td>16</td>\n",
       "      <td>0</td>\n",
       "      <td>I am not interested in new job opportunities</td>\n",
       "      <td>61000.0</td>\n",
       "      <td>80.0</td>\n",
       "      <td>There's no schedule or spec; I work on what se...</td>\n",
       "      <td>Home</td>\n",
       "      <td>C;C++;C#;Python;SQL</td>\n",
       "      <td>C;C#;JavaScript;SQL</td>\n",
       "      <td>MySQL;SQLite</td>\n",
       "      <td>MySQL;SQLite</td>\n",
       "      <td>NaN</td>\n",
       "      <td>NaN</td>\n",
       "      <td>.NET</td>\n",
       "      <td>.NET</td>\n",
       "      <td>Eclipse;Vim;Visual Studio;Visual Studio Code</td>\n",
       "      <td>Windows</td>\n",
       "      <td>Yes</td>\n",
       "      <td>SIGH</td>\n",
       "      <td>Yes</td>\n",
       "      <td>Reddit</td>\n",
       "      <td>2014</td>\n",
       "      <td>Daily or almost daily</td>\n",
       "      <td>Find answers to specific questions;Pass the ti...</td>\n",
       "      <td>1-2 times per week</td>\n",
       "      <td>Stack Overflow was much faster</td>\n",
       "      <td>31-60 minutes</td>\n",
       "      <td>Yes</td>\n",
       "      <td>22.0</td>\n",
       "      <td>Man</td>\n",
       "      <td>No</td>\n",
       "      <td>Straight / Heterosexual</td>\n",
       "      <td>White or of European descent</td>\n",
       "      <td>No</td>\n",
       "      <td>Appropriate in length</td>\n",
       "      <td>Easy</td>\n",
       "    </tr>\n",
       "    <tr>\n",
       "      <th>4</th>\n",
       "      <td>I am a developer by profession</td>\n",
       "      <td>Yes</td>\n",
       "      <td>Employed full-time</td>\n",
       "      <td>Ukraine</td>\n",
       "      <td>No</td>\n",
       "      <td>Bachelor’s degree (BA, BS, B.Eng., etc.)</td>\n",
       "      <td>Computer science, computer engineering, or sof...</td>\n",
       "      <td>Taken an online course in programming or softw...</td>\n",
       "      <td>10000</td>\n",
       "      <td>Academic researcher;Developer, desktop or ente...</td>\n",
       "      <td>16</td>\n",
       "      <td>14</td>\n",
       "      <td>9</td>\n",
       "      <td>I am not interested in new job opportunities</td>\n",
       "      <td>NaN</td>\n",
       "      <td>55.0</td>\n",
       "      <td>There is a schedule and/or spec (made by me or...</td>\n",
       "      <td>Office</td>\n",
       "      <td>C++;HTML/CSS;Java;JavaScript;Python;SQL;VBA</td>\n",
       "      <td>HTML/CSS;Java;JavaScript;SQL;WebAssembly</td>\n",
       "      <td>Couchbase;MongoDB;MySQL;Oracle;PostgreSQL;SQLite</td>\n",
       "      <td>Couchbase;Firebase;MongoDB;MySQL;Oracle;Postgr...</td>\n",
       "      <td>Django;Express;Flask;jQuery;React.js;Spring</td>\n",
       "      <td>Flask;jQuery;React.js;Spring</td>\n",
       "      <td>Cordova;Node.js</td>\n",
       "      <td>Apache Spark;Hadoop;Node.js;React Native</td>\n",
       "      <td>IntelliJ;Notepad++;Vim</td>\n",
       "      <td>Linux-based</td>\n",
       "      <td>Yes</td>\n",
       "      <td>Also Yes</td>\n",
       "      <td>Yes</td>\n",
       "      <td>Facebook</td>\n",
       "      <td>I don't remember</td>\n",
       "      <td>Multiple times per day</td>\n",
       "      <td>Find answers to specific questions</td>\n",
       "      <td>More than 10 times per week</td>\n",
       "      <td>Stack Overflow was much faster</td>\n",
       "      <td>NaN</td>\n",
       "      <td>Yes</td>\n",
       "      <td>30.0</td>\n",
       "      <td>Man</td>\n",
       "      <td>No</td>\n",
       "      <td>Straight / Heterosexual</td>\n",
       "      <td>White or of European descent;Multiracial</td>\n",
       "      <td>No</td>\n",
       "      <td>Appropriate in length</td>\n",
       "      <td>Easy</td>\n",
       "    </tr>\n",
       "  </tbody>\n",
       "</table>\n",
       "</div>"
      ],
      "text/plain": [
       "                                          MainBranch Hobbyist  \\\n",
       "0             I am a student who is learning to code      Yes   \n",
       "1             I am a student who is learning to code       No   \n",
       "2  I am not primarily a developer, but I write co...      Yes   \n",
       "3                     I am a developer by profession       No   \n",
       "4                     I am a developer by profession      Yes   \n",
       "\n",
       "                               Employment                 Country  \\\n",
       "0  Not employed, and not looking for work          United Kingdom   \n",
       "1      Not employed, but looking for work  Bosnia and Herzegovina   \n",
       "2                      Employed full-time                Thailand   \n",
       "3                      Employed full-time           United States   \n",
       "4                      Employed full-time                 Ukraine   \n",
       "\n",
       "          Student                                            EdLevel  \\\n",
       "0              No                          Primary/elementary school   \n",
       "1  Yes, full-time  Secondary school (e.g. American high school, G...   \n",
       "2              No           Bachelor’s degree (BA, BS, B.Eng., etc.)   \n",
       "3              No           Bachelor’s degree (BA, BS, B.Eng., etc.)   \n",
       "4              No           Bachelor’s degree (BA, BS, B.Eng., etc.)   \n",
       "\n",
       "                                      UndergradMajor  \\\n",
       "0                                                NaN   \n",
       "1                                                NaN   \n",
       "2                      Web development or web design   \n",
       "3  Computer science, computer engineering, or sof...   \n",
       "4  Computer science, computer engineering, or sof...   \n",
       "\n",
       "                                            EduOther  OrgSize  \\\n",
       "0  Taught yourself a new language, framework, or ...       70   \n",
       "1  Taken an online course in programming or softw...       70   \n",
       "2  Taught yourself a new language, framework, or ...       70   \n",
       "3  Taken an online course in programming or softw...       70   \n",
       "4  Taken an online course in programming or softw...    10000   \n",
       "\n",
       "                                             DevType  YearsCode  Age1stCode  \\\n",
       "0                                                NaN          4          10   \n",
       "1  Developer, desktop or enterprise applications;...          9          17   \n",
       "2  Designer;Developer, back-end;Developer, front-...          3          22   \n",
       "3                              Developer, full-stack          3          16   \n",
       "4  Academic researcher;Developer, desktop or ente...         16          14   \n",
       "\n",
       "   YearsCodePro                                            JobSeek  \\\n",
       "0             6                                                NaN   \n",
       "1             6                    I am actively looking for a job   \n",
       "2             1  I’m not actively looking, but I am open to new...   \n",
       "3             0       I am not interested in new job opportunities   \n",
       "4             9       I am not interested in new job opportunities   \n",
       "\n",
       "   ConvertedComp  WorkWeekHrs  \\\n",
       "0            NaN          NaN   \n",
       "1            NaN          NaN   \n",
       "2         8820.0         40.0   \n",
       "3        61000.0         80.0   \n",
       "4            NaN         55.0   \n",
       "\n",
       "                                            WorkPlan WorkLoc  \\\n",
       "0                                                NaN     NaN   \n",
       "1                                                NaN     NaN   \n",
       "2  There's no schedule or spec; I work on what se...    Home   \n",
       "3  There's no schedule or spec; I work on what se...    Home   \n",
       "4  There is a schedule and/or spec (made by me or...  Office   \n",
       "\n",
       "                            LanguageWorkedWith  \\\n",
       "0              HTML/CSS;Java;JavaScript;Python   \n",
       "1                          C++;HTML/CSS;Python   \n",
       "2                                     HTML/CSS   \n",
       "3                          C;C++;C#;Python;SQL   \n",
       "4  C++;HTML/CSS;Java;JavaScript;Python;SQL;VBA   \n",
       "\n",
       "                            LanguageDesireNextYear  \\\n",
       "0  C;C++;C#;Go;HTML/CSS;Java;JavaScript;Python;SQL   \n",
       "1                      C++;HTML/CSS;JavaScript;SQL   \n",
       "2                                  Elixir;HTML/CSS   \n",
       "3                              C;C#;JavaScript;SQL   \n",
       "4         HTML/CSS;Java;JavaScript;SQL;WebAssembly   \n",
       "\n",
       "                                 DatabaseWorkedWith  \\\n",
       "0                                            SQLite   \n",
       "1                                               NaN   \n",
       "2                                        PostgreSQL   \n",
       "3                                      MySQL;SQLite   \n",
       "4  Couchbase;MongoDB;MySQL;Oracle;PostgreSQL;SQLite   \n",
       "\n",
       "                              DatabaseDesireNextYear  \\\n",
       "0                                              MySQL   \n",
       "1                                              MySQL   \n",
       "2                                         PostgreSQL   \n",
       "3                                       MySQL;SQLite   \n",
       "4  Couchbase;Firebase;MongoDB;MySQL;Oracle;Postgr...   \n",
       "\n",
       "                            WebFrameWorkedWith        WebFrameDesireNextYear  \\\n",
       "0                                 Django;Flask                  Flask;jQuery   \n",
       "1                                       Django                        Django   \n",
       "2                                          NaN                     Other(s):   \n",
       "3                                          NaN                           NaN   \n",
       "4  Django;Express;Flask;jQuery;React.js;Spring  Flask;jQuery;React.js;Spring   \n",
       "\n",
       "  MiscTechWorkedWith                    MiscTechDesireNextYear  \\\n",
       "0            Node.js                                   Node.js   \n",
       "1                NaN                                       NaN   \n",
       "2                NaN                                       NaN   \n",
       "3               .NET                                      .NET   \n",
       "4    Cordova;Node.js  Apache Spark;Hadoop;Node.js;React Native   \n",
       "\n",
       "                                     DevEnviron        OpSys BetterLife  \\\n",
       "0                    IntelliJ;Notepad++;PyCharm      Windows        Yes   \n",
       "1                                  Atom;PyCharm      Windows        Yes   \n",
       "2                        Vim;Visual Studio Code  Linux-based        Yes   \n",
       "3  Eclipse;Vim;Visual Studio;Visual Studio Code      Windows        Yes   \n",
       "4                        IntelliJ;Notepad++;Vim  Linux-based        Yes   \n",
       "\n",
       "                                   ITperson OffOn SocialMedia  \\\n",
       "0  Fortunately, someone else has that title   Yes     Twitter   \n",
       "1                                       Yes   Yes   Instagram   \n",
       "2                                       Yes   Yes      Reddit   \n",
       "3                                      SIGH   Yes      Reddit   \n",
       "4                                  Also Yes   Yes    Facebook   \n",
       "\n",
       "         SOVisit1st                      SOVisitFreq  \\\n",
       "0              2017  A few times per month or weekly   \n",
       "1              2017            Daily or almost daily   \n",
       "2              2011             A few times per week   \n",
       "3              2014            Daily or almost daily   \n",
       "4  I don't remember           Multiple times per day   \n",
       "\n",
       "                                           SOVisitTo  \\\n",
       "0  Find answers to specific questions;Learn how t...   \n",
       "1  Find answers to specific questions;Learn how t...   \n",
       "2  Find answers to specific questions;Learn how t...   \n",
       "3  Find answers to specific questions;Pass the ti...   \n",
       "4                 Find answers to specific questions   \n",
       "\n",
       "                  SOFindAnswer                     SOTimeSaved  SOHowMuchTime  \\\n",
       "0           3-5 times per week  Stack Overflow was much faster  31-60 minutes   \n",
       "1           3-5 times per week  Stack Overflow was much faster  11-30 minutes   \n",
       "2          6-10 times per week        They were about the same            NaN   \n",
       "3           1-2 times per week  Stack Overflow was much faster  31-60 minutes   \n",
       "4  More than 10 times per week  Stack Overflow was much faster            NaN   \n",
       "\n",
       "  SOAccount   Age Gender Trans                Sexuality  \\\n",
       "0        No  14.0    Man    No  Straight / Heterosexual   \n",
       "1       Yes  19.0    Man    No  Straight / Heterosexual   \n",
       "2       Yes  28.0    Man    No  Straight / Heterosexual   \n",
       "3       Yes  22.0    Man    No  Straight / Heterosexual   \n",
       "4       Yes  30.0    Man    No  Straight / Heterosexual   \n",
       "\n",
       "                                  Ethnicity Dependents           SurveyLength  \\\n",
       "0                                       NaN         No  Appropriate in length   \n",
       "1                                       NaN         No  Appropriate in length   \n",
       "2                                       NaN        Yes  Appropriate in length   \n",
       "3              White or of European descent         No  Appropriate in length   \n",
       "4  White or of European descent;Multiracial         No  Appropriate in length   \n",
       "\n",
       "                   SurveyEase  \n",
       "0  Neither easy nor difficult  \n",
       "1  Neither easy nor difficult  \n",
       "2  Neither easy nor difficult  \n",
       "3                        Easy  \n",
       "4                        Easy  "
      ]
     },
     "execution_count": 45,
     "metadata": {},
     "output_type": "execute_result"
    }
   ],
   "source": [
    "df1.head()"
   ]
  },
  {
   "cell_type": "code",
   "execution_count": 49,
   "id": "680cc78d",
   "metadata": {},
   "outputs": [
    {
     "data": {
      "text/plain": [
       "57287.0"
      ]
     },
     "execution_count": 49,
     "metadata": {},
     "output_type": "execute_result"
    }
   ],
   "source": [
    "df1['ConvertedComp'].median()"
   ]
  },
  {
   "cell_type": "code",
   "execution_count": 50,
   "id": "6754f6da",
   "metadata": {},
   "outputs": [],
   "source": [
    "df1['ConvertedComp'].fillna(57287.0,inplace=True)"
   ]
  },
  {
   "cell_type": "code",
   "execution_count": 54,
   "id": "ea58ab1b",
   "metadata": {},
   "outputs": [
    {
     "data": {
      "text/plain": [
       "40.0"
      ]
     },
     "execution_count": 54,
     "metadata": {},
     "output_type": "execute_result"
    }
   ],
   "source": [
    "df1['WorkWeekHrs'].median()"
   ]
  },
  {
   "cell_type": "code",
   "execution_count": 55,
   "id": "e50abbbc",
   "metadata": {},
   "outputs": [],
   "source": [
    "df1['WorkWeekHrs'].fillna(40,inplace=True)"
   ]
  },
  {
   "cell_type": "code",
   "execution_count": 58,
   "id": "c9156e43",
   "metadata": {},
   "outputs": [],
   "source": [
    "df1.drop(['WebFrameWorkedWith','WebFrameDesireNextYear','MiscTechWorkedWith','MiscTechDesireNextYear','ITperson','Ethnicity',\n",
    "         'Trans','Sexuality','Dependents'],axis=1,inplace=True)"
   ]
  },
  {
   "cell_type": "code",
   "execution_count": 59,
   "id": "5bf58b83",
   "metadata": {},
   "outputs": [
    {
     "data": {
      "text/html": [
       "<div>\n",
       "<style scoped>\n",
       "    .dataframe tbody tr th:only-of-type {\n",
       "        vertical-align: middle;\n",
       "    }\n",
       "\n",
       "    .dataframe tbody tr th {\n",
       "        vertical-align: top;\n",
       "    }\n",
       "\n",
       "    .dataframe thead th {\n",
       "        text-align: right;\n",
       "    }\n",
       "</style>\n",
       "<table border=\"1\" class=\"dataframe\">\n",
       "  <thead>\n",
       "    <tr style=\"text-align: right;\">\n",
       "      <th></th>\n",
       "      <th>MainBranch</th>\n",
       "      <th>Hobbyist</th>\n",
       "      <th>Employment</th>\n",
       "      <th>Country</th>\n",
       "      <th>Student</th>\n",
       "      <th>EdLevel</th>\n",
       "      <th>UndergradMajor</th>\n",
       "      <th>EduOther</th>\n",
       "      <th>OrgSize</th>\n",
       "      <th>DevType</th>\n",
       "      <th>YearsCode</th>\n",
       "      <th>Age1stCode</th>\n",
       "      <th>YearsCodePro</th>\n",
       "      <th>JobSeek</th>\n",
       "      <th>ConvertedComp</th>\n",
       "      <th>WorkWeekHrs</th>\n",
       "      <th>WorkPlan</th>\n",
       "      <th>WorkLoc</th>\n",
       "      <th>LanguageWorkedWith</th>\n",
       "      <th>LanguageDesireNextYear</th>\n",
       "      <th>DatabaseWorkedWith</th>\n",
       "      <th>DatabaseDesireNextYear</th>\n",
       "      <th>DevEnviron</th>\n",
       "      <th>OpSys</th>\n",
       "      <th>BetterLife</th>\n",
       "      <th>OffOn</th>\n",
       "      <th>SocialMedia</th>\n",
       "      <th>SOVisit1st</th>\n",
       "      <th>SOVisitFreq</th>\n",
       "      <th>SOVisitTo</th>\n",
       "      <th>SOFindAnswer</th>\n",
       "      <th>SOTimeSaved</th>\n",
       "      <th>SOHowMuchTime</th>\n",
       "      <th>SOAccount</th>\n",
       "      <th>Age</th>\n",
       "      <th>Gender</th>\n",
       "      <th>SurveyLength</th>\n",
       "      <th>SurveyEase</th>\n",
       "    </tr>\n",
       "  </thead>\n",
       "  <tbody>\n",
       "    <tr>\n",
       "      <th>0</th>\n",
       "      <td>I am a student who is learning to code</td>\n",
       "      <td>Yes</td>\n",
       "      <td>Not employed, and not looking for work</td>\n",
       "      <td>United Kingdom</td>\n",
       "      <td>No</td>\n",
       "      <td>Primary/elementary school</td>\n",
       "      <td>NaN</td>\n",
       "      <td>Taught yourself a new language, framework, or ...</td>\n",
       "      <td>70</td>\n",
       "      <td>NaN</td>\n",
       "      <td>4</td>\n",
       "      <td>10</td>\n",
       "      <td>6</td>\n",
       "      <td>NaN</td>\n",
       "      <td>57287.0</td>\n",
       "      <td>40.0</td>\n",
       "      <td>NaN</td>\n",
       "      <td>NaN</td>\n",
       "      <td>HTML/CSS;Java;JavaScript;Python</td>\n",
       "      <td>C;C++;C#;Go;HTML/CSS;Java;JavaScript;Python;SQL</td>\n",
       "      <td>SQLite</td>\n",
       "      <td>MySQL</td>\n",
       "      <td>IntelliJ;Notepad++;PyCharm</td>\n",
       "      <td>Windows</td>\n",
       "      <td>Yes</td>\n",
       "      <td>Yes</td>\n",
       "      <td>Twitter</td>\n",
       "      <td>2017</td>\n",
       "      <td>A few times per month or weekly</td>\n",
       "      <td>Find answers to specific questions;Learn how t...</td>\n",
       "      <td>3-5 times per week</td>\n",
       "      <td>Stack Overflow was much faster</td>\n",
       "      <td>31-60 minutes</td>\n",
       "      <td>No</td>\n",
       "      <td>14.0</td>\n",
       "      <td>Man</td>\n",
       "      <td>Appropriate in length</td>\n",
       "      <td>Neither easy nor difficult</td>\n",
       "    </tr>\n",
       "    <tr>\n",
       "      <th>1</th>\n",
       "      <td>I am a student who is learning to code</td>\n",
       "      <td>No</td>\n",
       "      <td>Not employed, but looking for work</td>\n",
       "      <td>Bosnia and Herzegovina</td>\n",
       "      <td>Yes, full-time</td>\n",
       "      <td>Secondary school (e.g. American high school, G...</td>\n",
       "      <td>NaN</td>\n",
       "      <td>Taken an online course in programming or softw...</td>\n",
       "      <td>70</td>\n",
       "      <td>Developer, desktop or enterprise applications;...</td>\n",
       "      <td>9</td>\n",
       "      <td>17</td>\n",
       "      <td>6</td>\n",
       "      <td>I am actively looking for a job</td>\n",
       "      <td>57287.0</td>\n",
       "      <td>40.0</td>\n",
       "      <td>NaN</td>\n",
       "      <td>NaN</td>\n",
       "      <td>C++;HTML/CSS;Python</td>\n",
       "      <td>C++;HTML/CSS;JavaScript;SQL</td>\n",
       "      <td>NaN</td>\n",
       "      <td>MySQL</td>\n",
       "      <td>Atom;PyCharm</td>\n",
       "      <td>Windows</td>\n",
       "      <td>Yes</td>\n",
       "      <td>Yes</td>\n",
       "      <td>Instagram</td>\n",
       "      <td>2017</td>\n",
       "      <td>Daily or almost daily</td>\n",
       "      <td>Find answers to specific questions;Learn how t...</td>\n",
       "      <td>3-5 times per week</td>\n",
       "      <td>Stack Overflow was much faster</td>\n",
       "      <td>11-30 minutes</td>\n",
       "      <td>Yes</td>\n",
       "      <td>19.0</td>\n",
       "      <td>Man</td>\n",
       "      <td>Appropriate in length</td>\n",
       "      <td>Neither easy nor difficult</td>\n",
       "    </tr>\n",
       "    <tr>\n",
       "      <th>2</th>\n",
       "      <td>I am not primarily a developer, but I write co...</td>\n",
       "      <td>Yes</td>\n",
       "      <td>Employed full-time</td>\n",
       "      <td>Thailand</td>\n",
       "      <td>No</td>\n",
       "      <td>Bachelor’s degree (BA, BS, B.Eng., etc.)</td>\n",
       "      <td>Web development or web design</td>\n",
       "      <td>Taught yourself a new language, framework, or ...</td>\n",
       "      <td>70</td>\n",
       "      <td>Designer;Developer, back-end;Developer, front-...</td>\n",
       "      <td>3</td>\n",
       "      <td>22</td>\n",
       "      <td>1</td>\n",
       "      <td>I’m not actively looking, but I am open to new...</td>\n",
       "      <td>8820.0</td>\n",
       "      <td>40.0</td>\n",
       "      <td>There's no schedule or spec; I work on what se...</td>\n",
       "      <td>Home</td>\n",
       "      <td>HTML/CSS</td>\n",
       "      <td>Elixir;HTML/CSS</td>\n",
       "      <td>PostgreSQL</td>\n",
       "      <td>PostgreSQL</td>\n",
       "      <td>Vim;Visual Studio Code</td>\n",
       "      <td>Linux-based</td>\n",
       "      <td>Yes</td>\n",
       "      <td>Yes</td>\n",
       "      <td>Reddit</td>\n",
       "      <td>2011</td>\n",
       "      <td>A few times per week</td>\n",
       "      <td>Find answers to specific questions;Learn how t...</td>\n",
       "      <td>6-10 times per week</td>\n",
       "      <td>They were about the same</td>\n",
       "      <td>NaN</td>\n",
       "      <td>Yes</td>\n",
       "      <td>28.0</td>\n",
       "      <td>Man</td>\n",
       "      <td>Appropriate in length</td>\n",
       "      <td>Neither easy nor difficult</td>\n",
       "    </tr>\n",
       "    <tr>\n",
       "      <th>3</th>\n",
       "      <td>I am a developer by profession</td>\n",
       "      <td>No</td>\n",
       "      <td>Employed full-time</td>\n",
       "      <td>United States</td>\n",
       "      <td>No</td>\n",
       "      <td>Bachelor’s degree (BA, BS, B.Eng., etc.)</td>\n",
       "      <td>Computer science, computer engineering, or sof...</td>\n",
       "      <td>Taken an online course in programming or softw...</td>\n",
       "      <td>70</td>\n",
       "      <td>Developer, full-stack</td>\n",
       "      <td>3</td>\n",
       "      <td>16</td>\n",
       "      <td>0</td>\n",
       "      <td>I am not interested in new job opportunities</td>\n",
       "      <td>61000.0</td>\n",
       "      <td>80.0</td>\n",
       "      <td>There's no schedule or spec; I work on what se...</td>\n",
       "      <td>Home</td>\n",
       "      <td>C;C++;C#;Python;SQL</td>\n",
       "      <td>C;C#;JavaScript;SQL</td>\n",
       "      <td>MySQL;SQLite</td>\n",
       "      <td>MySQL;SQLite</td>\n",
       "      <td>Eclipse;Vim;Visual Studio;Visual Studio Code</td>\n",
       "      <td>Windows</td>\n",
       "      <td>Yes</td>\n",
       "      <td>Yes</td>\n",
       "      <td>Reddit</td>\n",
       "      <td>2014</td>\n",
       "      <td>Daily or almost daily</td>\n",
       "      <td>Find answers to specific questions;Pass the ti...</td>\n",
       "      <td>1-2 times per week</td>\n",
       "      <td>Stack Overflow was much faster</td>\n",
       "      <td>31-60 minutes</td>\n",
       "      <td>Yes</td>\n",
       "      <td>22.0</td>\n",
       "      <td>Man</td>\n",
       "      <td>Appropriate in length</td>\n",
       "      <td>Easy</td>\n",
       "    </tr>\n",
       "    <tr>\n",
       "      <th>4</th>\n",
       "      <td>I am a developer by profession</td>\n",
       "      <td>Yes</td>\n",
       "      <td>Employed full-time</td>\n",
       "      <td>Ukraine</td>\n",
       "      <td>No</td>\n",
       "      <td>Bachelor’s degree (BA, BS, B.Eng., etc.)</td>\n",
       "      <td>Computer science, computer engineering, or sof...</td>\n",
       "      <td>Taken an online course in programming or softw...</td>\n",
       "      <td>10000</td>\n",
       "      <td>Academic researcher;Developer, desktop or ente...</td>\n",
       "      <td>16</td>\n",
       "      <td>14</td>\n",
       "      <td>9</td>\n",
       "      <td>I am not interested in new job opportunities</td>\n",
       "      <td>57287.0</td>\n",
       "      <td>55.0</td>\n",
       "      <td>There is a schedule and/or spec (made by me or...</td>\n",
       "      <td>Office</td>\n",
       "      <td>C++;HTML/CSS;Java;JavaScript;Python;SQL;VBA</td>\n",
       "      <td>HTML/CSS;Java;JavaScript;SQL;WebAssembly</td>\n",
       "      <td>Couchbase;MongoDB;MySQL;Oracle;PostgreSQL;SQLite</td>\n",
       "      <td>Couchbase;Firebase;MongoDB;MySQL;Oracle;Postgr...</td>\n",
       "      <td>IntelliJ;Notepad++;Vim</td>\n",
       "      <td>Linux-based</td>\n",
       "      <td>Yes</td>\n",
       "      <td>Yes</td>\n",
       "      <td>Facebook</td>\n",
       "      <td>I don't remember</td>\n",
       "      <td>Multiple times per day</td>\n",
       "      <td>Find answers to specific questions</td>\n",
       "      <td>More than 10 times per week</td>\n",
       "      <td>Stack Overflow was much faster</td>\n",
       "      <td>NaN</td>\n",
       "      <td>Yes</td>\n",
       "      <td>30.0</td>\n",
       "      <td>Man</td>\n",
       "      <td>Appropriate in length</td>\n",
       "      <td>Easy</td>\n",
       "    </tr>\n",
       "  </tbody>\n",
       "</table>\n",
       "</div>"
      ],
      "text/plain": [
       "                                          MainBranch Hobbyist  \\\n",
       "0             I am a student who is learning to code      Yes   \n",
       "1             I am a student who is learning to code       No   \n",
       "2  I am not primarily a developer, but I write co...      Yes   \n",
       "3                     I am a developer by profession       No   \n",
       "4                     I am a developer by profession      Yes   \n",
       "\n",
       "                               Employment                 Country  \\\n",
       "0  Not employed, and not looking for work          United Kingdom   \n",
       "1      Not employed, but looking for work  Bosnia and Herzegovina   \n",
       "2                      Employed full-time                Thailand   \n",
       "3                      Employed full-time           United States   \n",
       "4                      Employed full-time                 Ukraine   \n",
       "\n",
       "          Student                                            EdLevel  \\\n",
       "0              No                          Primary/elementary school   \n",
       "1  Yes, full-time  Secondary school (e.g. American high school, G...   \n",
       "2              No           Bachelor’s degree (BA, BS, B.Eng., etc.)   \n",
       "3              No           Bachelor’s degree (BA, BS, B.Eng., etc.)   \n",
       "4              No           Bachelor’s degree (BA, BS, B.Eng., etc.)   \n",
       "\n",
       "                                      UndergradMajor  \\\n",
       "0                                                NaN   \n",
       "1                                                NaN   \n",
       "2                      Web development or web design   \n",
       "3  Computer science, computer engineering, or sof...   \n",
       "4  Computer science, computer engineering, or sof...   \n",
       "\n",
       "                                            EduOther  OrgSize  \\\n",
       "0  Taught yourself a new language, framework, or ...       70   \n",
       "1  Taken an online course in programming or softw...       70   \n",
       "2  Taught yourself a new language, framework, or ...       70   \n",
       "3  Taken an online course in programming or softw...       70   \n",
       "4  Taken an online course in programming or softw...    10000   \n",
       "\n",
       "                                             DevType  YearsCode  Age1stCode  \\\n",
       "0                                                NaN          4          10   \n",
       "1  Developer, desktop or enterprise applications;...          9          17   \n",
       "2  Designer;Developer, back-end;Developer, front-...          3          22   \n",
       "3                              Developer, full-stack          3          16   \n",
       "4  Academic researcher;Developer, desktop or ente...         16          14   \n",
       "\n",
       "   YearsCodePro                                            JobSeek  \\\n",
       "0             6                                                NaN   \n",
       "1             6                    I am actively looking for a job   \n",
       "2             1  I’m not actively looking, but I am open to new...   \n",
       "3             0       I am not interested in new job opportunities   \n",
       "4             9       I am not interested in new job opportunities   \n",
       "\n",
       "   ConvertedComp  WorkWeekHrs  \\\n",
       "0        57287.0         40.0   \n",
       "1        57287.0         40.0   \n",
       "2         8820.0         40.0   \n",
       "3        61000.0         80.0   \n",
       "4        57287.0         55.0   \n",
       "\n",
       "                                            WorkPlan WorkLoc  \\\n",
       "0                                                NaN     NaN   \n",
       "1                                                NaN     NaN   \n",
       "2  There's no schedule or spec; I work on what se...    Home   \n",
       "3  There's no schedule or spec; I work on what se...    Home   \n",
       "4  There is a schedule and/or spec (made by me or...  Office   \n",
       "\n",
       "                            LanguageWorkedWith  \\\n",
       "0              HTML/CSS;Java;JavaScript;Python   \n",
       "1                          C++;HTML/CSS;Python   \n",
       "2                                     HTML/CSS   \n",
       "3                          C;C++;C#;Python;SQL   \n",
       "4  C++;HTML/CSS;Java;JavaScript;Python;SQL;VBA   \n",
       "\n",
       "                            LanguageDesireNextYear  \\\n",
       "0  C;C++;C#;Go;HTML/CSS;Java;JavaScript;Python;SQL   \n",
       "1                      C++;HTML/CSS;JavaScript;SQL   \n",
       "2                                  Elixir;HTML/CSS   \n",
       "3                              C;C#;JavaScript;SQL   \n",
       "4         HTML/CSS;Java;JavaScript;SQL;WebAssembly   \n",
       "\n",
       "                                 DatabaseWorkedWith  \\\n",
       "0                                            SQLite   \n",
       "1                                               NaN   \n",
       "2                                        PostgreSQL   \n",
       "3                                      MySQL;SQLite   \n",
       "4  Couchbase;MongoDB;MySQL;Oracle;PostgreSQL;SQLite   \n",
       "\n",
       "                              DatabaseDesireNextYear  \\\n",
       "0                                              MySQL   \n",
       "1                                              MySQL   \n",
       "2                                         PostgreSQL   \n",
       "3                                       MySQL;SQLite   \n",
       "4  Couchbase;Firebase;MongoDB;MySQL;Oracle;Postgr...   \n",
       "\n",
       "                                     DevEnviron        OpSys BetterLife OffOn  \\\n",
       "0                    IntelliJ;Notepad++;PyCharm      Windows        Yes   Yes   \n",
       "1                                  Atom;PyCharm      Windows        Yes   Yes   \n",
       "2                        Vim;Visual Studio Code  Linux-based        Yes   Yes   \n",
       "3  Eclipse;Vim;Visual Studio;Visual Studio Code      Windows        Yes   Yes   \n",
       "4                        IntelliJ;Notepad++;Vim  Linux-based        Yes   Yes   \n",
       "\n",
       "  SocialMedia        SOVisit1st                      SOVisitFreq  \\\n",
       "0     Twitter              2017  A few times per month or weekly   \n",
       "1   Instagram              2017            Daily or almost daily   \n",
       "2      Reddit              2011             A few times per week   \n",
       "3      Reddit              2014            Daily or almost daily   \n",
       "4    Facebook  I don't remember           Multiple times per day   \n",
       "\n",
       "                                           SOVisitTo  \\\n",
       "0  Find answers to specific questions;Learn how t...   \n",
       "1  Find answers to specific questions;Learn how t...   \n",
       "2  Find answers to specific questions;Learn how t...   \n",
       "3  Find answers to specific questions;Pass the ti...   \n",
       "4                 Find answers to specific questions   \n",
       "\n",
       "                  SOFindAnswer                     SOTimeSaved  SOHowMuchTime  \\\n",
       "0           3-5 times per week  Stack Overflow was much faster  31-60 minutes   \n",
       "1           3-5 times per week  Stack Overflow was much faster  11-30 minutes   \n",
       "2          6-10 times per week        They were about the same            NaN   \n",
       "3           1-2 times per week  Stack Overflow was much faster  31-60 minutes   \n",
       "4  More than 10 times per week  Stack Overflow was much faster            NaN   \n",
       "\n",
       "  SOAccount   Age Gender           SurveyLength                  SurveyEase  \n",
       "0        No  14.0    Man  Appropriate in length  Neither easy nor difficult  \n",
       "1       Yes  19.0    Man  Appropriate in length  Neither easy nor difficult  \n",
       "2       Yes  28.0    Man  Appropriate in length  Neither easy nor difficult  \n",
       "3       Yes  22.0    Man  Appropriate in length                        Easy  \n",
       "4       Yes  30.0    Man  Appropriate in length                        Easy  "
      ]
     },
     "execution_count": 59,
     "metadata": {},
     "output_type": "execute_result"
    }
   ],
   "source": [
    "df1.head()"
   ]
  },
  {
   "cell_type": "code",
   "execution_count": 60,
   "id": "833fafe3",
   "metadata": {},
   "outputs": [
    {
     "data": {
      "text/plain": [
       "array(['2017', '2011', '2014', \"I don't remember\", '2012', '2013', nan,\n",
       "       '2010', '2018', '2008', '2016', '2015', '2009', '2019'],\n",
       "      dtype=object)"
      ]
     },
     "execution_count": 60,
     "metadata": {},
     "output_type": "execute_result"
    }
   ],
   "source": [
    "df1['SOVisit1st'].unique()"
   ]
  },
  {
   "cell_type": "code",
   "execution_count": 63,
   "id": "f5b1cff0",
   "metadata": {},
   "outputs": [],
   "source": [
    "df1['SOVisit1st'].replace(\"I don't remember\",2008,inplace=True)"
   ]
  },
  {
   "cell_type": "code",
   "execution_count": 64,
   "id": "98de2db1",
   "metadata": {},
   "outputs": [
    {
     "data": {
      "text/plain": [
       "0    2008\n",
       "dtype: object"
      ]
     },
     "execution_count": 64,
     "metadata": {},
     "output_type": "execute_result"
    }
   ],
   "source": [
    "df1['SOVisit1st'].mode()"
   ]
  },
  {
   "cell_type": "code",
   "execution_count": 65,
   "id": "1808e257",
   "metadata": {},
   "outputs": [],
   "source": [
    "df1['SOVisit1st'].fillna(2008,inplace=True)"
   ]
  },
  {
   "cell_type": "code",
   "execution_count": 67,
   "id": "b9bb703d",
   "metadata": {},
   "outputs": [],
   "source": [
    "df1['SOVisit1st'] = df1['SOVisit1st'].astype(int)"
   ]
  },
  {
   "cell_type": "code",
   "execution_count": 68,
   "id": "f31fb769",
   "metadata": {},
   "outputs": [
    {
     "data": {
      "text/plain": [
       "array(['3-5 times per week', '6-10 times per week', '1-2 times per week',\n",
       "       'More than 10 times per week', 'Less than once per week', nan],\n",
       "      dtype=object)"
      ]
     },
     "execution_count": 68,
     "metadata": {},
     "output_type": "execute_result"
    }
   ],
   "source": [
    "df1['SOFindAnswer'].unique()"
   ]
  },
  {
   "cell_type": "code",
   "execution_count": 84,
   "id": "29793ef0",
   "metadata": {},
   "outputs": [
    {
     "data": {
      "text/plain": [
       "0    1-2 times per week\n",
       "dtype: object"
      ]
     },
     "execution_count": 84,
     "metadata": {},
     "output_type": "execute_result"
    }
   ],
   "source": [
    "df1['SOFindAnswer'].mode()"
   ]
  },
  {
   "cell_type": "code",
   "execution_count": 85,
   "id": "3f9129f3",
   "metadata": {},
   "outputs": [],
   "source": [
    "df1['SOFindAnswer'].fillna('1-2 times per week',inplace=True)"
   ]
  },
  {
   "cell_type": "code",
   "execution_count": 86,
   "id": "b02600cf",
   "metadata": {},
   "outputs": [
    {
     "data": {
      "text/plain": [
       "array(['3-5 times per week', '6-10 times per week', '1-2 times per week',\n",
       "       'More than 10 times per week', 'Less than once per week'],\n",
       "      dtype=object)"
      ]
     },
     "execution_count": 86,
     "metadata": {},
     "output_type": "execute_result"
    }
   ],
   "source": [
    "df1['SOFindAnswer'].unique()"
   ]
  },
  {
   "cell_type": "code",
   "execution_count": 88,
   "id": "30c5c2df",
   "metadata": {},
   "outputs": [],
   "source": [
    "df1['visit_per_week'] = df1['SOFindAnswer'].map({'3-5 times per week':4, '6-10 times per week':8, '1-2 times per week':2,\n",
    "                        'More than 10 times per week':12, 'Less than once per week':1})"
   ]
  },
  {
   "cell_type": "code",
   "execution_count": 90,
   "id": "199eb56b",
   "metadata": {},
   "outputs": [
    {
     "data": {
      "text/plain": [
       "array(['31-60 minutes', '11-30 minutes', nan, '60+ minutes',\n",
       "       '0-10 minutes'], dtype=object)"
      ]
     },
     "execution_count": 90,
     "metadata": {},
     "output_type": "execute_result"
    }
   ],
   "source": [
    "df1['SOHowMuchTime'].unique()"
   ]
  },
  {
   "cell_type": "code",
   "execution_count": 91,
   "id": "652f0496",
   "metadata": {},
   "outputs": [
    {
     "data": {
      "text/plain": [
       "0    11-30 minutes\n",
       "dtype: object"
      ]
     },
     "execution_count": 91,
     "metadata": {},
     "output_type": "execute_result"
    }
   ],
   "source": [
    "df1['SOHowMuchTime'].mode()"
   ]
  },
  {
   "cell_type": "code",
   "execution_count": 92,
   "id": "e6ec2450",
   "metadata": {},
   "outputs": [],
   "source": [
    "df1['SOHowMuchTime'].fillna('11-30 minutes',inplace=True)"
   ]
  },
  {
   "cell_type": "code",
   "execution_count": 95,
   "id": "5f48c3f2",
   "metadata": {},
   "outputs": [],
   "source": [
    "df1['Mintues_spend'] = df1['SOHowMuchTime'].map({'31-60 minutes':60,'11-30 minutes':25,'60+ minutes':70,'0-10 minutes':10})"
   ]
  },
  {
   "cell_type": "code",
   "execution_count": 96,
   "id": "5a916f45",
   "metadata": {},
   "outputs": [
    {
     "data": {
      "text/plain": [
       "array([14. , 19. , 28. , 22. , 30. , 42. , 24. , 23. ,  nan, 21. , 31. ,\n",
       "       20. , 26. , 29. , 38. , 47. , 34. , 32. , 25. , 17. , 35. , 27. ,\n",
       "       44. , 43. , 62. , 37. , 45. , 18. , 33. , 36. , 16. , 39. , 64. ,\n",
       "       41. , 54. , 49. , 40. , 56. , 12. , 58. , 46. , 59. , 51. , 48. ,\n",
       "       57. , 52. , 50. , 23.9, 55. , 15. , 67. , 13. ,  1. , 53. , 69. ,\n",
       "       65. , 17.5, 63. , 61. , 68. , 73. , 70. , 60. , 16.5, 46.5, 11. ,\n",
       "       71. ,  3. , 97. , 29.5, 77. , 74. , 26.5, 26.3, 24.5, 78. , 72. ,\n",
       "       66. , 76. , 10. , 75. , 99. , 83. , 79. , 36.8, 14.1, 13.5, 19.5,\n",
       "       98. , 43.5, 22.5, 31.5, 21.5, 28.5, 33.6,  2. , 38.5, 30.8, 24.8,\n",
       "       90. , 61.3, 81. ,  4. , 17.3, 19.9, 80. , 85. , 88. , 23.5, 16.9,\n",
       "       20.9, 91. , 98.9, 57.9,  9. , 94. , 95. , 37.5, 14.5,  5. , 82. ,\n",
       "       84. , 37.3, 33.5, 53.8, 31.4, 87. ])"
      ]
     },
     "execution_count": 96,
     "metadata": {},
     "output_type": "execute_result"
    }
   ],
   "source": [
    "df1['Age'].unique()"
   ]
  },
  {
   "cell_type": "code",
   "execution_count": 98,
   "id": "ffdea659",
   "metadata": {},
   "outputs": [
    {
     "data": {
      "text/plain": [
       "30.336698649160446"
      ]
     },
     "execution_count": 98,
     "metadata": {},
     "output_type": "execute_result"
    }
   ],
   "source": [
    "df1['Age'].mean()"
   ]
  },
  {
   "cell_type": "code",
   "execution_count": 99,
   "id": "f90c682b",
   "metadata": {},
   "outputs": [],
   "source": [
    "df1['Age'].fillna(29,inplace=True)"
   ]
  },
  {
   "cell_type": "code",
   "execution_count": 100,
   "id": "3a343c7b",
   "metadata": {},
   "outputs": [
    {
     "data": {
      "text/plain": [
       "array(['Man', nan, 'Woman',\n",
       "       'Non-binary, genderqueer, or gender non-conforming',\n",
       "       'Woman;Non-binary, genderqueer, or gender non-conforming',\n",
       "       'Woman;Man;Non-binary, genderqueer, or gender non-conforming',\n",
       "       'Woman;Man',\n",
       "       'Man;Non-binary, genderqueer, or gender non-conforming'],\n",
       "      dtype=object)"
      ]
     },
     "execution_count": 100,
     "metadata": {},
     "output_type": "execute_result"
    }
   ],
   "source": [
    "df1['Gender'].unique()"
   ]
  },
  {
   "cell_type": "code",
   "execution_count": 102,
   "id": "538cbbfc",
   "metadata": {},
   "outputs": [
    {
     "data": {
      "text/html": [
       "<div>\n",
       "<style scoped>\n",
       "    .dataframe tbody tr th:only-of-type {\n",
       "        vertical-align: middle;\n",
       "    }\n",
       "\n",
       "    .dataframe tbody tr th {\n",
       "        vertical-align: top;\n",
       "    }\n",
       "\n",
       "    .dataframe thead th {\n",
       "        text-align: right;\n",
       "    }\n",
       "</style>\n",
       "<table border=\"1\" class=\"dataframe\">\n",
       "  <thead>\n",
       "    <tr style=\"text-align: right;\">\n",
       "      <th></th>\n",
       "      <th>MainBranch</th>\n",
       "      <th>Hobbyist</th>\n",
       "      <th>Employment</th>\n",
       "      <th>Country</th>\n",
       "      <th>Student</th>\n",
       "      <th>EdLevel</th>\n",
       "      <th>UndergradMajor</th>\n",
       "      <th>EduOther</th>\n",
       "      <th>OrgSize</th>\n",
       "      <th>DevType</th>\n",
       "      <th>YearsCode</th>\n",
       "      <th>Age1stCode</th>\n",
       "      <th>YearsCodePro</th>\n",
       "      <th>JobSeek</th>\n",
       "      <th>ConvertedComp</th>\n",
       "      <th>WorkWeekHrs</th>\n",
       "      <th>WorkPlan</th>\n",
       "      <th>WorkLoc</th>\n",
       "      <th>LanguageWorkedWith</th>\n",
       "      <th>LanguageDesireNextYear</th>\n",
       "      <th>DatabaseWorkedWith</th>\n",
       "      <th>DatabaseDesireNextYear</th>\n",
       "      <th>DevEnviron</th>\n",
       "      <th>OpSys</th>\n",
       "      <th>BetterLife</th>\n",
       "      <th>OffOn</th>\n",
       "      <th>SocialMedia</th>\n",
       "      <th>SOVisit1st</th>\n",
       "      <th>SOVisitFreq</th>\n",
       "      <th>SOVisitTo</th>\n",
       "      <th>SOFindAnswer</th>\n",
       "      <th>SOTimeSaved</th>\n",
       "      <th>SOHowMuchTime</th>\n",
       "      <th>SOAccount</th>\n",
       "      <th>Age</th>\n",
       "      <th>Gender</th>\n",
       "      <th>SurveyLength</th>\n",
       "      <th>SurveyEase</th>\n",
       "      <th>visit_per_week</th>\n",
       "      <th>Mintues_</th>\n",
       "      <th>Mintues_spend</th>\n",
       "    </tr>\n",
       "  </thead>\n",
       "  <tbody>\n",
       "    <tr>\n",
       "      <th>0</th>\n",
       "      <td>I am a student who is learning to code</td>\n",
       "      <td>Yes</td>\n",
       "      <td>Not employed, and not looking for work</td>\n",
       "      <td>United Kingdom</td>\n",
       "      <td>No</td>\n",
       "      <td>Primary/elementary school</td>\n",
       "      <td>NaN</td>\n",
       "      <td>Taught yourself a new language, framework, or ...</td>\n",
       "      <td>70</td>\n",
       "      <td>NaN</td>\n",
       "      <td>4</td>\n",
       "      <td>10</td>\n",
       "      <td>6</td>\n",
       "      <td>NaN</td>\n",
       "      <td>57287.0</td>\n",
       "      <td>40.0</td>\n",
       "      <td>NaN</td>\n",
       "      <td>NaN</td>\n",
       "      <td>HTML/CSS;Java;JavaScript;Python</td>\n",
       "      <td>C;C++;C#;Go;HTML/CSS;Java;JavaScript;Python;SQL</td>\n",
       "      <td>SQLite</td>\n",
       "      <td>MySQL</td>\n",
       "      <td>IntelliJ;Notepad++;PyCharm</td>\n",
       "      <td>Windows</td>\n",
       "      <td>Yes</td>\n",
       "      <td>Yes</td>\n",
       "      <td>Twitter</td>\n",
       "      <td>2017</td>\n",
       "      <td>A few times per month or weekly</td>\n",
       "      <td>Find answers to specific questions;Learn how t...</td>\n",
       "      <td>3-5 times per week</td>\n",
       "      <td>Stack Overflow was much faster</td>\n",
       "      <td>31-60 minutes</td>\n",
       "      <td>No</td>\n",
       "      <td>14.0</td>\n",
       "      <td>Man</td>\n",
       "      <td>Appropriate in length</td>\n",
       "      <td>Neither easy nor difficult</td>\n",
       "      <td>4</td>\n",
       "      <td>60</td>\n",
       "      <td>60</td>\n",
       "    </tr>\n",
       "    <tr>\n",
       "      <th>1</th>\n",
       "      <td>I am a student who is learning to code</td>\n",
       "      <td>No</td>\n",
       "      <td>Not employed, but looking for work</td>\n",
       "      <td>Bosnia and Herzegovina</td>\n",
       "      <td>Yes, full-time</td>\n",
       "      <td>Secondary school (e.g. American high school, G...</td>\n",
       "      <td>NaN</td>\n",
       "      <td>Taken an online course in programming or softw...</td>\n",
       "      <td>70</td>\n",
       "      <td>Developer, desktop or enterprise applications;...</td>\n",
       "      <td>9</td>\n",
       "      <td>17</td>\n",
       "      <td>6</td>\n",
       "      <td>I am actively looking for a job</td>\n",
       "      <td>57287.0</td>\n",
       "      <td>40.0</td>\n",
       "      <td>NaN</td>\n",
       "      <td>NaN</td>\n",
       "      <td>C++;HTML/CSS;Python</td>\n",
       "      <td>C++;HTML/CSS;JavaScript;SQL</td>\n",
       "      <td>NaN</td>\n",
       "      <td>MySQL</td>\n",
       "      <td>Atom;PyCharm</td>\n",
       "      <td>Windows</td>\n",
       "      <td>Yes</td>\n",
       "      <td>Yes</td>\n",
       "      <td>Instagram</td>\n",
       "      <td>2017</td>\n",
       "      <td>Daily or almost daily</td>\n",
       "      <td>Find answers to specific questions;Learn how t...</td>\n",
       "      <td>3-5 times per week</td>\n",
       "      <td>Stack Overflow was much faster</td>\n",
       "      <td>11-30 minutes</td>\n",
       "      <td>Yes</td>\n",
       "      <td>19.0</td>\n",
       "      <td>Man</td>\n",
       "      <td>Appropriate in length</td>\n",
       "      <td>Neither easy nor difficult</td>\n",
       "      <td>4</td>\n",
       "      <td>25</td>\n",
       "      <td>25</td>\n",
       "    </tr>\n",
       "    <tr>\n",
       "      <th>2</th>\n",
       "      <td>I am not primarily a developer, but I write co...</td>\n",
       "      <td>Yes</td>\n",
       "      <td>Employed full-time</td>\n",
       "      <td>Thailand</td>\n",
       "      <td>No</td>\n",
       "      <td>Bachelor’s degree (BA, BS, B.Eng., etc.)</td>\n",
       "      <td>Web development or web design</td>\n",
       "      <td>Taught yourself a new language, framework, or ...</td>\n",
       "      <td>70</td>\n",
       "      <td>Designer;Developer, back-end;Developer, front-...</td>\n",
       "      <td>3</td>\n",
       "      <td>22</td>\n",
       "      <td>1</td>\n",
       "      <td>I’m not actively looking, but I am open to new...</td>\n",
       "      <td>8820.0</td>\n",
       "      <td>40.0</td>\n",
       "      <td>There's no schedule or spec; I work on what se...</td>\n",
       "      <td>Home</td>\n",
       "      <td>HTML/CSS</td>\n",
       "      <td>Elixir;HTML/CSS</td>\n",
       "      <td>PostgreSQL</td>\n",
       "      <td>PostgreSQL</td>\n",
       "      <td>Vim;Visual Studio Code</td>\n",
       "      <td>Linux-based</td>\n",
       "      <td>Yes</td>\n",
       "      <td>Yes</td>\n",
       "      <td>Reddit</td>\n",
       "      <td>2011</td>\n",
       "      <td>A few times per week</td>\n",
       "      <td>Find answers to specific questions;Learn how t...</td>\n",
       "      <td>6-10 times per week</td>\n",
       "      <td>They were about the same</td>\n",
       "      <td>11-30 minutes</td>\n",
       "      <td>Yes</td>\n",
       "      <td>28.0</td>\n",
       "      <td>Man</td>\n",
       "      <td>Appropriate in length</td>\n",
       "      <td>Neither easy nor difficult</td>\n",
       "      <td>8</td>\n",
       "      <td>25</td>\n",
       "      <td>25</td>\n",
       "    </tr>\n",
       "    <tr>\n",
       "      <th>3</th>\n",
       "      <td>I am a developer by profession</td>\n",
       "      <td>No</td>\n",
       "      <td>Employed full-time</td>\n",
       "      <td>United States</td>\n",
       "      <td>No</td>\n",
       "      <td>Bachelor’s degree (BA, BS, B.Eng., etc.)</td>\n",
       "      <td>Computer science, computer engineering, or sof...</td>\n",
       "      <td>Taken an online course in programming or softw...</td>\n",
       "      <td>70</td>\n",
       "      <td>Developer, full-stack</td>\n",
       "      <td>3</td>\n",
       "      <td>16</td>\n",
       "      <td>0</td>\n",
       "      <td>I am not interested in new job opportunities</td>\n",
       "      <td>61000.0</td>\n",
       "      <td>80.0</td>\n",
       "      <td>There's no schedule or spec; I work on what se...</td>\n",
       "      <td>Home</td>\n",
       "      <td>C;C++;C#;Python;SQL</td>\n",
       "      <td>C;C#;JavaScript;SQL</td>\n",
       "      <td>MySQL;SQLite</td>\n",
       "      <td>MySQL;SQLite</td>\n",
       "      <td>Eclipse;Vim;Visual Studio;Visual Studio Code</td>\n",
       "      <td>Windows</td>\n",
       "      <td>Yes</td>\n",
       "      <td>Yes</td>\n",
       "      <td>Reddit</td>\n",
       "      <td>2014</td>\n",
       "      <td>Daily or almost daily</td>\n",
       "      <td>Find answers to specific questions;Pass the ti...</td>\n",
       "      <td>1-2 times per week</td>\n",
       "      <td>Stack Overflow was much faster</td>\n",
       "      <td>31-60 minutes</td>\n",
       "      <td>Yes</td>\n",
       "      <td>22.0</td>\n",
       "      <td>Man</td>\n",
       "      <td>Appropriate in length</td>\n",
       "      <td>Easy</td>\n",
       "      <td>2</td>\n",
       "      <td>60</td>\n",
       "      <td>60</td>\n",
       "    </tr>\n",
       "    <tr>\n",
       "      <th>4</th>\n",
       "      <td>I am a developer by profession</td>\n",
       "      <td>Yes</td>\n",
       "      <td>Employed full-time</td>\n",
       "      <td>Ukraine</td>\n",
       "      <td>No</td>\n",
       "      <td>Bachelor’s degree (BA, BS, B.Eng., etc.)</td>\n",
       "      <td>Computer science, computer engineering, or sof...</td>\n",
       "      <td>Taken an online course in programming or softw...</td>\n",
       "      <td>10000</td>\n",
       "      <td>Academic researcher;Developer, desktop or ente...</td>\n",
       "      <td>16</td>\n",
       "      <td>14</td>\n",
       "      <td>9</td>\n",
       "      <td>I am not interested in new job opportunities</td>\n",
       "      <td>57287.0</td>\n",
       "      <td>55.0</td>\n",
       "      <td>There is a schedule and/or spec (made by me or...</td>\n",
       "      <td>Office</td>\n",
       "      <td>C++;HTML/CSS;Java;JavaScript;Python;SQL;VBA</td>\n",
       "      <td>HTML/CSS;Java;JavaScript;SQL;WebAssembly</td>\n",
       "      <td>Couchbase;MongoDB;MySQL;Oracle;PostgreSQL;SQLite</td>\n",
       "      <td>Couchbase;Firebase;MongoDB;MySQL;Oracle;Postgr...</td>\n",
       "      <td>IntelliJ;Notepad++;Vim</td>\n",
       "      <td>Linux-based</td>\n",
       "      <td>Yes</td>\n",
       "      <td>Yes</td>\n",
       "      <td>Facebook</td>\n",
       "      <td>2008</td>\n",
       "      <td>Multiple times per day</td>\n",
       "      <td>Find answers to specific questions</td>\n",
       "      <td>More than 10 times per week</td>\n",
       "      <td>Stack Overflow was much faster</td>\n",
       "      <td>11-30 minutes</td>\n",
       "      <td>Yes</td>\n",
       "      <td>30.0</td>\n",
       "      <td>Man</td>\n",
       "      <td>Appropriate in length</td>\n",
       "      <td>Easy</td>\n",
       "      <td>12</td>\n",
       "      <td>25</td>\n",
       "      <td>25</td>\n",
       "    </tr>\n",
       "  </tbody>\n",
       "</table>\n",
       "</div>"
      ],
      "text/plain": [
       "                                          MainBranch Hobbyist  \\\n",
       "0             I am a student who is learning to code      Yes   \n",
       "1             I am a student who is learning to code       No   \n",
       "2  I am not primarily a developer, but I write co...      Yes   \n",
       "3                     I am a developer by profession       No   \n",
       "4                     I am a developer by profession      Yes   \n",
       "\n",
       "                               Employment                 Country  \\\n",
       "0  Not employed, and not looking for work          United Kingdom   \n",
       "1      Not employed, but looking for work  Bosnia and Herzegovina   \n",
       "2                      Employed full-time                Thailand   \n",
       "3                      Employed full-time           United States   \n",
       "4                      Employed full-time                 Ukraine   \n",
       "\n",
       "          Student                                            EdLevel  \\\n",
       "0              No                          Primary/elementary school   \n",
       "1  Yes, full-time  Secondary school (e.g. American high school, G...   \n",
       "2              No           Bachelor’s degree (BA, BS, B.Eng., etc.)   \n",
       "3              No           Bachelor’s degree (BA, BS, B.Eng., etc.)   \n",
       "4              No           Bachelor’s degree (BA, BS, B.Eng., etc.)   \n",
       "\n",
       "                                      UndergradMajor  \\\n",
       "0                                                NaN   \n",
       "1                                                NaN   \n",
       "2                      Web development or web design   \n",
       "3  Computer science, computer engineering, or sof...   \n",
       "4  Computer science, computer engineering, or sof...   \n",
       "\n",
       "                                            EduOther  OrgSize  \\\n",
       "0  Taught yourself a new language, framework, or ...       70   \n",
       "1  Taken an online course in programming or softw...       70   \n",
       "2  Taught yourself a new language, framework, or ...       70   \n",
       "3  Taken an online course in programming or softw...       70   \n",
       "4  Taken an online course in programming or softw...    10000   \n",
       "\n",
       "                                             DevType  YearsCode  Age1stCode  \\\n",
       "0                                                NaN          4          10   \n",
       "1  Developer, desktop or enterprise applications;...          9          17   \n",
       "2  Designer;Developer, back-end;Developer, front-...          3          22   \n",
       "3                              Developer, full-stack          3          16   \n",
       "4  Academic researcher;Developer, desktop or ente...         16          14   \n",
       "\n",
       "   YearsCodePro                                            JobSeek  \\\n",
       "0             6                                                NaN   \n",
       "1             6                    I am actively looking for a job   \n",
       "2             1  I’m not actively looking, but I am open to new...   \n",
       "3             0       I am not interested in new job opportunities   \n",
       "4             9       I am not interested in new job opportunities   \n",
       "\n",
       "   ConvertedComp  WorkWeekHrs  \\\n",
       "0        57287.0         40.0   \n",
       "1        57287.0         40.0   \n",
       "2         8820.0         40.0   \n",
       "3        61000.0         80.0   \n",
       "4        57287.0         55.0   \n",
       "\n",
       "                                            WorkPlan WorkLoc  \\\n",
       "0                                                NaN     NaN   \n",
       "1                                                NaN     NaN   \n",
       "2  There's no schedule or spec; I work on what se...    Home   \n",
       "3  There's no schedule or spec; I work on what se...    Home   \n",
       "4  There is a schedule and/or spec (made by me or...  Office   \n",
       "\n",
       "                            LanguageWorkedWith  \\\n",
       "0              HTML/CSS;Java;JavaScript;Python   \n",
       "1                          C++;HTML/CSS;Python   \n",
       "2                                     HTML/CSS   \n",
       "3                          C;C++;C#;Python;SQL   \n",
       "4  C++;HTML/CSS;Java;JavaScript;Python;SQL;VBA   \n",
       "\n",
       "                            LanguageDesireNextYear  \\\n",
       "0  C;C++;C#;Go;HTML/CSS;Java;JavaScript;Python;SQL   \n",
       "1                      C++;HTML/CSS;JavaScript;SQL   \n",
       "2                                  Elixir;HTML/CSS   \n",
       "3                              C;C#;JavaScript;SQL   \n",
       "4         HTML/CSS;Java;JavaScript;SQL;WebAssembly   \n",
       "\n",
       "                                 DatabaseWorkedWith  \\\n",
       "0                                            SQLite   \n",
       "1                                               NaN   \n",
       "2                                        PostgreSQL   \n",
       "3                                      MySQL;SQLite   \n",
       "4  Couchbase;MongoDB;MySQL;Oracle;PostgreSQL;SQLite   \n",
       "\n",
       "                              DatabaseDesireNextYear  \\\n",
       "0                                              MySQL   \n",
       "1                                              MySQL   \n",
       "2                                         PostgreSQL   \n",
       "3                                       MySQL;SQLite   \n",
       "4  Couchbase;Firebase;MongoDB;MySQL;Oracle;Postgr...   \n",
       "\n",
       "                                     DevEnviron        OpSys BetterLife OffOn  \\\n",
       "0                    IntelliJ;Notepad++;PyCharm      Windows        Yes   Yes   \n",
       "1                                  Atom;PyCharm      Windows        Yes   Yes   \n",
       "2                        Vim;Visual Studio Code  Linux-based        Yes   Yes   \n",
       "3  Eclipse;Vim;Visual Studio;Visual Studio Code      Windows        Yes   Yes   \n",
       "4                        IntelliJ;Notepad++;Vim  Linux-based        Yes   Yes   \n",
       "\n",
       "  SocialMedia  SOVisit1st                      SOVisitFreq  \\\n",
       "0     Twitter        2017  A few times per month or weekly   \n",
       "1   Instagram        2017            Daily or almost daily   \n",
       "2      Reddit        2011             A few times per week   \n",
       "3      Reddit        2014            Daily or almost daily   \n",
       "4    Facebook        2008           Multiple times per day   \n",
       "\n",
       "                                           SOVisitTo  \\\n",
       "0  Find answers to specific questions;Learn how t...   \n",
       "1  Find answers to specific questions;Learn how t...   \n",
       "2  Find answers to specific questions;Learn how t...   \n",
       "3  Find answers to specific questions;Pass the ti...   \n",
       "4                 Find answers to specific questions   \n",
       "\n",
       "                  SOFindAnswer                     SOTimeSaved  SOHowMuchTime  \\\n",
       "0           3-5 times per week  Stack Overflow was much faster  31-60 minutes   \n",
       "1           3-5 times per week  Stack Overflow was much faster  11-30 minutes   \n",
       "2          6-10 times per week        They were about the same  11-30 minutes   \n",
       "3           1-2 times per week  Stack Overflow was much faster  31-60 minutes   \n",
       "4  More than 10 times per week  Stack Overflow was much faster  11-30 minutes   \n",
       "\n",
       "  SOAccount   Age Gender           SurveyLength                  SurveyEase  \\\n",
       "0        No  14.0    Man  Appropriate in length  Neither easy nor difficult   \n",
       "1       Yes  19.0    Man  Appropriate in length  Neither easy nor difficult   \n",
       "2       Yes  28.0    Man  Appropriate in length  Neither easy nor difficult   \n",
       "3       Yes  22.0    Man  Appropriate in length                        Easy   \n",
       "4       Yes  30.0    Man  Appropriate in length                        Easy   \n",
       "\n",
       "   visit_per_week  Mintues_  Mintues_spend  \n",
       "0               4        60             60  \n",
       "1               4        25             25  \n",
       "2               8        25             25  \n",
       "3               2        60             60  \n",
       "4              12        25             25  "
      ]
     },
     "execution_count": 102,
     "metadata": {},
     "output_type": "execute_result"
    }
   ],
   "source": [
    "# Gender feature not giving much info. will drop it\n",
    "df1.head()"
   ]
  },
  {
   "cell_type": "code",
   "execution_count": 103,
   "id": "3ebf56c0",
   "metadata": {},
   "outputs": [],
   "source": [
    "df1.drop(['SOFindAnswer','SOHowMuchTime','Gender','Mintues_'],axis=1,inplace=True)"
   ]
  },
  {
   "cell_type": "code",
   "execution_count": 105,
   "id": "45f24925",
   "metadata": {},
   "outputs": [
    {
     "name": "stdout",
     "output_type": "stream",
     "text": [
      "<class 'pandas.core.frame.DataFrame'>\n",
      "RangeIndex: 88883 entries, 0 to 88882\n",
      "Data columns (total 37 columns):\n",
      " #   Column                  Non-Null Count  Dtype  \n",
      "---  ------                  --------------  -----  \n",
      " 0   MainBranch              88331 non-null  object \n",
      " 1   Hobbyist                88883 non-null  object \n",
      " 2   Employment              87181 non-null  object \n",
      " 3   Country                 88751 non-null  object \n",
      " 4   Student                 87014 non-null  object \n",
      " 5   EdLevel                 86390 non-null  object \n",
      " 6   UndergradMajor          75614 non-null  object \n",
      " 7   EduOther                84260 non-null  object \n",
      " 8   OrgSize                 88883 non-null  int32  \n",
      " 9   DevType                 81335 non-null  object \n",
      " 10  YearsCode               88883 non-null  int32  \n",
      " 11  Age1stCode              88883 non-null  int32  \n",
      " 12  YearsCodePro            88883 non-null  int32  \n",
      " 13  JobSeek                 80555 non-null  object \n",
      " 14  ConvertedComp           88883 non-null  float64\n",
      " 15  WorkWeekHrs             88883 non-null  float64\n",
      " 16  WorkPlan                68914 non-null  object \n",
      " 17  WorkLoc                 70055 non-null  object \n",
      " 18  LanguageWorkedWith      87569 non-null  object \n",
      " 19  LanguageDesireNextYear  84088 non-null  object \n",
      " 20  DatabaseWorkedWith      76026 non-null  object \n",
      " 21  DatabaseDesireNextYear  69147 non-null  object \n",
      " 22  DevEnviron              87317 non-null  object \n",
      " 23  OpSys                   87851 non-null  object \n",
      " 24  BetterLife              86269 non-null  object \n",
      " 25  OffOn                   86663 non-null  object \n",
      " 26  SocialMedia             84437 non-null  object \n",
      " 27  SOVisit1st              88883 non-null  int32  \n",
      " 28  SOVisitFreq             88263 non-null  object \n",
      " 29  SOVisitTo               88086 non-null  object \n",
      " 30  SOTimeSaved             86344 non-null  object \n",
      " 31  SOAccount               87828 non-null  object \n",
      " 32  Age                     88883 non-null  float64\n",
      " 33  SurveyLength            86984 non-null  object \n",
      " 34  SurveyEase              87081 non-null  object \n",
      " 35  visit_per_week          88883 non-null  int64  \n",
      " 36  Mintues_spend           88883 non-null  int64  \n",
      "dtypes: float64(3), int32(5), int64(2), object(27)\n",
      "memory usage: 23.4+ MB\n"
     ]
    }
   ],
   "source": [
    "df1.info()"
   ]
  },
  {
   "cell_type": "code",
   "execution_count": 126,
   "id": "c393d210",
   "metadata": {},
   "outputs": [],
   "source": [
    "catogerical_feature = df1.select_dtypes(object)"
   ]
  },
  {
   "cell_type": "code",
   "execution_count": 128,
   "id": "11bbe6b7",
   "metadata": {},
   "outputs": [],
   "source": [
    "for null in catogerical_feature:\n",
    "    df2[null].fillna(df2[null].mode()[0],inplace=True)"
   ]
  },
  {
   "cell_type": "code",
   "execution_count": 130,
   "id": "29f49964",
   "metadata": {},
   "outputs": [
    {
     "name": "stdout",
     "output_type": "stream",
     "text": [
      "<class 'pandas.core.frame.DataFrame'>\n",
      "RangeIndex: 88883 entries, 0 to 88882\n",
      "Data columns (total 37 columns):\n",
      " #   Column                  Non-Null Count  Dtype  \n",
      "---  ------                  --------------  -----  \n",
      " 0   MainBranch              88883 non-null  object \n",
      " 1   Hobbyist                88883 non-null  object \n",
      " 2   Employment              88883 non-null  object \n",
      " 3   Country                 88883 non-null  object \n",
      " 4   Student                 88883 non-null  object \n",
      " 5   EdLevel                 88883 non-null  object \n",
      " 6   UndergradMajor          88883 non-null  object \n",
      " 7   EduOther                88883 non-null  object \n",
      " 8   OrgSize                 88883 non-null  int32  \n",
      " 9   DevType                 88883 non-null  object \n",
      " 10  YearsCode               88883 non-null  int32  \n",
      " 11  Age1stCode              88883 non-null  int32  \n",
      " 12  YearsCodePro            88883 non-null  int32  \n",
      " 13  JobSeek                 88883 non-null  object \n",
      " 14  ConvertedComp           88883 non-null  float64\n",
      " 15  WorkWeekHrs             88883 non-null  float64\n",
      " 16  WorkPlan                88883 non-null  object \n",
      " 17  WorkLoc                 88883 non-null  object \n",
      " 18  LanguageWorkedWith      88883 non-null  object \n",
      " 19  LanguageDesireNextYear  88883 non-null  object \n",
      " 20  DatabaseWorkedWith      88883 non-null  object \n",
      " 21  DatabaseDesireNextYear  88883 non-null  object \n",
      " 22  DevEnviron              88883 non-null  object \n",
      " 23  OpSys                   88883 non-null  object \n",
      " 24  BetterLife              88883 non-null  object \n",
      " 25  OffOn                   88883 non-null  object \n",
      " 26  SocialMedia             88883 non-null  object \n",
      " 27  SOVisit1st              88883 non-null  int32  \n",
      " 28  SOVisitFreq             88883 non-null  object \n",
      " 29  SOVisitTo               88883 non-null  object \n",
      " 30  SOTimeSaved             88883 non-null  object \n",
      " 31  SOAccount               88883 non-null  object \n",
      " 32  Age                     88883 non-null  float64\n",
      " 33  SurveyLength            88883 non-null  object \n",
      " 34  SurveyEase              88883 non-null  object \n",
      " 35  visit_per_week          88883 non-null  int64  \n",
      " 36  Mintues_spend           88883 non-null  int64  \n",
      "dtypes: float64(3), int32(5), int64(2), object(27)\n",
      "memory usage: 23.4+ MB\n"
     ]
    }
   ],
   "source": [
    "df2.info()"
   ]
  },
  {
   "cell_type": "code",
   "execution_count": 131,
   "id": "b675c0b5",
   "metadata": {},
   "outputs": [
    {
     "data": {
      "text/html": [
       "<div>\n",
       "<style scoped>\n",
       "    .dataframe tbody tr th:only-of-type {\n",
       "        vertical-align: middle;\n",
       "    }\n",
       "\n",
       "    .dataframe tbody tr th {\n",
       "        vertical-align: top;\n",
       "    }\n",
       "\n",
       "    .dataframe thead th {\n",
       "        text-align: right;\n",
       "    }\n",
       "</style>\n",
       "<table border=\"1\" class=\"dataframe\">\n",
       "  <thead>\n",
       "    <tr style=\"text-align: right;\">\n",
       "      <th></th>\n",
       "      <th>MainBranch</th>\n",
       "      <th>Hobbyist</th>\n",
       "      <th>Employment</th>\n",
       "      <th>Country</th>\n",
       "      <th>Student</th>\n",
       "      <th>EdLevel</th>\n",
       "      <th>UndergradMajor</th>\n",
       "      <th>EduOther</th>\n",
       "      <th>OrgSize</th>\n",
       "      <th>DevType</th>\n",
       "      <th>YearsCode</th>\n",
       "      <th>Age1stCode</th>\n",
       "      <th>YearsCodePro</th>\n",
       "      <th>JobSeek</th>\n",
       "      <th>ConvertedComp</th>\n",
       "      <th>WorkWeekHrs</th>\n",
       "      <th>WorkPlan</th>\n",
       "      <th>WorkLoc</th>\n",
       "      <th>LanguageWorkedWith</th>\n",
       "      <th>LanguageDesireNextYear</th>\n",
       "      <th>DatabaseWorkedWith</th>\n",
       "      <th>DatabaseDesireNextYear</th>\n",
       "      <th>DevEnviron</th>\n",
       "      <th>OpSys</th>\n",
       "      <th>BetterLife</th>\n",
       "      <th>OffOn</th>\n",
       "      <th>SocialMedia</th>\n",
       "      <th>SOVisit1st</th>\n",
       "      <th>SOVisitFreq</th>\n",
       "      <th>SOVisitTo</th>\n",
       "      <th>SOTimeSaved</th>\n",
       "      <th>SOAccount</th>\n",
       "      <th>Age</th>\n",
       "      <th>SurveyLength</th>\n",
       "      <th>SurveyEase</th>\n",
       "      <th>visit_per_week</th>\n",
       "      <th>Mintues_spend</th>\n",
       "    </tr>\n",
       "  </thead>\n",
       "  <tbody>\n",
       "    <tr>\n",
       "      <th>0</th>\n",
       "      <td>I am a student who is learning to code</td>\n",
       "      <td>Yes</td>\n",
       "      <td>Not employed, and not looking for work</td>\n",
       "      <td>United Kingdom</td>\n",
       "      <td>No</td>\n",
       "      <td>Primary/elementary school</td>\n",
       "      <td>Computer science, computer engineering, or sof...</td>\n",
       "      <td>Taught yourself a new language, framework, or ...</td>\n",
       "      <td>70</td>\n",
       "      <td>Developer, full-stack</td>\n",
       "      <td>4</td>\n",
       "      <td>10</td>\n",
       "      <td>6</td>\n",
       "      <td>I’m not actively looking, but I am open to new...</td>\n",
       "      <td>57287.0</td>\n",
       "      <td>40.0</td>\n",
       "      <td>There is a schedule and/or spec (made by me or...</td>\n",
       "      <td>Office</td>\n",
       "      <td>HTML/CSS;Java;JavaScript;Python</td>\n",
       "      <td>C;C++;C#;Go;HTML/CSS;Java;JavaScript;Python;SQL</td>\n",
       "      <td>SQLite</td>\n",
       "      <td>MySQL</td>\n",
       "      <td>IntelliJ;Notepad++;PyCharm</td>\n",
       "      <td>Windows</td>\n",
       "      <td>Yes</td>\n",
       "      <td>Yes</td>\n",
       "      <td>Twitter</td>\n",
       "      <td>2017</td>\n",
       "      <td>A few times per month or weekly</td>\n",
       "      <td>Find answers to specific questions;Learn how t...</td>\n",
       "      <td>Stack Overflow was much faster</td>\n",
       "      <td>No</td>\n",
       "      <td>14.0</td>\n",
       "      <td>Appropriate in length</td>\n",
       "      <td>Neither easy nor difficult</td>\n",
       "      <td>4</td>\n",
       "      <td>60</td>\n",
       "    </tr>\n",
       "    <tr>\n",
       "      <th>1</th>\n",
       "      <td>I am a student who is learning to code</td>\n",
       "      <td>No</td>\n",
       "      <td>Not employed, but looking for work</td>\n",
       "      <td>Bosnia and Herzegovina</td>\n",
       "      <td>Yes, full-time</td>\n",
       "      <td>Secondary school (e.g. American high school, G...</td>\n",
       "      <td>Computer science, computer engineering, or sof...</td>\n",
       "      <td>Taken an online course in programming or softw...</td>\n",
       "      <td>70</td>\n",
       "      <td>Developer, desktop or enterprise applications;...</td>\n",
       "      <td>9</td>\n",
       "      <td>17</td>\n",
       "      <td>6</td>\n",
       "      <td>I am actively looking for a job</td>\n",
       "      <td>57287.0</td>\n",
       "      <td>40.0</td>\n",
       "      <td>There is a schedule and/or spec (made by me or...</td>\n",
       "      <td>Office</td>\n",
       "      <td>C++;HTML/CSS;Python</td>\n",
       "      <td>C++;HTML/CSS;JavaScript;SQL</td>\n",
       "      <td>MySQL</td>\n",
       "      <td>MySQL</td>\n",
       "      <td>Atom;PyCharm</td>\n",
       "      <td>Windows</td>\n",
       "      <td>Yes</td>\n",
       "      <td>Yes</td>\n",
       "      <td>Instagram</td>\n",
       "      <td>2017</td>\n",
       "      <td>Daily or almost daily</td>\n",
       "      <td>Find answers to specific questions;Learn how t...</td>\n",
       "      <td>Stack Overflow was much faster</td>\n",
       "      <td>Yes</td>\n",
       "      <td>19.0</td>\n",
       "      <td>Appropriate in length</td>\n",
       "      <td>Neither easy nor difficult</td>\n",
       "      <td>4</td>\n",
       "      <td>25</td>\n",
       "    </tr>\n",
       "    <tr>\n",
       "      <th>2</th>\n",
       "      <td>I am not primarily a developer, but I write co...</td>\n",
       "      <td>Yes</td>\n",
       "      <td>Employed full-time</td>\n",
       "      <td>Thailand</td>\n",
       "      <td>No</td>\n",
       "      <td>Bachelor’s degree (BA, BS, B.Eng., etc.)</td>\n",
       "      <td>Web development or web design</td>\n",
       "      <td>Taught yourself a new language, framework, or ...</td>\n",
       "      <td>70</td>\n",
       "      <td>Designer;Developer, back-end;Developer, front-...</td>\n",
       "      <td>3</td>\n",
       "      <td>22</td>\n",
       "      <td>1</td>\n",
       "      <td>I’m not actively looking, but I am open to new...</td>\n",
       "      <td>8820.0</td>\n",
       "      <td>40.0</td>\n",
       "      <td>There's no schedule or spec; I work on what se...</td>\n",
       "      <td>Home</td>\n",
       "      <td>HTML/CSS</td>\n",
       "      <td>Elixir;HTML/CSS</td>\n",
       "      <td>PostgreSQL</td>\n",
       "      <td>PostgreSQL</td>\n",
       "      <td>Vim;Visual Studio Code</td>\n",
       "      <td>Linux-based</td>\n",
       "      <td>Yes</td>\n",
       "      <td>Yes</td>\n",
       "      <td>Reddit</td>\n",
       "      <td>2011</td>\n",
       "      <td>A few times per week</td>\n",
       "      <td>Find answers to specific questions;Learn how t...</td>\n",
       "      <td>They were about the same</td>\n",
       "      <td>Yes</td>\n",
       "      <td>28.0</td>\n",
       "      <td>Appropriate in length</td>\n",
       "      <td>Neither easy nor difficult</td>\n",
       "      <td>8</td>\n",
       "      <td>25</td>\n",
       "    </tr>\n",
       "    <tr>\n",
       "      <th>3</th>\n",
       "      <td>I am a developer by profession</td>\n",
       "      <td>No</td>\n",
       "      <td>Employed full-time</td>\n",
       "      <td>United States</td>\n",
       "      <td>No</td>\n",
       "      <td>Bachelor’s degree (BA, BS, B.Eng., etc.)</td>\n",
       "      <td>Computer science, computer engineering, or sof...</td>\n",
       "      <td>Taken an online course in programming or softw...</td>\n",
       "      <td>70</td>\n",
       "      <td>Developer, full-stack</td>\n",
       "      <td>3</td>\n",
       "      <td>16</td>\n",
       "      <td>0</td>\n",
       "      <td>I am not interested in new job opportunities</td>\n",
       "      <td>61000.0</td>\n",
       "      <td>80.0</td>\n",
       "      <td>There's no schedule or spec; I work on what se...</td>\n",
       "      <td>Home</td>\n",
       "      <td>C;C++;C#;Python;SQL</td>\n",
       "      <td>C;C#;JavaScript;SQL</td>\n",
       "      <td>MySQL;SQLite</td>\n",
       "      <td>MySQL;SQLite</td>\n",
       "      <td>Eclipse;Vim;Visual Studio;Visual Studio Code</td>\n",
       "      <td>Windows</td>\n",
       "      <td>Yes</td>\n",
       "      <td>Yes</td>\n",
       "      <td>Reddit</td>\n",
       "      <td>2014</td>\n",
       "      <td>Daily or almost daily</td>\n",
       "      <td>Find answers to specific questions;Pass the ti...</td>\n",
       "      <td>Stack Overflow was much faster</td>\n",
       "      <td>Yes</td>\n",
       "      <td>22.0</td>\n",
       "      <td>Appropriate in length</td>\n",
       "      <td>Easy</td>\n",
       "      <td>2</td>\n",
       "      <td>60</td>\n",
       "    </tr>\n",
       "    <tr>\n",
       "      <th>4</th>\n",
       "      <td>I am a developer by profession</td>\n",
       "      <td>Yes</td>\n",
       "      <td>Employed full-time</td>\n",
       "      <td>Ukraine</td>\n",
       "      <td>No</td>\n",
       "      <td>Bachelor’s degree (BA, BS, B.Eng., etc.)</td>\n",
       "      <td>Computer science, computer engineering, or sof...</td>\n",
       "      <td>Taken an online course in programming or softw...</td>\n",
       "      <td>10000</td>\n",
       "      <td>Academic researcher;Developer, desktop or ente...</td>\n",
       "      <td>16</td>\n",
       "      <td>14</td>\n",
       "      <td>9</td>\n",
       "      <td>I am not interested in new job opportunities</td>\n",
       "      <td>57287.0</td>\n",
       "      <td>55.0</td>\n",
       "      <td>There is a schedule and/or spec (made by me or...</td>\n",
       "      <td>Office</td>\n",
       "      <td>C++;HTML/CSS;Java;JavaScript;Python;SQL;VBA</td>\n",
       "      <td>HTML/CSS;Java;JavaScript;SQL;WebAssembly</td>\n",
       "      <td>Couchbase;MongoDB;MySQL;Oracle;PostgreSQL;SQLite</td>\n",
       "      <td>Couchbase;Firebase;MongoDB;MySQL;Oracle;Postgr...</td>\n",
       "      <td>IntelliJ;Notepad++;Vim</td>\n",
       "      <td>Linux-based</td>\n",
       "      <td>Yes</td>\n",
       "      <td>Yes</td>\n",
       "      <td>Facebook</td>\n",
       "      <td>2008</td>\n",
       "      <td>Multiple times per day</td>\n",
       "      <td>Find answers to specific questions</td>\n",
       "      <td>Stack Overflow was much faster</td>\n",
       "      <td>Yes</td>\n",
       "      <td>30.0</td>\n",
       "      <td>Appropriate in length</td>\n",
       "      <td>Easy</td>\n",
       "      <td>12</td>\n",
       "      <td>25</td>\n",
       "    </tr>\n",
       "  </tbody>\n",
       "</table>\n",
       "</div>"
      ],
      "text/plain": [
       "                                          MainBranch Hobbyist  \\\n",
       "0             I am a student who is learning to code      Yes   \n",
       "1             I am a student who is learning to code       No   \n",
       "2  I am not primarily a developer, but I write co...      Yes   \n",
       "3                     I am a developer by profession       No   \n",
       "4                     I am a developer by profession      Yes   \n",
       "\n",
       "                               Employment                 Country  \\\n",
       "0  Not employed, and not looking for work          United Kingdom   \n",
       "1      Not employed, but looking for work  Bosnia and Herzegovina   \n",
       "2                      Employed full-time                Thailand   \n",
       "3                      Employed full-time           United States   \n",
       "4                      Employed full-time                 Ukraine   \n",
       "\n",
       "          Student                                            EdLevel  \\\n",
       "0              No                          Primary/elementary school   \n",
       "1  Yes, full-time  Secondary school (e.g. American high school, G...   \n",
       "2              No           Bachelor’s degree (BA, BS, B.Eng., etc.)   \n",
       "3              No           Bachelor’s degree (BA, BS, B.Eng., etc.)   \n",
       "4              No           Bachelor’s degree (BA, BS, B.Eng., etc.)   \n",
       "\n",
       "                                      UndergradMajor  \\\n",
       "0  Computer science, computer engineering, or sof...   \n",
       "1  Computer science, computer engineering, or sof...   \n",
       "2                      Web development or web design   \n",
       "3  Computer science, computer engineering, or sof...   \n",
       "4  Computer science, computer engineering, or sof...   \n",
       "\n",
       "                                            EduOther  OrgSize  \\\n",
       "0  Taught yourself a new language, framework, or ...       70   \n",
       "1  Taken an online course in programming or softw...       70   \n",
       "2  Taught yourself a new language, framework, or ...       70   \n",
       "3  Taken an online course in programming or softw...       70   \n",
       "4  Taken an online course in programming or softw...    10000   \n",
       "\n",
       "                                             DevType  YearsCode  Age1stCode  \\\n",
       "0                              Developer, full-stack          4          10   \n",
       "1  Developer, desktop or enterprise applications;...          9          17   \n",
       "2  Designer;Developer, back-end;Developer, front-...          3          22   \n",
       "3                              Developer, full-stack          3          16   \n",
       "4  Academic researcher;Developer, desktop or ente...         16          14   \n",
       "\n",
       "   YearsCodePro                                            JobSeek  \\\n",
       "0             6  I’m not actively looking, but I am open to new...   \n",
       "1             6                    I am actively looking for a job   \n",
       "2             1  I’m not actively looking, but I am open to new...   \n",
       "3             0       I am not interested in new job opportunities   \n",
       "4             9       I am not interested in new job opportunities   \n",
       "\n",
       "   ConvertedComp  WorkWeekHrs  \\\n",
       "0        57287.0         40.0   \n",
       "1        57287.0         40.0   \n",
       "2         8820.0         40.0   \n",
       "3        61000.0         80.0   \n",
       "4        57287.0         55.0   \n",
       "\n",
       "                                            WorkPlan WorkLoc  \\\n",
       "0  There is a schedule and/or spec (made by me or...  Office   \n",
       "1  There is a schedule and/or spec (made by me or...  Office   \n",
       "2  There's no schedule or spec; I work on what se...    Home   \n",
       "3  There's no schedule or spec; I work on what se...    Home   \n",
       "4  There is a schedule and/or spec (made by me or...  Office   \n",
       "\n",
       "                            LanguageWorkedWith  \\\n",
       "0              HTML/CSS;Java;JavaScript;Python   \n",
       "1                          C++;HTML/CSS;Python   \n",
       "2                                     HTML/CSS   \n",
       "3                          C;C++;C#;Python;SQL   \n",
       "4  C++;HTML/CSS;Java;JavaScript;Python;SQL;VBA   \n",
       "\n",
       "                            LanguageDesireNextYear  \\\n",
       "0  C;C++;C#;Go;HTML/CSS;Java;JavaScript;Python;SQL   \n",
       "1                      C++;HTML/CSS;JavaScript;SQL   \n",
       "2                                  Elixir;HTML/CSS   \n",
       "3                              C;C#;JavaScript;SQL   \n",
       "4         HTML/CSS;Java;JavaScript;SQL;WebAssembly   \n",
       "\n",
       "                                 DatabaseWorkedWith  \\\n",
       "0                                            SQLite   \n",
       "1                                             MySQL   \n",
       "2                                        PostgreSQL   \n",
       "3                                      MySQL;SQLite   \n",
       "4  Couchbase;MongoDB;MySQL;Oracle;PostgreSQL;SQLite   \n",
       "\n",
       "                              DatabaseDesireNextYear  \\\n",
       "0                                              MySQL   \n",
       "1                                              MySQL   \n",
       "2                                         PostgreSQL   \n",
       "3                                       MySQL;SQLite   \n",
       "4  Couchbase;Firebase;MongoDB;MySQL;Oracle;Postgr...   \n",
       "\n",
       "                                     DevEnviron        OpSys BetterLife OffOn  \\\n",
       "0                    IntelliJ;Notepad++;PyCharm      Windows        Yes   Yes   \n",
       "1                                  Atom;PyCharm      Windows        Yes   Yes   \n",
       "2                        Vim;Visual Studio Code  Linux-based        Yes   Yes   \n",
       "3  Eclipse;Vim;Visual Studio;Visual Studio Code      Windows        Yes   Yes   \n",
       "4                        IntelliJ;Notepad++;Vim  Linux-based        Yes   Yes   \n",
       "\n",
       "  SocialMedia  SOVisit1st                      SOVisitFreq  \\\n",
       "0     Twitter        2017  A few times per month or weekly   \n",
       "1   Instagram        2017            Daily or almost daily   \n",
       "2      Reddit        2011             A few times per week   \n",
       "3      Reddit        2014            Daily or almost daily   \n",
       "4    Facebook        2008           Multiple times per day   \n",
       "\n",
       "                                           SOVisitTo  \\\n",
       "0  Find answers to specific questions;Learn how t...   \n",
       "1  Find answers to specific questions;Learn how t...   \n",
       "2  Find answers to specific questions;Learn how t...   \n",
       "3  Find answers to specific questions;Pass the ti...   \n",
       "4                 Find answers to specific questions   \n",
       "\n",
       "                      SOTimeSaved SOAccount   Age           SurveyLength  \\\n",
       "0  Stack Overflow was much faster        No  14.0  Appropriate in length   \n",
       "1  Stack Overflow was much faster       Yes  19.0  Appropriate in length   \n",
       "2        They were about the same       Yes  28.0  Appropriate in length   \n",
       "3  Stack Overflow was much faster       Yes  22.0  Appropriate in length   \n",
       "4  Stack Overflow was much faster       Yes  30.0  Appropriate in length   \n",
       "\n",
       "                   SurveyEase  visit_per_week  Mintues_spend  \n",
       "0  Neither easy nor difficult               4             60  \n",
       "1  Neither easy nor difficult               4             25  \n",
       "2  Neither easy nor difficult               8             25  \n",
       "3                        Easy               2             60  \n",
       "4                        Easy              12             25  "
      ]
     },
     "execution_count": 131,
     "metadata": {},
     "output_type": "execute_result"
    }
   ],
   "source": [
    "# Now we do not have any null values.\n",
    "df2.head()"
   ]
  },
  {
   "cell_type": "code",
   "execution_count": 135,
   "id": "def5be8c",
   "metadata": {},
   "outputs": [
    {
     "data": {
      "text/plain": [
       "I am a developer by profession                                                   66231\n",
       "I am a student who is learning to code                                           10189\n",
       "I am not primarily a developer, but I write code sometimes as part of my work     7539\n",
       "I code primarily as a hobby                                                       3340\n",
       "I used to be a developer by profession, but no longer am                          1584\n",
       "Name: MainBranch, dtype: int64"
      ]
     },
     "execution_count": 135,
     "metadata": {},
     "output_type": "execute_result"
    }
   ],
   "source": [
    "df2['MainBranch'].value_counts()"
   ]
  },
  {
   "cell_type": "code",
   "execution_count": 136,
   "id": "ff225ff2",
   "metadata": {},
   "outputs": [],
   "source": [
    "df2['MainBranch'].replace('I am not primarily a developer, but I write code sometimes as part of my work','I write code sometimes',inplace=True)\n",
    "df2['MainBranch'].replace('I used to be a developer by profession, but no longer am','But Not Now',inplace=True)"
   ]
  },
  {
   "cell_type": "code",
   "execution_count": 153,
   "id": "cbe39d07",
   "metadata": {},
   "outputs": [
    {
     "data": {
      "text/plain": [
       "Text(0.5, 1.0, 'Motive to use StackOverflow')"
      ]
     },
     "execution_count": 153,
     "metadata": {},
     "output_type": "execute_result"
    },
    {
     "data": {
      "image/png": "[encoded data removed]",
      "text/plain": [
       "<Figure size 720x360 with 1 Axes>"
      ]
     },
     "metadata": {
      "needs_background": "light"
     },
     "output_type": "display_data"
    }
   ],
   "source": [
    "df2['MainBranch'].value_counts().plot(kind='bar',figsize=(10,5),colormap='rainbow')\n",
    "plt.title('Motive to use StackOverflow')"
   ]
  },
  {
   "cell_type": "markdown",
   "id": "c79e5f7c",
   "metadata": {},
   "source": [
    "**We can see that most of the users are professional developers. Students also use it for study**"
   ]
  },
  {
   "cell_type": "code",
   "execution_count": 139,
   "id": "9456ea42",
   "metadata": {},
   "outputs": [],
   "source": [
    "import matplotlib.pyplot as plt\n",
    "import seaborn as sns\n"
   ]
  },
  {
   "cell_type": "code",
   "execution_count": 159,
   "id": "8d0d9c3e",
   "metadata": {},
   "outputs": [
    {
     "data": {
      "text/plain": [
       "<AxesSubplot:xlabel='Hobbyist', ylabel='count'>"
      ]
     },
     "execution_count": 159,
     "metadata": {},
     "output_type": "execute_result"
    },
    {
     "data": {
      "image/png": "[encoded data removed]",
      "text/plain": [
       "<Figure size 432x288 with 1 Axes>"
      ]
     },
     "metadata": {
      "needs_background": "light"
     },
     "output_type": "display_data"
    }
   ],
   "source": [
    "sns.countplot(df2['Hobbyist'])"
   ]
  },
  {
   "cell_type": "code",
   "execution_count": 162,
   "id": "fa260de9",
   "metadata": {},
   "outputs": [
    {
     "data": {
      "text/plain": [
       "<AxesSubplot:>"
      ]
     },
     "execution_count": 162,
     "metadata": {},
     "output_type": "execute_result"
    },
    {
     "data": {
      "image/png": "[encoded data removed]",
      "text/plain": [
       "<Figure size 720x360 with 1 Axes>"
      ]
     },
     "metadata": {
      "needs_background": "light"
     },
     "output_type": "display_data"
    }
   ],
   "source": [
    "df2['Employment'].value_counts(normalize=True).plot(kind='bar',figsize=(10,5))"
   ]
  },
  {
   "cell_type": "markdown",
   "id": "404b32f9",
   "metadata": {},
   "source": [
    "**70%** Users in this survey are full time employees."
   ]
  },
  {
   "cell_type": "code",
   "execution_count": 185,
   "id": "72d16787",
   "metadata": {},
   "outputs": [
    {
     "data": {
      "text/plain": [
       "Text(0.5, 1.0, 'Top 10 Contries')"
      ]
     },
     "execution_count": 185,
     "metadata": {},
     "output_type": "execute_result"
    },
    {
     "data": {
      "image/png": "[encoded data removed]",
      "text/plain": [
       "<Figure size 1080x720 with 1 Axes>"
      ]
     },
     "metadata": {
      "needs_background": "light"
     },
     "output_type": "display_data"
    }
   ],
   "source": [
    "df2['Country'].value_counts().head(10).plot(kind='bar',figsize=(15,10),xlabel='Country',ylabel='Users')\n",
    "plt.title('Top 10 Contries')\n"
   ]
  },
  {
   "cell_type": "code",
   "execution_count": 186,
   "id": "4ca39566",
   "metadata": {},
   "outputs": [],
   "source": [
    "country_grp = df2.groupby('Country')"
   ]
  },
  {
   "cell_type": "code",
   "execution_count": 193,
   "id": "16c2d224",
   "metadata": {},
   "outputs": [
    {
     "data": {
      "text/plain": [
       "Text(0.5, 1.0, 'India')"
      ]
     },
     "execution_count": 193,
     "metadata": {},
     "output_type": "execute_result"
    },
    {
     "data": {
      "image/png": "[encoded data removed]",
      "text/plain": [
       "<Figure size 1080x720 with 1 Axes>"
      ]
     },
     "metadata": {
      "needs_background": "light"
     },
     "output_type": "display_data"
    }
   ],
   "source": [
    "country_grp.get_group('India')['MainBranch'].value_counts().plot(kind='bar',figsize=(15,10))\n",
    "plt.title('India')\n"
   ]
  },
  {
   "cell_type": "code",
   "execution_count": 219,
   "id": "711e7618",
   "metadata": {},
   "outputs": [
    {
     "data": {
      "text/plain": [
       "Text(0.5, 1.0, 'USA')"
      ]
     },
     "execution_count": 219,
     "metadata": {},
     "output_type": "execute_result"
    },
    {
     "data": {
      "image/png": "[encoded data removed]",
      "text/plain": [
       "<Figure size 1080x720 with 1 Axes>"
      ]
     },
     "metadata": {
      "needs_background": "light"
     },
     "output_type": "display_data"
    }
   ],
   "source": [
    "country_grp.get_group('United States')['MainBranch'].value_counts().plot(kind='bar',figsize=(15,10))\n",
    "plt.title('USA') \n",
    "    \n",
    "\n",
    "    \n",
    "    "
   ]
  },
  {
   "cell_type": "code",
   "execution_count": 220,
   "id": "b4f7bccb",
   "metadata": {},
   "outputs": [
    {
     "data": {
      "text/plain": [
       "Text(0.5, 1.0, 'UK')"
      ]
     },
     "execution_count": 220,
     "metadata": {},
     "output_type": "execute_result"
    },
    {
     "data": {
      "image/png": "[encoded data removed]",
      "text/plain": [
       "<Figure size 1080x720 with 1 Axes>"
      ]
     },
     "metadata": {
      "needs_background": "light"
     },
     "output_type": "display_data"
    }
   ],
   "source": [
    "country_grp.get_group('United Kingdom')['MainBranch'].value_counts().plot(kind='bar',figsize=(15,10))\n",
    "plt.title('UK') "
   ]
  },
  {
   "cell_type": "markdown",
   "id": "48b6bef9",
   "metadata": {},
   "source": [
    "**StackOver flow mostly used by professionals and Students**"
   ]
  },
  {
   "cell_type": "code",
   "execution_count": 236,
   "id": "8debb08e",
   "metadata": {},
   "outputs": [
    {
     "data": {
      "text/plain": [
       "Bachelor’s degree (BA, BS, B.Eng., etc.)                                              41627\n",
       "Master’s degree (MA, MS, M.Eng., MBA, etc.)                                           19569\n",
       "Some college/university study without earning a degree                                10502\n",
       "Secondary school (e.g. American high school, German Realschule or Gymnasium, etc.)     8642\n",
       "Associate degree                                                                       2938\n",
       "Other doctoral degree (Ph.D, Ed.D., etc.)                                              2432\n",
       "Primary/elementary school                                                              1422\n",
       "Professional degree (JD, MD, etc.)                                                     1198\n",
       "I never completed any formal education                                                  553\n",
       "Name: EdLevel, dtype: int64"
      ]
     },
     "execution_count": 236,
     "metadata": {},
     "output_type": "execute_result"
    }
   ],
   "source": [
    "df2['EdLevel'].value_counts()"
   ]
  },
  {
   "cell_type": "code",
   "execution_count": 237,
   "id": "5cd03703",
   "metadata": {},
   "outputs": [],
   "source": [
    "df2['EdLevel'].replace('Some college/university study without earning a degree','Dropout',inplace=True)\n",
    "df2['EdLevel'].replace('Secondary school (e.g. American high school, German Realschule or Gymnasium, etc.)','Secondary school',inplace=True)\n",
    "df2['EdLevel'].replace('I never completed any formal education','No formal education',inplace=True)\n",
    "df2['EdLevel'].replace('Other doctoral degree (Ph.D, Ed.D., etc.)','doctoral degree',inplace=True)"
   ]
  },
  {
   "cell_type": "markdown",
   "id": "401d4ad0",
   "metadata": {},
   "source": [
    "### Education Level of Top 5 Countries Users"
   ]
  },
  {
   "cell_type": "code",
   "execution_count": 243,
   "id": "d90ce202",
   "metadata": {},
   "outputs": [
    {
     "data": {
      "text/plain": [
       "Text(0.5, 1.0, 'Education of Indian Users')"
      ]
     },
     "execution_count": 243,
     "metadata": {},
     "output_type": "execute_result"
    },
    {
     "data": {
      "image/png": "[encoded data removed]",
      "text/plain": [
       "<Figure size 1080x720 with 1 Axes>"
      ]
     },
     "metadata": {
      "needs_background": "light"
     },
     "output_type": "display_data"
    }
   ],
   "source": [
    "country_grp.get_group('India')['EdLevel'].value_counts(normalize=True).plot(kind='barh',figsize=(15,10))\n",
    "plt.title('Education of Indian Users')"
   ]
  },
  {
   "cell_type": "code",
   "execution_count": 244,
   "id": "650096a4",
   "metadata": {
    "scrolled": false
   },
   "outputs": [
    {
     "data": {
      "text/plain": [
       "Text(0.5, 1.0, 'Education of US Users')"
      ]
     },
     "execution_count": 244,
     "metadata": {},
     "output_type": "execute_result"
    },
    {
     "data": {
      "image/png": "[encoded data removed]",
      "text/plain": [
       "<Figure size 1080x720 with 1 Axes>"
      ]
     },
     "metadata": {
      "needs_background": "light"
     },
     "output_type": "display_data"
    }
   ],
   "source": [
    "country_grp.get_group('United States')['EdLevel'].value_counts(normalize=True).plot(kind='barh',figsize=(15,10))\n",
    "plt.title('Education of US Users')"
   ]
  },
  {
   "cell_type": "code",
   "execution_count": 245,
   "id": "bb0f4267",
   "metadata": {},
   "outputs": [
    {
     "data": {
      "text/plain": [
       "Text(0.5, 1.0, 'Education of UK Users')"
      ]
     },
     "execution_count": 245,
     "metadata": {},
     "output_type": "execute_result"
    },
    {
     "data": {
      "image/png": "[encoded data removed]",
      "text/plain": [
       "<Figure size 1080x720 with 1 Axes>"
      ]
     },
     "metadata": {
      "needs_background": "light"
     },
     "output_type": "display_data"
    }
   ],
   "source": [
    "country_grp.get_group('United Kingdom')['EdLevel'].value_counts(normalize=True).plot(kind='barh',figsize=(15,10))\n",
    "plt.title('Education of UK Users')"
   ]
  },
  {
   "cell_type": "code",
   "execution_count": 246,
   "id": "fc74002e",
   "metadata": {},
   "outputs": [
    {
     "data": {
      "text/plain": [
       "Text(0.5, 1.0, 'Education of Germany Users')"
      ]
     },
     "execution_count": 246,
     "metadata": {},
     "output_type": "execute_result"
    },
    {
     "data": {
      "image/png": "[encoded data removed]",
      "text/plain": [
       "<Figure size 1080x720 with 1 Axes>"
      ]
     },
     "metadata": {
      "needs_background": "light"
     },
     "output_type": "display_data"
    }
   ],
   "source": [
    "country_grp.get_group('Germany')['EdLevel'].value_counts(normalize=True).plot(kind='barh',figsize=(15,10))\n",
    "plt.title('Education of Germany Users')"
   ]
  },
  {
   "cell_type": "code",
   "execution_count": 247,
   "id": "0942d9fe",
   "metadata": {},
   "outputs": [
    {
     "data": {
      "text/plain": [
       "Text(0.5, 1.0, 'Education of Canada Users')"
      ]
     },
     "execution_count": 247,
     "metadata": {},
     "output_type": "execute_result"
    },
    {
     "data": {
      "image/png": "[encoded data removed]",
      "text/plain": [
       "<Figure size 1080x720 with 1 Axes>"
      ]
     },
     "metadata": {
      "needs_background": "light"
     },
     "output_type": "display_data"
    }
   ],
   "source": [
    "country_grp.get_group('Canada')['EdLevel'].value_counts(normalize=True).plot(kind='barh',figsize=(15,10))\n",
    "plt.title('Education of Canada Users')"
   ]
  },
  {
   "cell_type": "markdown",
   "id": "aa01b903",
   "metadata": {},
   "source": [
    "#### Most Country's users have Bachelor's Degree Followed by Masters. In Germnay Bachelor's holder and masters % is almost same.Noticed How dropouts are more in USA,Canada and UK"
   ]
  },
  {
   "cell_type": "markdown",
   "id": "0a897092",
   "metadata": {},
   "source": [
    "### Organisation size by top countres."
   ]
  },
  {
   "cell_type": "code",
   "execution_count": 264,
   "id": "1905f377",
   "metadata": {},
   "outputs": [
    {
     "data": {
      "text/plain": [
       "Text(0.5, 1.0, 'India')"
      ]
     },
     "execution_count": 264,
     "metadata": {},
     "output_type": "execute_result"
    },
    {
     "data": {
      "image/png": "[encoded data removed]",
      "text/plain": [
       "<Figure size 1080x720 with 1 Axes>"
      ]
     },
     "metadata": {
      "needs_background": "light"
     },
     "output_type": "display_data"
    }
   ],
   "source": [
    "country_grp.get_group('India')['OrgSize'].value_counts().plot(kind='bar',figsize=(15,10),\n",
    "                                                              xlabel='SizeBYEmployess',ylabel='Number of Org')\n",
    "plt.title('India')"
   ]
  },
  {
   "cell_type": "code",
   "execution_count": 265,
   "id": "0ff2df68",
   "metadata": {},
   "outputs": [
    {
     "data": {
      "text/plain": [
       "Text(0.5, 1.0, 'USA')"
      ]
     },
     "execution_count": 265,
     "metadata": {},
     "output_type": "execute_result"
    },
    {
     "data": {
      "image/png": "[encoded data removed]",
      "text/plain": [
       "<Figure size 1080x720 with 1 Axes>"
      ]
     },
     "metadata": {
      "needs_background": "light"
     },
     "output_type": "display_data"
    }
   ],
   "source": [
    "country_grp.get_group('United States')['OrgSize'].value_counts().plot(kind='bar',figsize=(15,10),\n",
    "                                                              xlabel='SizeBYEmployess',ylabel='Number of Org')\n",
    "plt.title('USA')"
   ]
  },
  {
   "cell_type": "code",
   "execution_count": 266,
   "id": "99a8278d",
   "metadata": {},
   "outputs": [
    {
     "data": {
      "text/plain": [
       "Text(0.5, 1.0, 'Germany')"
      ]
     },
     "execution_count": 266,
     "metadata": {},
     "output_type": "execute_result"
    },
    {
     "data": {
      "image/png": "[encoded data removed]",
      "text/plain": [
       "<Figure size 1080x720 with 1 Axes>"
      ]
     },
     "metadata": {
      "needs_background": "light"
     },
     "output_type": "display_data"
    }
   ],
   "source": [
    "country_grp.get_group('Germany')['OrgSize'].value_counts().plot(kind='bar',figsize=(15,10),\n",
    "                                                              xlabel='SizeBYEmployess',ylabel='Number of Org')\n",
    "plt.title('Germany')"
   ]
  },
  {
   "cell_type": "markdown",
   "id": "937f5470",
   "metadata": {},
   "source": [
    "**This Data not giving Much information because there was many missing values So showing same for every Country**"
   ]
  },
  {
   "cell_type": "markdown",
   "id": "69ec0fbd",
   "metadata": {},
   "source": [
    "### Lets check Age Data by country"
   ]
  },
  {
   "cell_type": "code",
   "execution_count": 278,
   "id": "2b3858e6",
   "metadata": {},
   "outputs": [
    {
     "data": {
      "text/plain": [
       "count    21081.000000\n",
       "mean        13.905365\n",
       "std         10.435717\n",
       "min          0.000000\n",
       "25%          6.000000\n",
       "50%         10.000000\n",
       "75%         20.000000\n",
       "max         51.000000\n",
       "Name: YearsCode, dtype: float64"
      ]
     },
     "execution_count": 278,
     "metadata": {},
     "output_type": "execute_result"
    }
   ],
   "source": [
    "country_grp.get_group('United States')['YearsCode'].describe() #agg(['mean','median','max','min'])\n"
   ]
  },
  {
   "cell_type": "code",
   "execution_count": 288,
   "id": "b3e264e5",
   "metadata": {},
   "outputs": [
    {
     "name": "stdout",
     "output_type": "stream",
     "text": [
      "USA\n",
      "--------------------------------------------\n",
      "count    21081.000000\n",
      "mean        13.905365\n",
      "std         10.435717\n",
      "min          0.000000\n",
      "25%          6.000000\n",
      "50%         10.000000\n",
      "75%         20.000000\n",
      "max         51.000000\n",
      "Name: YearsCode, dtype: float64\n",
      "India\n",
      "------------------------------------------\n",
      "count    9061.000000\n",
      "mean        6.605452\n",
      "std         4.589946\n",
      "min         0.000000\n",
      "25%         3.000000\n",
      "50%         6.000000\n",
      "75%         9.000000\n",
      "max        51.000000\n",
      "Name: YearsCode, dtype: float64\n",
      "Germany\n",
      "----------------------------------------\n",
      "count    5866.000000\n",
      "mean       12.758950\n",
      "std         8.598292\n",
      "min         0.000000\n",
      "25%         6.000000\n",
      "50%        10.000000\n",
      "75%        17.000000\n",
      "max        51.000000\n",
      "Name: YearsCode, dtype: float64\n",
      "Canada\n",
      "--------------------------------------------\n",
      "count    3395.000000\n",
      "mean       13.232695\n",
      "std         9.830924\n",
      "min         0.000000\n",
      "25%         6.000000\n",
      "50%        10.000000\n",
      "75%        19.000000\n",
      "max        51.000000\n",
      "Name: YearsCode, dtype: float64\n",
      "United Kingdom\n",
      "-------------------------------------\n",
      "count    5737.000000\n",
      "mean       14.708384\n",
      "std        10.678998\n",
      "min         0.000000\n",
      "25%         6.000000\n",
      "50%        12.000000\n",
      "75%        20.000000\n",
      "max        51.000000\n",
      "Name: YearsCode, dtype: float64\n"
     ]
    }
   ],
   "source": [
    "print('USA\\n--------------------------------------------')\n",
    "print(country_grp.get_group('United States')['YearsCode'].describe())\n",
    "print('India\\n------------------------------------------')\n",
    "print(country_grp.get_group('India')['YearsCode'].describe())\n",
    "print('Germany\\n----------------------------------------')\n",
    "print(country_grp.get_group('Germany')['YearsCode'].describe())\n",
    "print('Canada\\n--------------------------------------------')\n",
    "print(country_grp.get_group('Canada')['YearsCode'].describe())\n",
    "print('United Kingdom\\n-------------------------------------')\n",
    "print(country_grp.get_group('United Kingdom')['YearsCode'].describe())"
   ]
  },
  {
   "cell_type": "code",
   "execution_count": 301,
   "id": "4c50f920",
   "metadata": {},
   "outputs": [
    {
     "name": "stdout",
     "output_type": "stream",
     "text": [
      "mean     5.004083\n",
      "max     51.000000\n",
      "min      0.000000\n",
      "Name: YearsCodePro, dtype: float64\n",
      "mean     9.410986\n",
      "max     51.000000\n",
      "min      0.000000\n",
      "Name: YearsCodePro, dtype: float64\n"
     ]
    }
   ],
   "source": [
    "print(country_grp.get_group('India')['YearsCodePro'].agg(['mean','max','min']))\n",
    "print(country_grp.get_group('United States')['YearsCodePro'].agg(['mean','max','min']))\n"
   ]
  },
  {
   "cell_type": "markdown",
   "id": "fe1e0a92",
   "metadata": {},
   "source": [
    "**Not geeting much information from these columns**"
   ]
  },
  {
   "cell_type": "code",
   "execution_count": 303,
   "id": "1463b41c",
   "metadata": {},
   "outputs": [],
   "source": [
    "df2['JobSeek'].replace('I’m not actively looking, but I am open to new opportunities','I am open to new opportunities',inplace=True)\n",
    "df2['JobSeek'].replace('I am not interested in new job opportunities','I am not interested',inplace=True)\n"
   ]
  },
  {
   "cell_type": "code",
   "execution_count": null,
   "id": "5d6f405e",
   "metadata": {},
   "outputs": [],
   "source": [
    "### Check if users looking for job or not by country"
   ]
  },
  {
   "cell_type": "code",
   "execution_count": 309,
   "id": "5a26361d",
   "metadata": {
    "scrolled": false
   },
   "outputs": [
    {
     "data": {
      "text/plain": [
       "Text(0.5, 1.0, 'Germany')"
      ]
     },
     "execution_count": 309,
     "metadata": {},
     "output_type": "execute_result"
    },
    {
     "data": {
      "image/png": "[encoded data removed]",
      "text/plain": [
       "<Figure size 1080x720 with 1 Axes>"
      ]
     },
     "metadata": {
      "needs_background": "light"
     },
     "output_type": "display_data"
    }
   ],
   "source": [
    "country_grp.get_group('Germany')['JobSeek'].value_counts(normalize=True).plot(kind='barh',figsize=(15,10))\n",
    "plt.title('Germany',fontsize=20)"
   ]
  },
  {
   "cell_type": "code",
   "execution_count": 311,
   "id": "5b7e093a",
   "metadata": {},
   "outputs": [
    {
     "data": {
      "text/plain": [
       "Text(0.5, 1.0, 'India')"
      ]
     },
     "execution_count": 311,
     "metadata": {},
     "output_type": "execute_result"
    },
    {
     "data": {
      "image/png": "[encoded data removed]",
      "text/plain": [
       "<Figure size 1080x720 with 1 Axes>"
      ]
     },
     "metadata": {
      "needs_background": "light"
     },
     "output_type": "display_data"
    }
   ],
   "source": [
    "country_grp.get_group('India')['JobSeek'].value_counts().plot(kind='barh',figsize=(15,10))\n",
    "plt.title('India',fontsize=20)"
   ]
  },
  {
   "cell_type": "code",
   "execution_count": 312,
   "id": "80e3e8cf",
   "metadata": {},
   "outputs": [
    {
     "data": {
      "text/plain": [
       "Text(0.5, 1.0, 'USA')"
      ]
     },
     "execution_count": 312,
     "metadata": {},
     "output_type": "execute_result"
    },
    {
     "data": {
      "image/png": "[encoded data removed]",
      "text/plain": [
       "<Figure size 1080x720 with 1 Axes>"
      ]
     },
     "metadata": {
      "needs_background": "light"
     },
     "output_type": "display_data"
    }
   ],
   "source": [
    "country_grp.get_group('United States')['JobSeek'].value_counts().plot(kind='barh',figsize=(15,10))\n",
    "plt.title('USA',fontsize=20)"
   ]
  },
  {
   "cell_type": "code",
   "execution_count": 313,
   "id": "fdb168c2",
   "metadata": {},
   "outputs": [
    {
     "data": {
      "text/plain": [
       "Text(0.5, 1.0, 'Canada')"
      ]
     },
     "execution_count": 313,
     "metadata": {},
     "output_type": "execute_result"
    },
    {
     "data": {
      "image/png": "[encoded data removed]",
      "text/plain": [
       "<Figure size 1080x720 with 1 Axes>"
      ]
     },
     "metadata": {
      "needs_background": "light"
     },
     "output_type": "display_data"
    }
   ],
   "source": [
    "country_grp.get_group('Canada')['JobSeek'].value_counts().plot(kind='barh',figsize=(15,10))\n",
    "plt.title('Canada',fontsize=20)"
   ]
  },
  {
   "cell_type": "code",
   "execution_count": 314,
   "id": "d53aa1c1",
   "metadata": {},
   "outputs": [
    {
     "data": {
      "text/plain": [
       "Text(0.5, 1.0, 'UK')"
      ]
     },
     "execution_count": 314,
     "metadata": {},
     "output_type": "execute_result"
    },
    {
     "data": {
      "image/png": "[encoded data removed]",
      "text/plain": [
       "<Figure size 1080x720 with 1 Axes>"
      ]
     },
     "metadata": {
      "needs_background": "light"
     },
     "output_type": "display_data"
    }
   ],
   "source": [
    "country_grp.get_group('United Kingdom')['JobSeek'].value_counts().plot(kind='barh',figsize=(15,10))\n",
    "plt.title('UK',fontsize=20)"
   ]
  },
  {
   "cell_type": "markdown",
   "id": "80b77f76",
   "metadata": {},
   "source": [
    "#### In most of the countries users already working, followed by not interested but in India people also looking for work."
   ]
  },
  {
   "cell_type": "markdown",
   "id": "af961328",
   "metadata": {},
   "source": [
    "### Lets check the salary accross the countires"
   ]
  },
  {
   "cell_type": "code",
   "execution_count": 331,
   "id": "faa9c859",
   "metadata": {},
   "outputs": [
    {
     "name": "stdout",
     "output_type": "stream",
     "text": [
      "India\n",
      "------------------------------\n"
     ]
    },
    {
     "data": {
      "text/plain": [
       "count       9061.0\n",
       "mean       44387.0\n",
       "std        58706.0\n",
       "min            0.0\n",
       "1%           316.0\n",
       "3%          2016.0\n",
       "5%          2940.0\n",
       "50%        57287.0\n",
       "95%        57287.0\n",
       "96%        57287.0\n",
       "97%        67164.0\n",
       "98%       115883.0\n",
       "99%       218292.0\n",
       "max      2000000.0\n",
       "Name: ConvertedComp, dtype: float64"
      ]
     },
     "execution_count": 331,
     "metadata": {},
     "output_type": "execute_result"
    }
   ],
   "source": [
    "print('India\\n------------------------------')\n",
    "round(country_grp.get_group('India')['ConvertedComp'].describe(percentiles=[0.01,0.03,0.05,0.95,0.96,0.97,0.98,0.99]))"
   ]
  },
  {
   "cell_type": "code",
   "execution_count": 332,
   "id": "7f74b94d",
   "metadata": {},
   "outputs": [
    {
     "name": "stdout",
     "output_type": "stream",
     "text": [
      "USA\n",
      "-----------------------------------\n"
     ]
    },
    {
     "data": {
      "text/plain": [
       "count      21081.0\n",
       "mean      193914.0\n",
       "std       390962.0\n",
       "min            0.0\n",
       "1%         15000.0\n",
       "3%         40000.0\n",
       "5%         50000.0\n",
       "50%        85000.0\n",
       "95%      1080000.0\n",
       "96%      1440000.0\n",
       "97%      2000000.0\n",
       "98%      2000000.0\n",
       "99%      2000000.0\n",
       "max      2000000.0\n",
       "Name: ConvertedComp, dtype: float64"
      ]
     },
     "execution_count": 332,
     "metadata": {},
     "output_type": "execute_result"
    }
   ],
   "source": [
    "print('USA\\n-----------------------------------')\n",
    "round(country_grp.get_group('United States')['ConvertedComp'].describe(percentiles=[0.01,0.03,0.05,0.95,0.96,0.97,0.98,0.99]))"
   ]
  },
  {
   "cell_type": "code",
   "execution_count": 330,
   "id": "6a318f5d",
   "metadata": {
    "scrolled": true
   },
   "outputs": [
    {
     "name": "stdout",
     "output_type": "stream",
     "text": [
      "Germany\n",
      "-----------------------------------\n"
     ]
    },
    {
     "data": {
      "text/plain": [
       "count       5866.0\n",
       "mean       90758.0\n",
       "std       152419.0\n",
       "min            0.0\n",
       "1%          7053.0\n",
       "3%         12372.0\n",
       "5%         16968.0\n",
       "50%        57287.0\n",
       "95%       170100.0\n",
       "96%       412464.0\n",
       "97%       687444.0\n",
       "98%       783696.0\n",
       "99%       962424.0\n",
       "100%     2000000.0\n",
       "max      2000000.0\n",
       "Name: ConvertedComp, dtype: float64"
      ]
     },
     "execution_count": 330,
     "metadata": {},
     "output_type": "execute_result"
    }
   ],
   "source": [
    "print('Germany\\n-----------------------------------')\n",
    "round(country_grp.get_group('Germany')['ConvertedComp'].describe(percentiles=[0.01,0.03,0.05,0.95,0.96,0.97,0.98,0.99]))"
   ]
  },
  {
   "cell_type": "code",
   "execution_count": 333,
   "id": "e6a33e60",
   "metadata": {},
   "outputs": [
    {
     "name": "stdout",
     "output_type": "stream",
     "text": [
      "Canada\n",
      "-----------------------------------\n"
     ]
    },
    {
     "data": {
      "text/plain": [
       "count       3395.0\n",
       "mean      108298.0\n",
       "std       190389.0\n",
       "min            0.0\n",
       "1%          8899.0\n",
       "3%         27500.0\n",
       "5%         34352.0\n",
       "50%        57287.0\n",
       "95%       371002.0\n",
       "96%       727049.0\n",
       "97%      1000000.0\n",
       "98%      1000000.0\n",
       "99%      1000000.0\n",
       "max      2000000.0\n",
       "Name: ConvertedComp, dtype: float64"
      ]
     },
     "execution_count": 333,
     "metadata": {},
     "output_type": "execute_result"
    }
   ],
   "source": [
    "print('Canada\\n-----------------------------------')\n",
    "round(country_grp.get_group('Canada')['ConvertedComp'].describe(percentiles=[0.01,0.03,0.05,0.95,0.96,0.97,0.98,0.99]))"
   ]
  },
  {
   "cell_type": "code",
   "execution_count": 334,
   "id": "1b227ddb",
   "metadata": {},
   "outputs": [
    {
     "name": "stdout",
     "output_type": "stream",
     "text": [
      "UK\n",
      "-----------------------------------\n"
     ]
    },
    {
     "data": {
      "text/plain": [
       "count       5737.0\n",
       "mean      133857.0\n",
       "std       210150.0\n",
       "min            0.0\n",
       "1%         16005.0\n",
       "3%         26169.0\n",
       "5%         31403.0\n",
       "50%        57287.0\n",
       "95%       706572.0\n",
       "96%       785088.0\n",
       "97%       863592.0\n",
       "98%       973500.0\n",
       "99%      1000000.0\n",
       "max      2000000.0\n",
       "Name: ConvertedComp, dtype: float64"
      ]
     },
     "execution_count": 334,
     "metadata": {},
     "output_type": "execute_result"
    }
   ],
   "source": [
    "print('UK\\n-----------------------------------')\n",
    "round(country_grp.get_group('United Kingdom')['ConvertedComp'].describe(percentiles=[0.01,0.03,0.05,0.95,0.96,0.97,0.98,0.99]))"
   ]
  },
  {
   "cell_type": "markdown",
   "id": "91c58011",
   "metadata": {},
   "source": [
    "#### There is outliers but if, we ignore it salaries are more in USA,UK,Germany and Canada. India is far behind"
   ]
  },
  {
   "cell_type": "code",
   "execution_count": 347,
   "id": "e7f4d4f9",
   "metadata": {},
   "outputs": [
    {
     "data": {
      "text/plain": [
       "mean        41.354575\n",
       "median      40.000000\n",
       "max       4850.000000\n",
       "min          2.000000\n",
       "Name: WorkWeekHrs, dtype: float64"
      ]
     },
     "execution_count": 347,
     "metadata": {},
     "output_type": "execute_result"
    }
   ],
   "source": [
    "country_grp.get_group('India')['WorkWeekHrs'].agg(['mean','median','max','min'])"
   ]
  },
  {
   "cell_type": "code",
   "execution_count": 349,
   "id": "08a27609",
   "metadata": {
    "scrolled": true
   },
   "outputs": [
    {
     "data": {
      "text/plain": [
       "mean       41.641599\n",
       "median     40.000000\n",
       "max       168.000000\n",
       "min         1.000000\n",
       "Name: WorkWeekHrs, dtype: float64"
      ]
     },
     "execution_count": 349,
     "metadata": {},
     "output_type": "execute_result"
    }
   ],
   "source": [
    "country_grp.get_group('United States')['WorkWeekHrs'].agg(['mean','median','max','min'])"
   ]
  },
  {
   "cell_type": "code",
   "execution_count": 365,
   "id": "678daa08",
   "metadata": {},
   "outputs": [
    {
     "data": {
      "text/plain": [
       "mean       40.177711\n",
       "median     40.000000\n",
       "max       425.000000\n",
       "min         3.000000\n",
       "Name: WorkWeekHrs, dtype: float64"
      ]
     },
     "execution_count": 365,
     "metadata": {},
     "output_type": "execute_result"
    }
   ],
   "source": [
    "country_grp.get_group('Germany')['WorkWeekHrs'].agg(['mean','median','max','min'])"
   ]
  },
  {
   "cell_type": "code",
   "execution_count": 384,
   "id": "040b2025",
   "metadata": {},
   "outputs": [
    {
     "data": {
      "text/plain": [
       "mean       39.64756\n",
       "median     40.00000\n",
       "max       375.00000\n",
       "min         3.50000\n",
       "Name: WorkWeekHrs, dtype: float64"
      ]
     },
     "execution_count": 384,
     "metadata": {},
     "output_type": "execute_result"
    }
   ],
   "source": [
    "country_grp.get_group('United Kingdom')['WorkWeekHrs'].agg(['mean','median','max','min'])"
   ]
  },
  {
   "cell_type": "markdown",
   "id": "416eae1a",
   "metadata": {},
   "source": [
    "**Average working hours also around 40 and same in every country**"
   ]
  },
  {
   "cell_type": "code",
   "execution_count": 385,
   "id": "977bf7ee",
   "metadata": {},
   "outputs": [
    {
     "data": {
      "text/plain": [
       "Office                                            59420\n",
       "Home                                              23278\n",
       "Other place, such as a coworking space or cafe     6185\n",
       "Name: WorkLoc, dtype: int64"
      ]
     },
     "execution_count": 385,
     "metadata": {},
     "output_type": "execute_result"
    }
   ],
   "source": [
    "df2['WorkLoc'].value_counts()"
   ]
  },
  {
   "cell_type": "code",
   "execution_count": 386,
   "id": "2b435fe9",
   "metadata": {},
   "outputs": [],
   "source": [
    "df2['WorkLoc'].replace('Other place, such as a coworking space or cafe','coworking space or cafe',inplace=True)"
   ]
  },
  {
   "cell_type": "code",
   "execution_count": 388,
   "id": "738ed2a9",
   "metadata": {},
   "outputs": [
    {
     "data": {
      "text/plain": [
       "<AxesSubplot:>"
      ]
     },
     "execution_count": 388,
     "metadata": {},
     "output_type": "execute_result"
    },
    {
     "data": {
      "image/png": "[encoded data removed]",
      "text/plain": [
       "<Figure size 432x288 with 1 Axes>"
      ]
     },
     "metadata": {
      "needs_background": "light"
     },
     "output_type": "display_data"
    }
   ],
   "source": [
    "country_grp.get_group('India')['WorkLoc'].value_counts().plot(kind='bar')"
   ]
  },
  {
   "cell_type": "code",
   "execution_count": 389,
   "id": "bf5e0764",
   "metadata": {},
   "outputs": [
    {
     "data": {
      "text/plain": [
       "<AxesSubplot:>"
      ]
     },
     "execution_count": 389,
     "metadata": {},
     "output_type": "execute_result"
    },
    {
     "data": {
      "image/png": "[encoded data removed]",
      "text/plain": [
       "<Figure size 432x288 with 1 Axes>"
      ]
     },
     "metadata": {
      "needs_background": "light"
     },
     "output_type": "display_data"
    }
   ],
   "source": [
    "country_grp.get_group('India')['WorkLoc'].value_counts().plot(kind='bar')"
   ]
  },
  {
   "cell_type": "markdown",
   "id": "c8e99273",
   "metadata": {},
   "source": [
    "**As this survey is from 2019 so large number of people used to work from office**"
   ]
  },
  {
   "cell_type": "markdown",
   "id": "1aa653c9",
   "metadata": {},
   "source": [
    "#### Lets check most used programming languages"
   ]
  },
  {
   "cell_type": "code",
   "execution_count": 395,
   "id": "1afb3718",
   "metadata": {},
   "outputs": [],
   "source": [
    "country_knows_Python = country_grp['LanguageWorkedWith'].apply(lambda x : x.str.contains('Python').sum())"
   ]
  },
  {
   "cell_type": "code",
   "execution_count": 396,
   "id": "02a63ad8",
   "metadata": {},
   "outputs": [],
   "source": [
    "country_knows_Java = country_grp['LanguageWorkedWith'].apply(lambda x : x.str.contains(\"JavaScript\").sum())"
   ]
  },
  {
   "cell_type": "code",
   "execution_count": 397,
   "id": "80a7797d",
   "metadata": {},
   "outputs": [],
   "source": [
    "country_knows_C = country_grp['LanguageWorkedWith'].apply(lambda x : x.str.contains(\"C+\").sum())"
   ]
  },
  {
   "cell_type": "code",
   "execution_count": 398,
   "id": "92c31028",
   "metadata": {},
   "outputs": [],
   "source": [
    "respondents = df2['Country'].value_counts()"
   ]
  },
  {
   "cell_type": "code",
   "execution_count": 416,
   "id": "9162468a",
   "metadata": {},
   "outputs": [],
   "source": [
    "Top_3_lang = pd.concat([respondents,country_knows_Python,country_knows_Java,country_knows_C],axis=1,keys=['Total-users','Python','Java','C'])"
   ]
  },
  {
   "cell_type": "code",
   "execution_count": 418,
   "id": "607c0d1d",
   "metadata": {},
   "outputs": [
    {
     "data": {
      "text/plain": [
       "<AxesSubplot:>"
      ]
     },
     "execution_count": 418,
     "metadata": {},
     "output_type": "execute_result"
    },
    {
     "data": {
      "image/png": "[encoded data removed]",
      "text/plain": [
       "<Figure size 1080x720 with 1 Axes>"
      ]
     },
     "metadata": {
      "needs_background": "light"
     },
     "output_type": "display_data"
    }
   ],
   "source": [
    "Top_3_lang.head(10).plot(kind='bar',figsize=(15,10))"
   ]
  },
  {
   "cell_type": "markdown",
   "id": "c169db6d",
   "metadata": {},
   "source": [
    "### It seems that C++ was most popular in 2019, followed by Javascript. Python was growing at that time."
   ]
  },
  {
   "cell_type": "code",
   "execution_count": 421,
   "id": "5d224b20",
   "metadata": {},
   "outputs": [],
   "source": [
    "pyCharm = country_grp['DevEnviron'].apply(lambda x : x.str.contains('PyCharm').sum())\n",
    "atom = country_grp['DevEnviron'].apply(lambda x : x.str.contains('Atom').sum())\n",
    "vs_code =country_grp['DevEnviron'].apply(lambda x : x.str.contains('Visual Studio Code').sum())\n",
    "jupyter = country_grp['DevEnviron'].apply(lambda x : x.str.contains('Jupyter').sum())"
   ]
  },
  {
   "cell_type": "code",
   "execution_count": 422,
   "id": "a8a041cc",
   "metadata": {},
   "outputs": [],
   "source": [
    "top_IDEs = pd.concat([respondents,pyCharm,atom,vs_code,jupyter],axis=1,keys=['Total','PyCharm','Atom','VSCode','Jupyter'])"
   ]
  },
  {
   "cell_type": "code",
   "execution_count": 427,
   "id": "48c3c5c8",
   "metadata": {},
   "outputs": [
    {
     "data": {
      "text/plain": [
       "Text(0.5, 1.0, 'Top 4 IDEs')"
      ]
     },
     "execution_count": 427,
     "metadata": {},
     "output_type": "execute_result"
    },
    {
     "data": {
      "image/png": "[encoded data removed]",
      "text/plain": [
       "<Figure size 1080x720 with 1 Axes>"
      ]
     },
     "metadata": {
      "needs_background": "light"
     },
     "output_type": "display_data"
    }
   ],
   "source": [
    "top_IDEs.head(10).plot(kind='bar',figsize=(15,10))\n",
    "plt.title('Top 4 IDEs',fontsize=20)"
   ]
  },
  {
   "cell_type": "markdown",
   "id": "f7839755",
   "metadata": {},
   "source": [
    "**It seems like VS Code is most popular Development Environment across all countries.Followed by Atom and Pycharm.**"
   ]
  },
  {
   "cell_type": "code",
   "execution_count": 438,
   "id": "adf4e51c",
   "metadata": {},
   "outputs": [],
   "source": [
    "windows = country_grp['OpSys'].apply(lambda x : x.str.contains('Windows').sum())\n",
    "Linux_based = country_grp['OpSys'].apply(lambda x : x.str.contains('Linux-based').sum())\n",
    "MacOS = country_grp['OpSys'].apply(lambda x : x.str.contains('MacOS').sum())"
   ]
  },
  {
   "cell_type": "code",
   "execution_count": 439,
   "id": "05e10ae1",
   "metadata": {},
   "outputs": [],
   "source": [
    "top_op_sys = pd.concat([respondents,windows,Linux_based,MacOS],axis=1,keys=['Total','Windows','Linux','MacOS'])"
   ]
  },
  {
   "cell_type": "code",
   "execution_count": 444,
   "id": "6930c613",
   "metadata": {},
   "outputs": [
    {
     "data": {
      "text/plain": [
       "Text(0.5, 1.0, 'Top Op Systems')"
      ]
     },
     "execution_count": 444,
     "metadata": {},
     "output_type": "execute_result"
    },
    {
     "data": {
      "image/png": "[encoded data removed]",
      "text/plain": [
       "<Figure size 1080x720 with 1 Axes>"
      ]
     },
     "metadata": {
      "needs_background": "light"
     },
     "output_type": "display_data"
    }
   ],
   "source": [
    "top_op_sys.head(10).plot(kind='barh',figsize=(15,10))\n",
    "plt.title('Top Op Systems',fontsize=20)"
   ]
  },
  {
   "cell_type": "markdown",
   "id": "13ee049d",
   "metadata": {},
   "source": [
    "#### Windows are top choice eveywhere becuase its cheap and easy to available, Followed by Mac. \n",
    "#### In USA Mac users are very close to windows becuase its cheap there. In india Linux is second choice."
   ]
  },
  {
   "cell_type": "markdown",
   "id": "5dd4c8e7",
   "metadata": {},
   "source": [
    "## Lets find out popular social media plateform by country"
   ]
  },
  {
   "cell_type": "code",
   "execution_count": 451,
   "id": "202e03c3",
   "metadata": {},
   "outputs": [
    {
     "data": {
      "text/plain": [
       "Text(0.5, 1.0, 'Social Media sites in USA')"
      ]
     },
     "execution_count": 451,
     "metadata": {},
     "output_type": "execute_result"
    },
    {
     "data": {
      "image/png": "[encoded data removed]",
      "text/plain": [
       "<Figure size 1080x720 with 1 Axes>"
      ]
     },
     "metadata": {
      "needs_background": "light"
     },
     "output_type": "display_data"
    }
   ],
   "source": [
    "country_grp.get_group('United States')['SocialMedia'].value_counts().head().plot(kind='bar',figsize=(15,10))\n",
    "plt.title('Social Media sites in USA',fontsize=15)"
   ]
  },
  {
   "cell_type": "code",
   "execution_count": 452,
   "id": "22a78cad",
   "metadata": {},
   "outputs": [
    {
     "data": {
      "text/plain": [
       "Text(0.5, 1.0, 'Social Media sites in India')"
      ]
     },
     "execution_count": 452,
     "metadata": {},
     "output_type": "execute_result"
    },
    {
     "data": {
      "image/png": "[encoded data removed]",
      "text/plain": [
       "<Figure size 1080x720 with 1 Axes>"
      ]
     },
     "metadata": {
      "needs_background": "light"
     },
     "output_type": "display_data"
    }
   ],
   "source": [
    "country_grp.get_group('India')['SocialMedia'].value_counts().head().plot(kind='bar',figsize=(15,10))\n",
    "plt.title('Social Media sites in India',fontsize=15)"
   ]
  },
  {
   "cell_type": "code",
   "execution_count": 453,
   "id": "dbb4b002",
   "metadata": {},
   "outputs": [
    {
     "data": {
      "text/plain": [
       "Text(0.5, 1.0, 'Social Media sites in Germany')"
      ]
     },
     "execution_count": 453,
     "metadata": {},
     "output_type": "execute_result"
    },
    {
     "data": {
      "image/png": "[encoded data removed]",
      "text/plain": [
       "<Figure size 1080x720 with 1 Axes>"
      ]
     },
     "metadata": {
      "needs_background": "light"
     },
     "output_type": "display_data"
    }
   ],
   "source": [
    "country_grp.get_group('Germany')['SocialMedia'].value_counts().head().plot(kind='bar',figsize=(15,10))\n",
    "plt.title('Social Media sites in Germany',fontsize=15)"
   ]
  },
  {
   "cell_type": "code",
   "execution_count": 454,
   "id": "8f16bc1d",
   "metadata": {},
   "outputs": [
    {
     "data": {
      "text/plain": [
       "Text(0.5, 1.0, 'Social Media sites in UK')"
      ]
     },
     "execution_count": 454,
     "metadata": {},
     "output_type": "execute_result"
    },
    {
     "data": {
      "image/png": "[encoded data removed]",
      "text/plain": [
       "<Figure size 1080x720 with 1 Axes>"
      ]
     },
     "metadata": {
      "needs_background": "light"
     },
     "output_type": "display_data"
    }
   ],
   "source": [
    "country_grp.get_group('United Kingdom')['SocialMedia'].value_counts().head().plot(kind='bar',figsize=(15,10))\n",
    "plt.title('Social Media sites in UK',fontsize=15)"
   ]
  },
  {
   "cell_type": "code",
   "execution_count": 455,
   "id": "5d2361d9",
   "metadata": {},
   "outputs": [
    {
     "data": {
      "text/plain": [
       "Text(0.5, 1.0, 'Social Media sites in canada')"
      ]
     },
     "execution_count": 455,
     "metadata": {},
     "output_type": "execute_result"
    },
    {
     "data": {
      "image/png": "[encoded data removed]",
      "text/plain": [
       "<Figure size 1080x720 with 1 Axes>"
      ]
     },
     "metadata": {
      "needs_background": "light"
     },
     "output_type": "display_data"
    }
   ],
   "source": [
    "country_grp.get_group('Canada')['SocialMedia'].value_counts().head().plot(kind='bar',figsize=(15,10))\n",
    "plt.title('Social Media sites in canada',fontsize=15)"
   ]
  },
  {
   "cell_type": "code",
   "execution_count": 458,
   "id": "383a6e7e",
   "metadata": {},
   "outputs": [
    {
     "data": {
      "text/plain": [
       "Text(0.5, 1.0, 'Social Media sites in China')"
      ]
     },
     "execution_count": 458,
     "metadata": {},
     "output_type": "execute_result"
    },
    {
     "data": {
      "image/png": "[encoded data removed]",
      "text/plain": [
       "<Figure size 1080x720 with 1 Axes>"
      ]
     },
     "metadata": {
      "needs_background": "light"
     },
     "output_type": "display_data"
    }
   ],
   "source": [
    "country_grp.get_group('China')['SocialMedia'].value_counts().head().plot(kind='bar',figsize=(15,10))\n",
    "plt.title('Social Media sites in China',fontsize=15)"
   ]
  },
  {
   "cell_type": "code",
   "execution_count": 460,
   "id": "624b4549",
   "metadata": {},
   "outputs": [
    {
     "data": {
      "text/plain": [
       "Text(0.5, 1.0, 'Social Media sites in Russia')"
      ]
     },
     "execution_count": 460,
     "metadata": {},
     "output_type": "execute_result"
    },
    {
     "data": {
      "image/png": "[encoded data removed]",
      "text/plain": [
       "<Figure size 1080x720 with 1 Axes>"
      ]
     },
     "metadata": {
      "needs_background": "light"
     },
     "output_type": "display_data"
    }
   ],
   "source": [
    "country_grp.get_group('Russian Federation')['SocialMedia'].value_counts().head().plot(kind='bar',figsize=(15,10))\n",
    "plt.title('Social Media sites in Russia',fontsize=15)"
   ]
  },
  {
   "cell_type": "markdown",
   "id": "227a2831",
   "metadata": {},
   "source": [
    "#### In US and Europe Reddit is most popular followed by twitter and youtube.In India whatsapp and youtube is more used.\n",
    "#### Meanwhile China and Russia have their own Socail media plateform followed by reddit and youtube."
   ]
  },
  {
   "cell_type": "code",
   "execution_count": 464,
   "id": "9959bc7b",
   "metadata": {},
   "outputs": [
    {
     "data": {
      "text/plain": [
       "mean      26.522216\n",
       "median    27.000000\n",
       "min        1.000000\n",
       "max       98.000000\n",
       "Name: Age, dtype: float64"
      ]
     },
     "execution_count": 464,
     "metadata": {},
     "output_type": "execute_result"
    }
   ],
   "source": [
    "country_grp.get_group('India')['Age'].agg(['mean','median','min','max'])"
   ]
  },
  {
   "cell_type": "code",
   "execution_count": 465,
   "id": "6405ded4",
   "metadata": {},
   "outputs": [
    {
     "data": {
      "text/plain": [
       "mean      32.358565\n",
       "median    29.000000\n",
       "min        1.000000\n",
       "max       99.000000\n",
       "Name: Age, dtype: float64"
      ]
     },
     "execution_count": 465,
     "metadata": {},
     "output_type": "execute_result"
    }
   ],
   "source": [
    "country_grp.get_group('United States')['Age'].agg(['mean','median','min','max'])"
   ]
  },
  {
   "cell_type": "code",
   "execution_count": 466,
   "id": "c176498c",
   "metadata": {},
   "outputs": [
    {
     "data": {
      "text/plain": [
       "mean      27.433735\n",
       "median    29.000000\n",
       "min        1.000000\n",
       "max       70.000000\n",
       "Name: Age, dtype: float64"
      ]
     },
     "execution_count": 466,
     "metadata": {},
     "output_type": "execute_result"
    }
   ],
   "source": [
    "country_grp.get_group('China')['Age'].agg(['mean','median','min','max'])"
   ]
  },
  {
   "cell_type": "code",
   "execution_count": 467,
   "id": "3ee0996d",
   "metadata": {},
   "outputs": [
    {
     "data": {
      "text/plain": [
       "mean      30.077105\n",
       "median    29.000000\n",
       "min        2.000000\n",
       "max       99.000000\n",
       "Name: Age, dtype: float64"
      ]
     },
     "execution_count": 467,
     "metadata": {},
     "output_type": "execute_result"
    }
   ],
   "source": [
    "country_grp.get_group('Germany')['Age'].agg(['mean','median','min','max'])"
   ]
  },
  {
   "cell_type": "markdown",
   "id": "1c850590",
   "metadata": {},
   "source": [
    "#### Age feature doesn't give much information becuase of outliers but median age is almost same in every country."
   ]
  },
  {
   "cell_type": "code",
   "execution_count": null,
   "id": "cc35ee74",
   "metadata": {},
   "outputs": [],
   "source": []
  }
 ],
 "metadata": {
  "kernelspec": {
   "display_name": "Python 3 (ipykernel)",
   "language": "python",
   "name": "python3"
  },
  "language_info": {
   "codemirror_mode": {
    "name": "ipython",
    "version": 3
   },
   "file_extension": ".py",
   "mimetype": "text/x-python",
   "name": "python",
   "nbconvert_exporter": "python",
   "pygments_lexer": "ipython3",
   "version": "3.9.7"
  }
 },
 "nbformat": 4,
 "nbformat_minor": 5
}
